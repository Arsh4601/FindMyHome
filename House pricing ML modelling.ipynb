{
 "cells": [
  {
   "cell_type": "markdown",
   "id": "c8160575",
   "metadata": {},
   "source": [
    "# Data Description"
   ]
  },
  {
   "cell_type": "code",
   "execution_count": null,
   "id": "3335dc6b",
   "metadata": {},
   "outputs": [],
   "source": []
  },
  {
   "cell_type": "raw",
   "id": "3062a08a",
   "metadata": {},
   "source": [
    "MSSubClass: Identifies the type of dwelling involved in the sale.\t\n",
    "\n",
    "        20\t1-STORY 1946 & NEWER ALL STYLES\n",
    "        30\t1-STORY 1945 & OLDER\n",
    "        40\t1-STORY W/FINISHED ATTIC ALL AGES\n",
    "        45\t1-1/2 STORY - UNFINISHED ALL AGES\n",
    "        50\t1-1/2 STORY FINISHED ALL AGES\n",
    "        60\t2-STORY 1946 & NEWER\n",
    "        70\t2-STORY 1945 & OLDER\n",
    "        75\t2-1/2 STORY ALL AGES\n",
    "        80\tSPLIT OR MULTI-LEVEL\n",
    "        85\tSPLIT FOYER\n",
    "        90\tDUPLEX - ALL STYLES AND AGES\n",
    "       120\t1-STORY PUD (Planned Unit Development) - 1946 & NEWER\n",
    "       150\t1-1/2 STORY PUD - ALL AGES\n",
    "       160\t2-STORY PUD - 1946 & NEWER\n",
    "       180\tPUD - MULTILEVEL - INCL SPLIT LEV/FOYER\n",
    "       190\t2 FAMILY CONVERSION - ALL STYLES AND AGES\n",
    "\n",
    "MSZoning: Identifies the general zoning classification of the sale.\n",
    "\t\t\n",
    "       A\tAgriculture\n",
    "       C\tCommercial\n",
    "       FV\tFloating Village Residential\n",
    "       I\tIndustrial\n",
    "       RH\tResidential High Density\n",
    "       RL\tResidential Low Density\n",
    "       RP\tResidential Low Density Park \n",
    "       RM\tResidential Medium Density\n",
    "\t\n",
    "LotFrontage: Linear feet of street connected to property\n",
    "\n",
    "LotArea: Lot size in square feet\n",
    "\n",
    "Street: Type of road access to property\n",
    "\n",
    "       Grvl\tGravel\t\n",
    "       Pave\tPaved\n",
    "       \t\n",
    "Alley: Type of alley access to property\n",
    "\n",
    "       Grvl\tGravel\n",
    "       Pave\tPaved\n",
    "       NA \tNo alley access\n",
    "\t\t\n",
    "LotShape: General shape of property\n",
    "\n",
    "       Reg\tRegular\t\n",
    "       IR1\tSlightly irregular\n",
    "       IR2\tModerately Irregular\n",
    "       IR3\tIrregular\n",
    "       \n",
    "LandContour: Flatness of the property\n",
    "\n",
    "       Lvl\tNear Flat/Level\t\n",
    "       Bnk\tBanked - Quick and significant rise from street grade to building\n",
    "       HLS\tHillside - Significant slope from side to side\n",
    "       Low\tDepression\n",
    "\t\t\n",
    "Utilities: Type of utilities available\n",
    "\t\t\n",
    "       AllPub\tAll public Utilities (E,G,W,& S)\t\n",
    "       NoSewr\tElectricity, Gas, and Water (Septic Tank)\n",
    "       NoSeWa\tElectricity and Gas Only\n",
    "       ELO\tElectricity only\t\n",
    "\t\n",
    "LotConfig: Lot configuration\n",
    "\n",
    "       Inside\tInside lot\n",
    "       Corner\tCorner lot\n",
    "       CulDSac\tCul-de-sac\n",
    "       FR2\tFrontage on 2 sides of property\n",
    "       FR3\tFrontage on 3 sides of property\n",
    "\t\n",
    "LandSlope: Slope of property\n",
    "\t\t\n",
    "       Gtl\tGentle slope\n",
    "       Mod\tModerate Slope\t\n",
    "       Sev\tSevere Slope\n",
    "\t\n",
    "Neighborhood: Physical locations within Ames city limits\n",
    "\n",
    "       Blmngtn\tBloomington Heights\n",
    "       Blueste\tBluestem\n",
    "       BrDale\tBriardale\n",
    "       BrkSide\tBrookside\n",
    "       ClearCr\tClear Creek\n",
    "       CollgCr\tCollege Creek\n",
    "       Crawfor\tCrawford\n",
    "       Edwards\tEdwards\n",
    "       Gilbert\tGilbert\n",
    "       IDOTRR\tIowa DOT and Rail Road\n",
    "       MeadowV\tMeadow Village\n",
    "       Mitchel\tMitchell\n",
    "       Names\tNorth Ames\n",
    "       NoRidge\tNorthridge\n",
    "       NPkVill\tNorthpark Villa\n",
    "       NridgHt\tNorthridge Heights\n",
    "       NWAmes\tNorthwest Ames\n",
    "       OldTown\tOld Town\n",
    "       SWISU\tSouth & West of Iowa State University\n",
    "       Sawyer\tSawyer\n",
    "       SawyerW\tSawyer West\n",
    "       Somerst\tSomerset\n",
    "       StoneBr\tStone Brook\n",
    "       Timber\tTimberland\n",
    "       Veenker\tVeenker\n",
    "\t\t\t\n",
    "Condition1: Proximity to various conditions\n",
    "\t\n",
    "       Artery\tAdjacent to arterial street\n",
    "       Feedr\tAdjacent to feeder street\t\n",
    "       Norm\tNormal\t\n",
    "       RRNn\tWithin 200' of North-South Railroad\n",
    "       RRAn\tAdjacent to North-South Railroad\n",
    "       PosN\tNear positive off-site feature--park, greenbelt, etc.\n",
    "       PosA\tAdjacent to postive off-site feature\n",
    "       RRNe\tWithin 200' of East-West Railroad\n",
    "       RRAe\tAdjacent to East-West Railroad\n",
    "\t\n",
    "Condition2: Proximity to various conditions (if more than one is present)\n",
    "\t\t\n",
    "       Artery\tAdjacent to arterial street\n",
    "       Feedr\tAdjacent to feeder street\t\n",
    "       Norm\tNormal\t\n",
    "       RRNn\tWithin 200' of North-South Railroad\n",
    "       RRAn\tAdjacent to North-South Railroad\n",
    "       PosN\tNear positive off-site feature--park, greenbelt, etc.\n",
    "       PosA\tAdjacent to postive off-site feature\n",
    "       RRNe\tWithin 200' of East-West Railroad\n",
    "       RRAe\tAdjacent to East-West Railroad\n",
    "\t\n",
    "BldgType: Type of dwelling\n",
    "\t\t\n",
    "       1Fam\tSingle-family Detached\t\n",
    "       2FmCon\tTwo-family Conversion; originally built as one-family dwelling\n",
    "       Duplx\tDuplex\n",
    "       TwnhsE\tTownhouse End Unit\n",
    "       TwnhsI\tTownhouse Inside Unit\n",
    "\t\n",
    "HouseStyle: Style of dwelling\n",
    "\t\n",
    "       1Story\tOne story\n",
    "       1.5Fin\tOne and one-half story: 2nd level finished\n",
    "       1.5Unf\tOne and one-half story: 2nd level unfinished\n",
    "       2Story\tTwo story\n",
    "       2.5Fin\tTwo and one-half story: 2nd level finished\n",
    "       2.5Unf\tTwo and one-half story: 2nd level unfinished\n",
    "       SFoyer\tSplit Foyer\n",
    "       SLvl\tSplit Level\n",
    "\t\n",
    "OverallQual: Rates the overall material and finish of the house\n",
    "\n",
    "       10\tVery Excellent\n",
    "       9\tExcellent\n",
    "       8\tVery Good\n",
    "       7\tGood\n",
    "       6\tAbove Average\n",
    "       5\tAverage\n",
    "       4\tBelow Average\n",
    "       3\tFair\n",
    "       2\tPoor\n",
    "       1\tVery Poor\n",
    "\t\n",
    "OverallCond: Rates the overall condition of the house\n",
    "\n",
    "       10\tVery Excellent\n",
    "       9\tExcellent\n",
    "       8\tVery Good\n",
    "       7\tGood\n",
    "       6\tAbove Average\t\n",
    "       5\tAverage\n",
    "       4\tBelow Average\t\n",
    "       3\tFair\n",
    "       2\tPoor\n",
    "       1\tVery Poor\n",
    "\t\t\n",
    "YearBuilt: Original construction date\n",
    "\n",
    "YearRemodAdd: Remodel date (same as construction date if no remodeling or additions)\n",
    "\n",
    "RoofStyle: Type of roof\n",
    "\n",
    "       Flat\tFlat\n",
    "       Gable\tGable\n",
    "       Gambrel\tGabrel (Barn)\n",
    "       Hip\tHip\n",
    "       Mansard\tMansard\n",
    "       Shed\tShed\n",
    "\t\t\n",
    "RoofMatl: Roof material\n",
    "\n",
    "       ClyTile\tClay or Tile\n",
    "       CompShg\tStandard (Composite) Shingle\n",
    "       Membran\tMembrane\n",
    "       Metal\tMetal\n",
    "       Roll\tRoll\n",
    "       Tar&Grv\tGravel & Tar\n",
    "       WdShake\tWood Shakes\n",
    "       WdShngl\tWood Shingles\n",
    "\t\t\n",
    "Exterior1st: Exterior covering on house\n",
    "\n",
    "       AsbShng\tAsbestos Shingles\n",
    "       AsphShn\tAsphalt Shingles\n",
    "       BrkComm\tBrick Common\n",
    "       BrkFace\tBrick Face\n",
    "       CBlock\tCinder Block\n",
    "       CemntBd\tCement Board\n",
    "       HdBoard\tHard Board\n",
    "       ImStucc\tImitation Stucco\n",
    "       MetalSd\tMetal Siding\n",
    "       Other\tOther\n",
    "       Plywood\tPlywood\n",
    "       PreCast\tPreCast\t\n",
    "       Stone\tStone\n",
    "       Stucco\tStucco\n",
    "       VinylSd\tVinyl Siding\n",
    "       Wd Sdng\tWood Siding\n",
    "       WdShing\tWood Shingles\n",
    "\t\n",
    "Exterior2nd: Exterior covering on house (if more than one material)\n",
    "\n",
    "       AsbShng\tAsbestos Shingles\n",
    "       AsphShn\tAsphalt Shingles\n",
    "       BrkComm\tBrick Common\n",
    "       BrkFace\tBrick Face\n",
    "       CBlock\tCinder Block\n",
    "       CemntBd\tCement Board\n",
    "       HdBoard\tHard Board\n",
    "       ImStucc\tImitation Stucco\n",
    "       MetalSd\tMetal Siding\n",
    "       Other\tOther\n",
    "       Plywood\tPlywood\n",
    "       PreCast\tPreCast\n",
    "       Stone\tStone\n",
    "       Stucco\tStucco\n",
    "       VinylSd\tVinyl Siding\n",
    "       Wd Sdng\tWood Siding\n",
    "       WdShing\tWood Shingles\n",
    "\t\n",
    "MasVnrType: Masonry veneer type\n",
    "\n",
    "       BrkCmn\tBrick Common\n",
    "       BrkFace\tBrick Face\n",
    "       CBlock\tCinder Block\n",
    "       None\tNone\n",
    "       Stone\tStone\n",
    "\t\n",
    "MasVnrArea: Masonry veneer area in square feet\n",
    "\n",
    "ExterQual: Evaluates the quality of the material on the exterior \n",
    "\t\t\n",
    "       Ex\tExcellent\n",
    "       Gd\tGood\n",
    "       TA\tAverage/Typical\n",
    "       Fa\tFair\n",
    "       Po\tPoor\n",
    "\t\t\n",
    "ExterCond: Evaluates the present condition of the material on the exterior\n",
    "\t\t\n",
    "       Ex\tExcellent\n",
    "       Gd\tGood\n",
    "       TA\tAverage/Typical\n",
    "       Fa\tFair\n",
    "       Po\tPoor\n",
    "\t\t\n",
    "Foundation: Type of foundation\n",
    "\t\t\n",
    "       BrkTil\tBrick & Tile\n",
    "       CBlock\tCinder Block\n",
    "       PConc\tPoured Contrete\t\n",
    "       Slab\tSlab\n",
    "       Stone\tStone\n",
    "       Wood\tWood\n",
    "\t\t\n",
    "BsmtQual: Evaluates the height of the basement\n",
    "\n",
    "       Ex\tExcellent (100+ inches)\t\n",
    "       Gd\tGood (90-99 inches)\n",
    "       TA\tTypical (80-89 inches)\n",
    "       Fa\tFair (70-79 inches)\n",
    "       Po\tPoor (<70 inches\n",
    "       NA\tNo Basement\n",
    "\t\t\n",
    "BsmtCond: Evaluates the general condition of the basement\n",
    "\n",
    "       Ex\tExcellent\n",
    "       Gd\tGood\n",
    "       TA\tTypical - slight dampness allowed\n",
    "       Fa\tFair - dampness or some cracking or settling\n",
    "       Po\tPoor - Severe cracking, settling, or wetness\n",
    "       NA\tNo Basement\n",
    "\t\n",
    "BsmtExposure: Refers to walkout or garden level walls\n",
    "\n",
    "       Gd\tGood Exposure\n",
    "       Av\tAverage Exposure (split levels or foyers typically score average or above)\t\n",
    "       Mn\tMimimum Exposure\n",
    "       No\tNo Exposure\n",
    "       NA\tNo Basement\n",
    "\t\n",
    "BsmtFinType1: Rating of basement finished area\n",
    "\n",
    "       GLQ\tGood Living Quarters\n",
    "       ALQ\tAverage Living Quarters\n",
    "       BLQ\tBelow Average Living Quarters\t\n",
    "       Rec\tAverage Rec Room\n",
    "       LwQ\tLow Quality\n",
    "       Unf\tUnfinshed\n",
    "       NA\tNo Basement\n",
    "\t\t\n",
    "BsmtFinSF1: Type 1 finished square feet\n",
    "\n",
    "BsmtFinType2: Rating of basement finished area (if multiple types)\n",
    "\n",
    "       GLQ\tGood Living Quarters\n",
    "       ALQ\tAverage Living Quarters\n",
    "       BLQ\tBelow Average Living Quarters\t\n",
    "       Rec\tAverage Rec Room\n",
    "       LwQ\tLow Quality\n",
    "       Unf\tUnfinshed\n",
    "       NA\tNo Basement\n",
    "\n",
    "BsmtFinSF2: Type 2 finished square feet\n",
    "\n",
    "BsmtUnfSF: Unfinished square feet of basement area\n",
    "\n",
    "TotalBsmtSF: Total square feet of basement area\n",
    "\n",
    "Heating: Type of heating\n",
    "\t\t\n",
    "       Floor\tFloor Furnace\n",
    "       GasA\tGas forced warm air furnace\n",
    "       GasW\tGas hot water or steam heat\n",
    "       Grav\tGravity furnace\t\n",
    "       OthW\tHot water or steam heat other than gas\n",
    "       Wall\tWall furnace\n",
    "\t\t\n",
    "HeatingQC: Heating quality and condition\n",
    "\n",
    "       Ex\tExcellent\n",
    "       Gd\tGood\n",
    "       TA\tAverage/Typical\n",
    "       Fa\tFair\n",
    "       Po\tPoor\n",
    "\t\t\n",
    "CentralAir: Central air conditioning\n",
    "\n",
    "       N\tNo\n",
    "       Y\tYes\n",
    "\t\t\n",
    "Electrical: Electrical system\n",
    "\n",
    "       SBrkr\tStandard Circuit Breakers & Romex\n",
    "       FuseA\tFuse Box over 60 AMP and all Romex wiring (Average)\t\n",
    "       FuseF\t60 AMP Fuse Box and mostly Romex wiring (Fair)\n",
    "       FuseP\t60 AMP Fuse Box and mostly knob & tube wiring (poor)\n",
    "       Mix\tMixed\n",
    "\t\t\n",
    "1stFlrSF: First Floor square feet\n",
    " \n",
    "2ndFlrSF: Second floor square feet\n",
    "\n",
    "LowQualFinSF: Low quality finished square feet (all floors)\n",
    "\n",
    "GrLivArea: Above grade (ground) living area square feet\n",
    "\n",
    "BsmtFullBath: Basement full bathrooms\n",
    "\n",
    "BsmtHalfBath: Basement half bathrooms\n",
    "\n",
    "FullBath: Full bathrooms above grade\n",
    "\n",
    "HalfBath: Half baths above grade\n",
    "\n",
    "Bedroom: Bedrooms above grade (does NOT include basement bedrooms)\n",
    "\n",
    "Kitchen: Kitchens above grade\n",
    "\n",
    "KitchenQual: Kitchen quality\n",
    "\n",
    "       Ex\tExcellent\n",
    "       Gd\tGood\n",
    "       TA\tTypical/Average\n",
    "       Fa\tFair\n",
    "       Po\tPoor\n",
    "       \t\n",
    "TotRmsAbvGrd: Total rooms above grade (does not include bathrooms)\n",
    "\n",
    "Functional: Home functionality (Assume typical unless deductions are warranted)\n",
    "\n",
    "       Typ\tTypical Functionality\n",
    "       Min1\tMinor Deductions 1\n",
    "       Min2\tMinor Deductions 2\n",
    "       Mod\tModerate Deductions\n",
    "       Maj1\tMajor Deductions 1\n",
    "       Maj2\tMajor Deductions 2\n",
    "       Sev\tSeverely Damaged\n",
    "       Sal\tSalvage only\n",
    "\t\t\n",
    "Fireplaces: Number of fireplaces\n",
    "\n",
    "FireplaceQu: Fireplace quality\n",
    "\n",
    "       Ex\tExcellent - Exceptional Masonry Fireplace\n",
    "       Gd\tGood - Masonry Fireplace in main level\n",
    "       TA\tAverage - Prefabricated Fireplace in main living area or Masonry Fireplace in basement\n",
    "       Fa\tFair - Prefabricated Fireplace in basement\n",
    "       Po\tPoor - Ben Franklin Stove\n",
    "       NA\tNo Fireplace\n",
    "\t\t\n",
    "GarageType: Garage location\n",
    "\t\t\n",
    "       2Types\tMore than one type of garage\n",
    "       Attchd\tAttached to home\n",
    "       Basment\tBasement Garage\n",
    "       BuiltIn\tBuilt-In (Garage part of house - typically has room above garage)\n",
    "       CarPort\tCar Port\n",
    "       Detchd\tDetached from home\n",
    "       NA\tNo Garage\n",
    "\t\t\n",
    "GarageYrBlt: Year garage was built\n",
    "\t\t\n",
    "GarageFinish: Interior finish of the garage\n",
    "\n",
    "       Fin\tFinished\n",
    "       RFn\tRough Finished\t\n",
    "       Unf\tUnfinished\n",
    "       NA\tNo Garage\n",
    "\t\t\n",
    "GarageCars: Size of garage in car capacity\n",
    "\n",
    "GarageArea: Size of garage in square feet\n",
    "\n",
    "GarageQual: Garage quality\n",
    "\n",
    "       Ex\tExcellent\n",
    "       Gd\tGood\n",
    "       TA\tTypical/Average\n",
    "       Fa\tFair\n",
    "       Po\tPoor\n",
    "       NA\tNo Garage\n",
    "\t\t\n",
    "GarageCond: Garage condition\n",
    "\n",
    "       Ex\tExcellent\n",
    "       Gd\tGood\n",
    "       TA\tTypical/Average\n",
    "       Fa\tFair\n",
    "       Po\tPoor\n",
    "       NA\tNo Garage\n",
    "\t\t\n",
    "PavedDrive: Paved driveway\n",
    "\n",
    "       Y\tPaved \n",
    "       P\tPartial Pavement\n",
    "       N\tDirt/Gravel\n",
    "\t\t\n",
    "WoodDeckSF: Wood deck area in square feet\n",
    "\n",
    "OpenPorchSF: Open porch area in square feet\n",
    "\n",
    "EnclosedPorch: Enclosed porch area in square feet\n",
    "\n",
    "3SsnPorch: Three season porch area in square feet\n",
    "\n",
    "ScreenPorch: Screen porch area in square feet\n",
    "\n",
    "PoolArea: Pool area in square feet\n",
    "\n",
    "PoolQC: Pool quality\n",
    "\t\t\n",
    "       Ex\tExcellent\n",
    "       Gd\tGood\n",
    "       TA\tAverage/Typical\n",
    "       Fa\tFair\n",
    "       NA\tNo Pool\n",
    "\t\t\n",
    "Fence: Fence quality\n",
    "\t\t\n",
    "       GdPrv\tGood Privacy\n",
    "       MnPrv\tMinimum Privacy\n",
    "       GdWo\tGood Wood\n",
    "       MnWw\tMinimum Wood/Wire\n",
    "       NA\tNo Fence\n",
    "\t\n",
    "MiscFeature: Miscellaneous feature not covered in other categories\n",
    "\t\t\n",
    "       Elev\tElevator\n",
    "       Gar2\t2nd Garage (if not described in garage section)\n",
    "       Othr\tOther\n",
    "       Shed\tShed (over 100 SF)\n",
    "       TenC\tTennis Court\n",
    "       NA\tNone\n",
    "\t\t\n",
    "MiscVal: $Value of miscellaneous feature\n",
    "\n",
    "MoSold: Month Sold (MM)\n",
    "\n",
    "YrSold: Year Sold (YYYY)\n",
    "\n",
    "SaleType: Type of sale\n",
    "\t\t\n",
    "       WD \tWarranty Deed - Conventional\n",
    "       CWD\tWarranty Deed - Cash\n",
    "       VWD\tWarranty Deed - VA Loan\n",
    "       New\tHome just constructed and sold\n",
    "       COD\tCourt Officer Deed/Estate\n",
    "       Con\tContract 15% Down payment regular terms\n",
    "       ConLw\tContract Low Down payment and low interest\n",
    "       ConLI\tContract Low Interest\n",
    "       ConLD\tContract Low Down\n",
    "       Oth\tOther\n",
    "\t\t\n",
    "SaleCondition: Condition of sale\n",
    "\n",
    "       Normal\tNormal Sale\n",
    "       Abnorml\tAbnormal Sale -  trade, foreclosure, short sale\n",
    "       AdjLand\tAdjoining Land Purchase\n",
    "       Alloca\tAllocation - two linked properties with separate deeds, typically condo with a garage unit\t\n",
    "       Family\tSale between family members\n",
    "       Partial\tHome was not completed when last assessed (associated with New Homes)"
   ]
  },
  {
   "cell_type": "code",
   "execution_count": null,
   "id": "c8b04ce5",
   "metadata": {},
   "outputs": [],
   "source": []
  },
  {
   "cell_type": "markdown",
   "id": "899e2684",
   "metadata": {},
   "source": [
    "# EDA RESUlts"
   ]
  },
  {
   "cell_type": "code",
   "execution_count": null,
   "id": "e9a7e28b",
   "metadata": {},
   "outputs": [],
   "source": []
  },
  {
   "cell_type": "raw",
   "id": "5a9ab7d5",
   "metadata": {},
   "source": [
    "1) Most of streets in the area ( i.e. around 1400) are paved. Very few of them are graveled.\n",
    "\n",
    "2) Maximum of houses are at an even level.\n",
    "   Few of them are banked and are at high level.\n",
    "   \n",
    "3) Very few of of them are in the low lying areas.\n",
    "\n",
    "4) Around 900 houses are Regular.\n",
    "   Some of the houses are slighly irregular(nearly 500)\n",
    "   \n",
    "5) Few of them are moderately irregular(Less than 100)\n",
    "   Very few of them are completely irregular(less than 25).\n",
    "   \n",
    "6) The houses have all the public utilities available.\n",
    "   Atleast they have Electricity and gas utilities available.\n",
    "   \n",
    "7) Around 1000 houses are inside lots\n",
    "   Around 200 are corner lots\n",
    "   Around 100 are Cul-de-sac\n",
    "\n",
    "8) Around 50 houses have frontage on 2 sides\n",
    "   Less than 10 houses have frontage on 3 sides\n",
    "   Nearly 300 houses have frontage of less than 50m.\n",
    "   Around 400 houses have frontage of between 50m and 75m.\n",
    "   Nearly 600 houses have frontage of between 75m and 100m.\n",
    "   Around 100 houses have frontage of between 100m and 125m.\n",
    "   Some houses have frontage of between 125m and 150m.\n",
    "   Few have frontage between 150 and 200m.\n",
    "   Very few have frontage of around 300m\n",
    "\n",
    "9) Maximum houses(around 1400) dnt have alleys available.\n",
    "   Around 50 houses each have graveled and paved alleys.   \n",
    "    \n",
    "10) Almost all houses have no pools.\n",
    "    Only few have pools of excellent , good and fair quality.\n",
    "    \n",
    "11) Around 1200 houses dont have fencing.\n",
    "    Around 150 house have fencing with minimum wood/wire.\n",
    "    Around 50 house have fencing of good wood and good privacy.\n",
    "    Around 10 houses have fencing with minimum wood/wire.\n",
    "    \n",
    "12) Most of the houses dont have Miscellenous features.\n",
    "    less than 50 houses have sheds of over 100 square feet\n",
    "    Very few houses have a second garage or a tennis court or other features.\n",
    "    \n",
    "13) Amount of remodified houses are less than the houses which are not remodified\n",
    "    Around 700 houses are Remodified or some additions are made. \n",
    "    Around 800 houses are not Remodified. \n",
    "    \n",
    "14) Maximum amount of houses were sold in the 5th and 6th month i.e. close to 250 houses.\n",
    "    Minimum amount of houses were sold in the 9th and 10th month i.e. close to 50 houses.\n",
    "    Around 100 houses were sold in the 1st 3 months of the year.\n",
    "    Around 100 houses were sold between 3rd and the 4th month.\n",
    "    Around 200 houses were sold between 4th and the 5th month.\n",
    "    230 to 240  houses were sold between 6th and the 7th month.\n",
    "    Close to 100 houses were sold between 7th and the 9th month.\n",
    "    Around 75 houses were sold between 10th and the 11th month.\n",
    "    Close to 150 houses were sold between 11th and the 12th month.\n",
    "    \n",
    "15) Houses were sold between the year 2006 and 2010.\n",
    "    Maximum amount of houses were sold in the year 2009 i.e around 350.  \n",
    "    Minimum amount of houses were sold in the year 2010 i.e close to 175.\n",
    "    In 2007 around 325 houses were sold and\n",
    "    Close to 300 houses were sold in 2006 and 2008.\n",
    "    \n",
    "16) Around 1200 houses were sold as a conventional warranty deed.\n",
    "    Around 100 houses were newly constructed and sold.\n",
    "    Around 50 houses  were court officer deeds.\n",
    "    Very few houses were  of other sales types like low interest and down payment contract , 15% down payment contract\n",
    "    on regular terms etc.\n",
    "    \n",
    "16) Maximum houses were sold at the price of $5,00,000 and less.\n",
    "    Very few houses had  pricing between $5,00,000 and $7,00,000.\n",
    "    Maximumum houses i.e.700 were sold at a price ranging between $1,00,000 and $2,00,000.\n",
    "    Around 20 houses were sold in the range between $4,00,000 and $4,50,000.\n",
    "    Close to 150 houses at around $1,00,000.\n",
    "    Around 450 houses were sold in the range around $2,00,000 to $2,50,000.\n",
    "    Close to 100 houses were sold in the range $2,50,000 to around $3,00,000.\n",
    "    Around 20 houses were sold in the range $3,00,000 to around $4,00,000.\n",
    "    Few of them  were sold in the range around $4,00,000 to close to $5,00,000.\n",
    "    \n",
    "17) Salesprice of houses highly depends upon Overall quality of the house, The Car capacity and area of the garage,\n",
    "    Total Basement and living  area.\n",
    "    And moderately depends upon the year the house was built , remodification date and the masonary used.\n",
    "    \n",
    "18) There are visibly few outlieers in the data which is to be removed in data processing."
   ]
  },
  {
   "cell_type": "code",
   "execution_count": null,
   "id": "585ab958",
   "metadata": {},
   "outputs": [],
   "source": []
  },
  {
   "cell_type": "code",
   "execution_count": 1,
   "id": "1712eb70",
   "metadata": {},
   "outputs": [],
   "source": [
    "import pandas as pd\n",
    "import numpy as np\n",
    "import matplotlib.pyplot as plt\n",
    "import seaborn as sns"
   ]
  },
  {
   "cell_type": "code",
   "execution_count": null,
   "id": "29067bc3",
   "metadata": {},
   "outputs": [],
   "source": []
  },
  {
   "cell_type": "code",
   "execution_count": 2,
   "id": "de92ecf2",
   "metadata": {},
   "outputs": [
    {
     "data": {
      "text/html": [
       "<div>\n",
       "<style scoped>\n",
       "    .dataframe tbody tr th:only-of-type {\n",
       "        vertical-align: middle;\n",
       "    }\n",
       "\n",
       "    .dataframe tbody tr th {\n",
       "        vertical-align: top;\n",
       "    }\n",
       "\n",
       "    .dataframe thead th {\n",
       "        text-align: right;\n",
       "    }\n",
       "</style>\n",
       "<table border=\"1\" class=\"dataframe\">\n",
       "  <thead>\n",
       "    <tr style=\"text-align: right;\">\n",
       "      <th></th>\n",
       "      <th>Id</th>\n",
       "      <th>MSSubClass</th>\n",
       "      <th>MSZoning</th>\n",
       "      <th>LotFrontage</th>\n",
       "      <th>LotArea</th>\n",
       "      <th>Street</th>\n",
       "      <th>Alley</th>\n",
       "      <th>LotShape</th>\n",
       "      <th>LandContour</th>\n",
       "      <th>Utilities</th>\n",
       "      <th>...</th>\n",
       "      <th>PoolArea</th>\n",
       "      <th>PoolQC</th>\n",
       "      <th>Fence</th>\n",
       "      <th>MiscFeature</th>\n",
       "      <th>MiscVal</th>\n",
       "      <th>MoSold</th>\n",
       "      <th>YrSold</th>\n",
       "      <th>SaleType</th>\n",
       "      <th>SaleCondition</th>\n",
       "      <th>SalePrice</th>\n",
       "    </tr>\n",
       "  </thead>\n",
       "  <tbody>\n",
       "    <tr>\n",
       "      <th>0</th>\n",
       "      <td>1</td>\n",
       "      <td>60</td>\n",
       "      <td>RL</td>\n",
       "      <td>65.0</td>\n",
       "      <td>8450</td>\n",
       "      <td>Pave</td>\n",
       "      <td>NaN</td>\n",
       "      <td>Reg</td>\n",
       "      <td>Lvl</td>\n",
       "      <td>AllPub</td>\n",
       "      <td>...</td>\n",
       "      <td>0</td>\n",
       "      <td>NaN</td>\n",
       "      <td>NaN</td>\n",
       "      <td>NaN</td>\n",
       "      <td>0</td>\n",
       "      <td>2</td>\n",
       "      <td>2008</td>\n",
       "      <td>WD</td>\n",
       "      <td>Normal</td>\n",
       "      <td>208500</td>\n",
       "    </tr>\n",
       "    <tr>\n",
       "      <th>1</th>\n",
       "      <td>2</td>\n",
       "      <td>20</td>\n",
       "      <td>RL</td>\n",
       "      <td>80.0</td>\n",
       "      <td>9600</td>\n",
       "      <td>Pave</td>\n",
       "      <td>NaN</td>\n",
       "      <td>Reg</td>\n",
       "      <td>Lvl</td>\n",
       "      <td>AllPub</td>\n",
       "      <td>...</td>\n",
       "      <td>0</td>\n",
       "      <td>NaN</td>\n",
       "      <td>NaN</td>\n",
       "      <td>NaN</td>\n",
       "      <td>0</td>\n",
       "      <td>5</td>\n",
       "      <td>2007</td>\n",
       "      <td>WD</td>\n",
       "      <td>Normal</td>\n",
       "      <td>181500</td>\n",
       "    </tr>\n",
       "    <tr>\n",
       "      <th>2</th>\n",
       "      <td>3</td>\n",
       "      <td>60</td>\n",
       "      <td>RL</td>\n",
       "      <td>68.0</td>\n",
       "      <td>11250</td>\n",
       "      <td>Pave</td>\n",
       "      <td>NaN</td>\n",
       "      <td>IR1</td>\n",
       "      <td>Lvl</td>\n",
       "      <td>AllPub</td>\n",
       "      <td>...</td>\n",
       "      <td>0</td>\n",
       "      <td>NaN</td>\n",
       "      <td>NaN</td>\n",
       "      <td>NaN</td>\n",
       "      <td>0</td>\n",
       "      <td>9</td>\n",
       "      <td>2008</td>\n",
       "      <td>WD</td>\n",
       "      <td>Normal</td>\n",
       "      <td>223500</td>\n",
       "    </tr>\n",
       "    <tr>\n",
       "      <th>3</th>\n",
       "      <td>4</td>\n",
       "      <td>70</td>\n",
       "      <td>RL</td>\n",
       "      <td>60.0</td>\n",
       "      <td>9550</td>\n",
       "      <td>Pave</td>\n",
       "      <td>NaN</td>\n",
       "      <td>IR1</td>\n",
       "      <td>Lvl</td>\n",
       "      <td>AllPub</td>\n",
       "      <td>...</td>\n",
       "      <td>0</td>\n",
       "      <td>NaN</td>\n",
       "      <td>NaN</td>\n",
       "      <td>NaN</td>\n",
       "      <td>0</td>\n",
       "      <td>2</td>\n",
       "      <td>2006</td>\n",
       "      <td>WD</td>\n",
       "      <td>Abnorml</td>\n",
       "      <td>140000</td>\n",
       "    </tr>\n",
       "    <tr>\n",
       "      <th>4</th>\n",
       "      <td>5</td>\n",
       "      <td>60</td>\n",
       "      <td>RL</td>\n",
       "      <td>84.0</td>\n",
       "      <td>14260</td>\n",
       "      <td>Pave</td>\n",
       "      <td>NaN</td>\n",
       "      <td>IR1</td>\n",
       "      <td>Lvl</td>\n",
       "      <td>AllPub</td>\n",
       "      <td>...</td>\n",
       "      <td>0</td>\n",
       "      <td>NaN</td>\n",
       "      <td>NaN</td>\n",
       "      <td>NaN</td>\n",
       "      <td>0</td>\n",
       "      <td>12</td>\n",
       "      <td>2008</td>\n",
       "      <td>WD</td>\n",
       "      <td>Normal</td>\n",
       "      <td>250000</td>\n",
       "    </tr>\n",
       "    <tr>\n",
       "      <th>...</th>\n",
       "      <td>...</td>\n",
       "      <td>...</td>\n",
       "      <td>...</td>\n",
       "      <td>...</td>\n",
       "      <td>...</td>\n",
       "      <td>...</td>\n",
       "      <td>...</td>\n",
       "      <td>...</td>\n",
       "      <td>...</td>\n",
       "      <td>...</td>\n",
       "      <td>...</td>\n",
       "      <td>...</td>\n",
       "      <td>...</td>\n",
       "      <td>...</td>\n",
       "      <td>...</td>\n",
       "      <td>...</td>\n",
       "      <td>...</td>\n",
       "      <td>...</td>\n",
       "      <td>...</td>\n",
       "      <td>...</td>\n",
       "      <td>...</td>\n",
       "    </tr>\n",
       "    <tr>\n",
       "      <th>1455</th>\n",
       "      <td>1456</td>\n",
       "      <td>60</td>\n",
       "      <td>RL</td>\n",
       "      <td>62.0</td>\n",
       "      <td>7917</td>\n",
       "      <td>Pave</td>\n",
       "      <td>NaN</td>\n",
       "      <td>Reg</td>\n",
       "      <td>Lvl</td>\n",
       "      <td>AllPub</td>\n",
       "      <td>...</td>\n",
       "      <td>0</td>\n",
       "      <td>NaN</td>\n",
       "      <td>NaN</td>\n",
       "      <td>NaN</td>\n",
       "      <td>0</td>\n",
       "      <td>8</td>\n",
       "      <td>2007</td>\n",
       "      <td>WD</td>\n",
       "      <td>Normal</td>\n",
       "      <td>175000</td>\n",
       "    </tr>\n",
       "    <tr>\n",
       "      <th>1456</th>\n",
       "      <td>1457</td>\n",
       "      <td>20</td>\n",
       "      <td>RL</td>\n",
       "      <td>85.0</td>\n",
       "      <td>13175</td>\n",
       "      <td>Pave</td>\n",
       "      <td>NaN</td>\n",
       "      <td>Reg</td>\n",
       "      <td>Lvl</td>\n",
       "      <td>AllPub</td>\n",
       "      <td>...</td>\n",
       "      <td>0</td>\n",
       "      <td>NaN</td>\n",
       "      <td>MnPrv</td>\n",
       "      <td>NaN</td>\n",
       "      <td>0</td>\n",
       "      <td>2</td>\n",
       "      <td>2010</td>\n",
       "      <td>WD</td>\n",
       "      <td>Normal</td>\n",
       "      <td>210000</td>\n",
       "    </tr>\n",
       "    <tr>\n",
       "      <th>1457</th>\n",
       "      <td>1458</td>\n",
       "      <td>70</td>\n",
       "      <td>RL</td>\n",
       "      <td>66.0</td>\n",
       "      <td>9042</td>\n",
       "      <td>Pave</td>\n",
       "      <td>NaN</td>\n",
       "      <td>Reg</td>\n",
       "      <td>Lvl</td>\n",
       "      <td>AllPub</td>\n",
       "      <td>...</td>\n",
       "      <td>0</td>\n",
       "      <td>NaN</td>\n",
       "      <td>GdPrv</td>\n",
       "      <td>Shed</td>\n",
       "      <td>2500</td>\n",
       "      <td>5</td>\n",
       "      <td>2010</td>\n",
       "      <td>WD</td>\n",
       "      <td>Normal</td>\n",
       "      <td>266500</td>\n",
       "    </tr>\n",
       "    <tr>\n",
       "      <th>1458</th>\n",
       "      <td>1459</td>\n",
       "      <td>20</td>\n",
       "      <td>RL</td>\n",
       "      <td>68.0</td>\n",
       "      <td>9717</td>\n",
       "      <td>Pave</td>\n",
       "      <td>NaN</td>\n",
       "      <td>Reg</td>\n",
       "      <td>Lvl</td>\n",
       "      <td>AllPub</td>\n",
       "      <td>...</td>\n",
       "      <td>0</td>\n",
       "      <td>NaN</td>\n",
       "      <td>NaN</td>\n",
       "      <td>NaN</td>\n",
       "      <td>0</td>\n",
       "      <td>4</td>\n",
       "      <td>2010</td>\n",
       "      <td>WD</td>\n",
       "      <td>Normal</td>\n",
       "      <td>142125</td>\n",
       "    </tr>\n",
       "    <tr>\n",
       "      <th>1459</th>\n",
       "      <td>1460</td>\n",
       "      <td>20</td>\n",
       "      <td>RL</td>\n",
       "      <td>75.0</td>\n",
       "      <td>9937</td>\n",
       "      <td>Pave</td>\n",
       "      <td>NaN</td>\n",
       "      <td>Reg</td>\n",
       "      <td>Lvl</td>\n",
       "      <td>AllPub</td>\n",
       "      <td>...</td>\n",
       "      <td>0</td>\n",
       "      <td>NaN</td>\n",
       "      <td>NaN</td>\n",
       "      <td>NaN</td>\n",
       "      <td>0</td>\n",
       "      <td>6</td>\n",
       "      <td>2008</td>\n",
       "      <td>WD</td>\n",
       "      <td>Normal</td>\n",
       "      <td>147500</td>\n",
       "    </tr>\n",
       "  </tbody>\n",
       "</table>\n",
       "<p>1460 rows × 81 columns</p>\n",
       "</div>"
      ],
      "text/plain": [
       "        Id  MSSubClass MSZoning  LotFrontage  LotArea Street Alley LotShape  \\\n",
       "0        1          60       RL         65.0     8450   Pave   NaN      Reg   \n",
       "1        2          20       RL         80.0     9600   Pave   NaN      Reg   \n",
       "2        3          60       RL         68.0    11250   Pave   NaN      IR1   \n",
       "3        4          70       RL         60.0     9550   Pave   NaN      IR1   \n",
       "4        5          60       RL         84.0    14260   Pave   NaN      IR1   \n",
       "...    ...         ...      ...          ...      ...    ...   ...      ...   \n",
       "1455  1456          60       RL         62.0     7917   Pave   NaN      Reg   \n",
       "1456  1457          20       RL         85.0    13175   Pave   NaN      Reg   \n",
       "1457  1458          70       RL         66.0     9042   Pave   NaN      Reg   \n",
       "1458  1459          20       RL         68.0     9717   Pave   NaN      Reg   \n",
       "1459  1460          20       RL         75.0     9937   Pave   NaN      Reg   \n",
       "\n",
       "     LandContour Utilities  ... PoolArea PoolQC  Fence MiscFeature MiscVal  \\\n",
       "0            Lvl    AllPub  ...        0    NaN    NaN         NaN       0   \n",
       "1            Lvl    AllPub  ...        0    NaN    NaN         NaN       0   \n",
       "2            Lvl    AllPub  ...        0    NaN    NaN         NaN       0   \n",
       "3            Lvl    AllPub  ...        0    NaN    NaN         NaN       0   \n",
       "4            Lvl    AllPub  ...        0    NaN    NaN         NaN       0   \n",
       "...          ...       ...  ...      ...    ...    ...         ...     ...   \n",
       "1455         Lvl    AllPub  ...        0    NaN    NaN         NaN       0   \n",
       "1456         Lvl    AllPub  ...        0    NaN  MnPrv         NaN       0   \n",
       "1457         Lvl    AllPub  ...        0    NaN  GdPrv        Shed    2500   \n",
       "1458         Lvl    AllPub  ...        0    NaN    NaN         NaN       0   \n",
       "1459         Lvl    AllPub  ...        0    NaN    NaN         NaN       0   \n",
       "\n",
       "     MoSold YrSold  SaleType  SaleCondition  SalePrice  \n",
       "0         2   2008        WD         Normal     208500  \n",
       "1         5   2007        WD         Normal     181500  \n",
       "2         9   2008        WD         Normal     223500  \n",
       "3         2   2006        WD        Abnorml     140000  \n",
       "4        12   2008        WD         Normal     250000  \n",
       "...     ...    ...       ...            ...        ...  \n",
       "1455      8   2007        WD         Normal     175000  \n",
       "1456      2   2010        WD         Normal     210000  \n",
       "1457      5   2010        WD         Normal     266500  \n",
       "1458      4   2010        WD         Normal     142125  \n",
       "1459      6   2008        WD         Normal     147500  \n",
       "\n",
       "[1460 rows x 81 columns]"
      ]
     },
     "execution_count": 2,
     "metadata": {},
     "output_type": "execute_result"
    }
   ],
   "source": [
    "data=pd.read_csv(\"C:/Users/Arsh/Desktop/DS LU assignments/house-prices-advanced-regression-techniques/train.csv\")\n",
    "\n",
    "data"
   ]
  },
  {
   "cell_type": "code",
   "execution_count": null,
   "id": "09851b1e",
   "metadata": {},
   "outputs": [],
   "source": []
  },
  {
   "cell_type": "code",
   "execution_count": 3,
   "id": "df8e7316",
   "metadata": {},
   "outputs": [
    {
     "data": {
      "text/plain": [
       "Id                 int64\n",
       "MSSubClass         int64\n",
       "MSZoning          object\n",
       "LotFrontage      float64\n",
       "LotArea            int64\n",
       "                  ...   \n",
       "MoSold             int64\n",
       "YrSold             int64\n",
       "SaleType          object\n",
       "SaleCondition     object\n",
       "SalePrice          int64\n",
       "Length: 81, dtype: object"
      ]
     },
     "execution_count": 3,
     "metadata": {},
     "output_type": "execute_result"
    }
   ],
   "source": [
    "data.dtypes"
   ]
  },
  {
   "cell_type": "code",
   "execution_count": null,
   "id": "d3438087",
   "metadata": {},
   "outputs": [],
   "source": []
  },
  {
   "cell_type": "code",
   "execution_count": 4,
   "id": "dc0e85cd",
   "metadata": {},
   "outputs": [
    {
     "data": {
      "text/plain": [
       "Id                 0\n",
       "MSSubClass         0\n",
       "MSZoning           0\n",
       "LotFrontage      259\n",
       "LotArea            0\n",
       "                ... \n",
       "MoSold             0\n",
       "YrSold             0\n",
       "SaleType           0\n",
       "SaleCondition      0\n",
       "SalePrice          0\n",
       "Length: 81, dtype: int64"
      ]
     },
     "execution_count": 4,
     "metadata": {},
     "output_type": "execute_result"
    }
   ],
   "source": [
    "data.isna().sum()"
   ]
  },
  {
   "cell_type": "code",
   "execution_count": null,
   "id": "d015133b",
   "metadata": {},
   "outputs": [],
   "source": []
  },
  {
   "cell_type": "code",
   "execution_count": 5,
   "id": "73801546",
   "metadata": {},
   "outputs": [
    {
     "data": {
      "text/plain": [
       "1369"
      ]
     },
     "execution_count": 5,
     "metadata": {},
     "output_type": "execute_result"
    }
   ],
   "source": [
    "data[\"Alley\"].isna().sum()"
   ]
  },
  {
   "cell_type": "code",
   "execution_count": null,
   "id": "ff0ae74e",
   "metadata": {},
   "outputs": [],
   "source": []
  },
  {
   "cell_type": "code",
   "execution_count": 6,
   "id": "cc34d783",
   "metadata": {},
   "outputs": [
    {
     "data": {
      "text/plain": [
       "Grvl    50\n",
       "Pave    41\n",
       "Name: Alley, dtype: int64"
      ]
     },
     "execution_count": 6,
     "metadata": {},
     "output_type": "execute_result"
    }
   ],
   "source": [
    "data[\"Alley\"].value_counts()"
   ]
  },
  {
   "cell_type": "code",
   "execution_count": null,
   "id": "bc573697",
   "metadata": {},
   "outputs": [],
   "source": []
  },
  {
   "cell_type": "code",
   "execution_count": 7,
   "id": "5f13bb78",
   "metadata": {},
   "outputs": [
    {
     "data": {
      "text/plain": [
       "1453"
      ]
     },
     "execution_count": 7,
     "metadata": {},
     "output_type": "execute_result"
    }
   ],
   "source": [
    "data[\"PoolQC\"].isna().sum()"
   ]
  },
  {
   "cell_type": "code",
   "execution_count": null,
   "id": "ece07f22",
   "metadata": {},
   "outputs": [],
   "source": []
  },
  {
   "cell_type": "code",
   "execution_count": 8,
   "id": "01148853",
   "metadata": {},
   "outputs": [
    {
     "data": {
      "text/plain": [
       "Gd    3\n",
       "Ex    2\n",
       "Fa    2\n",
       "Name: PoolQC, dtype: int64"
      ]
     },
     "execution_count": 8,
     "metadata": {},
     "output_type": "execute_result"
    }
   ],
   "source": [
    "data[\"PoolQC\"].value_counts()"
   ]
  },
  {
   "cell_type": "code",
   "execution_count": null,
   "id": "ae439097",
   "metadata": {},
   "outputs": [],
   "source": []
  },
  {
   "cell_type": "code",
   "execution_count": 9,
   "id": "2b87b325",
   "metadata": {},
   "outputs": [
    {
     "data": {
      "text/plain": [
       "Index(['Id', 'MSSubClass', 'MSZoning', 'LotFrontage', 'LotArea', 'Street',\n",
       "       'Alley', 'LotShape', 'LandContour', 'Utilities', 'LotConfig',\n",
       "       'LandSlope', 'Neighborhood', 'Condition1', 'Condition2', 'BldgType',\n",
       "       'HouseStyle', 'OverallQual', 'OverallCond', 'YearBuilt', 'YearRemodAdd',\n",
       "       'RoofStyle', 'RoofMatl', 'Exterior1st', 'Exterior2nd', 'MasVnrType',\n",
       "       'MasVnrArea', 'ExterQual', 'ExterCond', 'Foundation', 'BsmtQual',\n",
       "       'BsmtCond', 'BsmtExposure', 'BsmtFinType1', 'BsmtFinSF1',\n",
       "       'BsmtFinType2', 'BsmtFinSF2', 'BsmtUnfSF', 'TotalBsmtSF', 'Heating',\n",
       "       'HeatingQC', 'CentralAir', 'Electrical', '1stFlrSF', '2ndFlrSF',\n",
       "       'LowQualFinSF', 'GrLivArea', 'BsmtFullBath', 'BsmtHalfBath', 'FullBath',\n",
       "       'HalfBath', 'BedroomAbvGr', 'KitchenAbvGr', 'KitchenQual',\n",
       "       'TotRmsAbvGrd', 'Functional', 'Fireplaces', 'FireplaceQu', 'GarageType',\n",
       "       'GarageYrBlt', 'GarageFinish', 'GarageCars', 'GarageArea', 'GarageQual',\n",
       "       'GarageCond', 'PavedDrive', 'WoodDeckSF', 'OpenPorchSF',\n",
       "       'EnclosedPorch', '3SsnPorch', 'ScreenPorch', 'PoolArea', 'PoolQC',\n",
       "       'Fence', 'MiscFeature', 'MiscVal', 'MoSold', 'YrSold', 'SaleType',\n",
       "       'SaleCondition', 'SalePrice'],\n",
       "      dtype='object')"
      ]
     },
     "execution_count": 9,
     "metadata": {},
     "output_type": "execute_result"
    }
   ],
   "source": [
    "data.columns"
   ]
  },
  {
   "cell_type": "code",
   "execution_count": null,
   "id": "ec038e20",
   "metadata": {},
   "outputs": [],
   "source": []
  },
  {
   "cell_type": "code",
   "execution_count": 10,
   "id": "d3b216ee",
   "metadata": {},
   "outputs": [
    {
     "data": {
      "text/plain": [
       "5     397\n",
       "6     374\n",
       "7     319\n",
       "8     168\n",
       "4     116\n",
       "9      43\n",
       "3      20\n",
       "10     18\n",
       "2       3\n",
       "1       2\n",
       "Name: OverallQual, dtype: int64"
      ]
     },
     "execution_count": 10,
     "metadata": {},
     "output_type": "execute_result"
    }
   ],
   "source": [
    "data[\"OverallQual\"].value_counts()"
   ]
  },
  {
   "cell_type": "code",
   "execution_count": null,
   "id": "2ad5c8d4",
   "metadata": {},
   "outputs": [],
   "source": []
  },
  {
   "cell_type": "code",
   "execution_count": 11,
   "id": "da5e18e7",
   "metadata": {},
   "outputs": [
    {
     "data": {
      "text/plain": [
       "Normal     1198\n",
       "Partial     125\n",
       "Abnorml     101\n",
       "Family       20\n",
       "Alloca       12\n",
       "AdjLand       4\n",
       "Name: SaleCondition, dtype: int64"
      ]
     },
     "execution_count": 11,
     "metadata": {},
     "output_type": "execute_result"
    }
   ],
   "source": [
    "data[\"SaleCondition\"].value_counts()"
   ]
  },
  {
   "cell_type": "code",
   "execution_count": null,
   "id": "2c763e28",
   "metadata": {},
   "outputs": [],
   "source": []
  },
  {
   "cell_type": "code",
   "execution_count": 12,
   "id": "9227eb51",
   "metadata": {},
   "outputs": [
    {
     "data": {
      "text/html": [
       "<div>\n",
       "<style scoped>\n",
       "    .dataframe tbody tr th:only-of-type {\n",
       "        vertical-align: middle;\n",
       "    }\n",
       "\n",
       "    .dataframe tbody tr th {\n",
       "        vertical-align: top;\n",
       "    }\n",
       "\n",
       "    .dataframe thead th {\n",
       "        text-align: right;\n",
       "    }\n",
       "</style>\n",
       "<table border=\"1\" class=\"dataframe\">\n",
       "  <thead>\n",
       "    <tr style=\"text-align: right;\">\n",
       "      <th></th>\n",
       "      <th>Id</th>\n",
       "      <th>MSSubClass</th>\n",
       "      <th>MSZoning</th>\n",
       "      <th>LotFrontage</th>\n",
       "      <th>LotArea</th>\n",
       "      <th>Street</th>\n",
       "      <th>Alley</th>\n",
       "      <th>LotShape</th>\n",
       "      <th>LandContour</th>\n",
       "      <th>Utilities</th>\n",
       "      <th>...</th>\n",
       "      <th>PoolArea</th>\n",
       "      <th>PoolQC</th>\n",
       "      <th>Fence</th>\n",
       "      <th>MiscFeature</th>\n",
       "      <th>MiscVal</th>\n",
       "      <th>MoSold</th>\n",
       "      <th>YrSold</th>\n",
       "      <th>SaleType</th>\n",
       "      <th>SaleCondition</th>\n",
       "      <th>SalePrice</th>\n",
       "    </tr>\n",
       "  </thead>\n",
       "  <tbody>\n",
       "    <tr>\n",
       "      <th>0</th>\n",
       "      <td>1</td>\n",
       "      <td>60</td>\n",
       "      <td>RL</td>\n",
       "      <td>65.0</td>\n",
       "      <td>8450</td>\n",
       "      <td>Pave</td>\n",
       "      <td>NaN</td>\n",
       "      <td>Reg</td>\n",
       "      <td>Lvl</td>\n",
       "      <td>AllPub</td>\n",
       "      <td>...</td>\n",
       "      <td>0</td>\n",
       "      <td>NaN</td>\n",
       "      <td>NaN</td>\n",
       "      <td>NaN</td>\n",
       "      <td>0</td>\n",
       "      <td>2</td>\n",
       "      <td>2008</td>\n",
       "      <td>WD</td>\n",
       "      <td>Normal</td>\n",
       "      <td>208500</td>\n",
       "    </tr>\n",
       "    <tr>\n",
       "      <th>1</th>\n",
       "      <td>2</td>\n",
       "      <td>20</td>\n",
       "      <td>RL</td>\n",
       "      <td>80.0</td>\n",
       "      <td>9600</td>\n",
       "      <td>Pave</td>\n",
       "      <td>NaN</td>\n",
       "      <td>Reg</td>\n",
       "      <td>Lvl</td>\n",
       "      <td>AllPub</td>\n",
       "      <td>...</td>\n",
       "      <td>0</td>\n",
       "      <td>NaN</td>\n",
       "      <td>NaN</td>\n",
       "      <td>NaN</td>\n",
       "      <td>0</td>\n",
       "      <td>5</td>\n",
       "      <td>2007</td>\n",
       "      <td>WD</td>\n",
       "      <td>Normal</td>\n",
       "      <td>181500</td>\n",
       "    </tr>\n",
       "    <tr>\n",
       "      <th>2</th>\n",
       "      <td>3</td>\n",
       "      <td>60</td>\n",
       "      <td>RL</td>\n",
       "      <td>68.0</td>\n",
       "      <td>11250</td>\n",
       "      <td>Pave</td>\n",
       "      <td>NaN</td>\n",
       "      <td>IR1</td>\n",
       "      <td>Lvl</td>\n",
       "      <td>AllPub</td>\n",
       "      <td>...</td>\n",
       "      <td>0</td>\n",
       "      <td>NaN</td>\n",
       "      <td>NaN</td>\n",
       "      <td>NaN</td>\n",
       "      <td>0</td>\n",
       "      <td>9</td>\n",
       "      <td>2008</td>\n",
       "      <td>WD</td>\n",
       "      <td>Normal</td>\n",
       "      <td>223500</td>\n",
       "    </tr>\n",
       "    <tr>\n",
       "      <th>3</th>\n",
       "      <td>4</td>\n",
       "      <td>70</td>\n",
       "      <td>RL</td>\n",
       "      <td>60.0</td>\n",
       "      <td>9550</td>\n",
       "      <td>Pave</td>\n",
       "      <td>NaN</td>\n",
       "      <td>IR1</td>\n",
       "      <td>Lvl</td>\n",
       "      <td>AllPub</td>\n",
       "      <td>...</td>\n",
       "      <td>0</td>\n",
       "      <td>NaN</td>\n",
       "      <td>NaN</td>\n",
       "      <td>NaN</td>\n",
       "      <td>0</td>\n",
       "      <td>2</td>\n",
       "      <td>2006</td>\n",
       "      <td>WD</td>\n",
       "      <td>Abnorml</td>\n",
       "      <td>140000</td>\n",
       "    </tr>\n",
       "    <tr>\n",
       "      <th>4</th>\n",
       "      <td>5</td>\n",
       "      <td>60</td>\n",
       "      <td>RL</td>\n",
       "      <td>84.0</td>\n",
       "      <td>14260</td>\n",
       "      <td>Pave</td>\n",
       "      <td>NaN</td>\n",
       "      <td>IR1</td>\n",
       "      <td>Lvl</td>\n",
       "      <td>AllPub</td>\n",
       "      <td>...</td>\n",
       "      <td>0</td>\n",
       "      <td>NaN</td>\n",
       "      <td>NaN</td>\n",
       "      <td>NaN</td>\n",
       "      <td>0</td>\n",
       "      <td>12</td>\n",
       "      <td>2008</td>\n",
       "      <td>WD</td>\n",
       "      <td>Normal</td>\n",
       "      <td>250000</td>\n",
       "    </tr>\n",
       "    <tr>\n",
       "      <th>...</th>\n",
       "      <td>...</td>\n",
       "      <td>...</td>\n",
       "      <td>...</td>\n",
       "      <td>...</td>\n",
       "      <td>...</td>\n",
       "      <td>...</td>\n",
       "      <td>...</td>\n",
       "      <td>...</td>\n",
       "      <td>...</td>\n",
       "      <td>...</td>\n",
       "      <td>...</td>\n",
       "      <td>...</td>\n",
       "      <td>...</td>\n",
       "      <td>...</td>\n",
       "      <td>...</td>\n",
       "      <td>...</td>\n",
       "      <td>...</td>\n",
       "      <td>...</td>\n",
       "      <td>...</td>\n",
       "      <td>...</td>\n",
       "      <td>...</td>\n",
       "    </tr>\n",
       "    <tr>\n",
       "      <th>1455</th>\n",
       "      <td>1456</td>\n",
       "      <td>60</td>\n",
       "      <td>RL</td>\n",
       "      <td>62.0</td>\n",
       "      <td>7917</td>\n",
       "      <td>Pave</td>\n",
       "      <td>NaN</td>\n",
       "      <td>Reg</td>\n",
       "      <td>Lvl</td>\n",
       "      <td>AllPub</td>\n",
       "      <td>...</td>\n",
       "      <td>0</td>\n",
       "      <td>NaN</td>\n",
       "      <td>NaN</td>\n",
       "      <td>NaN</td>\n",
       "      <td>0</td>\n",
       "      <td>8</td>\n",
       "      <td>2007</td>\n",
       "      <td>WD</td>\n",
       "      <td>Normal</td>\n",
       "      <td>175000</td>\n",
       "    </tr>\n",
       "    <tr>\n",
       "      <th>1456</th>\n",
       "      <td>1457</td>\n",
       "      <td>20</td>\n",
       "      <td>RL</td>\n",
       "      <td>85.0</td>\n",
       "      <td>13175</td>\n",
       "      <td>Pave</td>\n",
       "      <td>NaN</td>\n",
       "      <td>Reg</td>\n",
       "      <td>Lvl</td>\n",
       "      <td>AllPub</td>\n",
       "      <td>...</td>\n",
       "      <td>0</td>\n",
       "      <td>NaN</td>\n",
       "      <td>MnPrv</td>\n",
       "      <td>NaN</td>\n",
       "      <td>0</td>\n",
       "      <td>2</td>\n",
       "      <td>2010</td>\n",
       "      <td>WD</td>\n",
       "      <td>Normal</td>\n",
       "      <td>210000</td>\n",
       "    </tr>\n",
       "    <tr>\n",
       "      <th>1457</th>\n",
       "      <td>1458</td>\n",
       "      <td>70</td>\n",
       "      <td>RL</td>\n",
       "      <td>66.0</td>\n",
       "      <td>9042</td>\n",
       "      <td>Pave</td>\n",
       "      <td>NaN</td>\n",
       "      <td>Reg</td>\n",
       "      <td>Lvl</td>\n",
       "      <td>AllPub</td>\n",
       "      <td>...</td>\n",
       "      <td>0</td>\n",
       "      <td>NaN</td>\n",
       "      <td>GdPrv</td>\n",
       "      <td>Shed</td>\n",
       "      <td>2500</td>\n",
       "      <td>5</td>\n",
       "      <td>2010</td>\n",
       "      <td>WD</td>\n",
       "      <td>Normal</td>\n",
       "      <td>266500</td>\n",
       "    </tr>\n",
       "    <tr>\n",
       "      <th>1458</th>\n",
       "      <td>1459</td>\n",
       "      <td>20</td>\n",
       "      <td>RL</td>\n",
       "      <td>68.0</td>\n",
       "      <td>9717</td>\n",
       "      <td>Pave</td>\n",
       "      <td>NaN</td>\n",
       "      <td>Reg</td>\n",
       "      <td>Lvl</td>\n",
       "      <td>AllPub</td>\n",
       "      <td>...</td>\n",
       "      <td>0</td>\n",
       "      <td>NaN</td>\n",
       "      <td>NaN</td>\n",
       "      <td>NaN</td>\n",
       "      <td>0</td>\n",
       "      <td>4</td>\n",
       "      <td>2010</td>\n",
       "      <td>WD</td>\n",
       "      <td>Normal</td>\n",
       "      <td>142125</td>\n",
       "    </tr>\n",
       "    <tr>\n",
       "      <th>1459</th>\n",
       "      <td>1460</td>\n",
       "      <td>20</td>\n",
       "      <td>RL</td>\n",
       "      <td>75.0</td>\n",
       "      <td>9937</td>\n",
       "      <td>Pave</td>\n",
       "      <td>NaN</td>\n",
       "      <td>Reg</td>\n",
       "      <td>Lvl</td>\n",
       "      <td>AllPub</td>\n",
       "      <td>...</td>\n",
       "      <td>0</td>\n",
       "      <td>NaN</td>\n",
       "      <td>NaN</td>\n",
       "      <td>NaN</td>\n",
       "      <td>0</td>\n",
       "      <td>6</td>\n",
       "      <td>2008</td>\n",
       "      <td>WD</td>\n",
       "      <td>Normal</td>\n",
       "      <td>147500</td>\n",
       "    </tr>\n",
       "  </tbody>\n",
       "</table>\n",
       "<p>1460 rows × 81 columns</p>\n",
       "</div>"
      ],
      "text/plain": [
       "        Id  MSSubClass MSZoning  LotFrontage  LotArea Street Alley LotShape  \\\n",
       "0        1          60       RL         65.0     8450   Pave   NaN      Reg   \n",
       "1        2          20       RL         80.0     9600   Pave   NaN      Reg   \n",
       "2        3          60       RL         68.0    11250   Pave   NaN      IR1   \n",
       "3        4          70       RL         60.0     9550   Pave   NaN      IR1   \n",
       "4        5          60       RL         84.0    14260   Pave   NaN      IR1   \n",
       "...    ...         ...      ...          ...      ...    ...   ...      ...   \n",
       "1455  1456          60       RL         62.0     7917   Pave   NaN      Reg   \n",
       "1456  1457          20       RL         85.0    13175   Pave   NaN      Reg   \n",
       "1457  1458          70       RL         66.0     9042   Pave   NaN      Reg   \n",
       "1458  1459          20       RL         68.0     9717   Pave   NaN      Reg   \n",
       "1459  1460          20       RL         75.0     9937   Pave   NaN      Reg   \n",
       "\n",
       "     LandContour Utilities  ... PoolArea PoolQC  Fence MiscFeature MiscVal  \\\n",
       "0            Lvl    AllPub  ...        0    NaN    NaN         NaN       0   \n",
       "1            Lvl    AllPub  ...        0    NaN    NaN         NaN       0   \n",
       "2            Lvl    AllPub  ...        0    NaN    NaN         NaN       0   \n",
       "3            Lvl    AllPub  ...        0    NaN    NaN         NaN       0   \n",
       "4            Lvl    AllPub  ...        0    NaN    NaN         NaN       0   \n",
       "...          ...       ...  ...      ...    ...    ...         ...     ...   \n",
       "1455         Lvl    AllPub  ...        0    NaN    NaN         NaN       0   \n",
       "1456         Lvl    AllPub  ...        0    NaN  MnPrv         NaN       0   \n",
       "1457         Lvl    AllPub  ...        0    NaN  GdPrv        Shed    2500   \n",
       "1458         Lvl    AllPub  ...        0    NaN    NaN         NaN       0   \n",
       "1459         Lvl    AllPub  ...        0    NaN    NaN         NaN       0   \n",
       "\n",
       "     MoSold YrSold  SaleType  SaleCondition  SalePrice  \n",
       "0         2   2008        WD         Normal     208500  \n",
       "1         5   2007        WD         Normal     181500  \n",
       "2         9   2008        WD         Normal     223500  \n",
       "3         2   2006        WD        Abnorml     140000  \n",
       "4        12   2008        WD         Normal     250000  \n",
       "...     ...    ...       ...            ...        ...  \n",
       "1455      8   2007        WD         Normal     175000  \n",
       "1456      2   2010        WD         Normal     210000  \n",
       "1457      5   2010        WD         Normal     266500  \n",
       "1458      4   2010        WD         Normal     142125  \n",
       "1459      6   2008        WD         Normal     147500  \n",
       "\n",
       "[1460 rows x 81 columns]"
      ]
     },
     "execution_count": 12,
     "metadata": {},
     "output_type": "execute_result"
    }
   ],
   "source": [
    "data1=data.copy()\n",
    "\n",
    "data1"
   ]
  },
  {
   "cell_type": "code",
   "execution_count": null,
   "id": "f1893977",
   "metadata": {},
   "outputs": [],
   "source": []
  },
  {
   "cell_type": "code",
   "execution_count": 13,
   "id": "0070341a",
   "metadata": {},
   "outputs": [
    {
     "data": {
      "image/png": "[encoded data removed]",
      "text/plain": [
       "<Figure size 432x288 with 1 Axes>"
      ]
     },
     "metadata": {
      "needs_background": "light"
     },
     "output_type": "display_data"
    }
   ],
   "source": [
    "sns.boxplot(x=data1[\"YrSold\"],y=data1[\"SalePrice\"])\n",
    "\n",
    "plt.xlabel(\"Year Sold\")\n",
    "\n",
    "plt.ylabel(\"Sales Price\")\n",
    "\n",
    "plt.title(\"Year Sold V/S Sale Price\")\n",
    "\n",
    "plt.show()"
   ]
  },
  {
   "cell_type": "code",
   "execution_count": null,
   "id": "b3dfcd89",
   "metadata": {},
   "outputs": [],
   "source": []
  },
  {
   "cell_type": "code",
   "execution_count": 14,
   "id": "f49a78ee",
   "metadata": {},
   "outputs": [],
   "source": [
    "data1=data1[(data1[\"SalePrice\"]<400000)]"
   ]
  },
  {
   "cell_type": "code",
   "execution_count": null,
   "id": "2e548754",
   "metadata": {},
   "outputs": [],
   "source": []
  },
  {
   "cell_type": "code",
   "execution_count": 15,
   "id": "d38e272e",
   "metadata": {},
   "outputs": [
    {
     "data": {
      "image/png": "[encoded data removed]",
      "text/plain": [
       "<Figure size 432x288 with 1 Axes>"
      ]
     },
     "metadata": {
      "needs_background": "light"
     },
     "output_type": "display_data"
    }
   ],
   "source": [
    "sns.boxplot(x=data1[\"YrSold\"],y=data1[\"SalePrice\"])\n",
    "\n",
    "plt.xlabel(\"Year Sold\")\n",
    "\n",
    "plt.ylabel(\"Sales Price\")\n",
    "\n",
    "plt.title(\"Year Sold V/S Sale Price(Treated)\")\n",
    "\n",
    "plt.show()"
   ]
  },
  {
   "cell_type": "code",
   "execution_count": null,
   "id": "e1e22bff",
   "metadata": {},
   "outputs": [],
   "source": []
  },
  {
   "cell_type": "code",
   "execution_count": 16,
   "id": "01a8680e",
   "metadata": {},
   "outputs": [
    {
     "data": {
      "image/png": "[encoded data removed]",
      "text/plain": [
       "<Figure size 432x288 with 1 Axes>"
      ]
     },
     "metadata": {
      "needs_background": "light"
     },
     "output_type": "display_data"
    }
   ],
   "source": [
    "sns.boxplot(x=data1[\"YrSold\"],y=data1[\"LotArea\"])\n",
    "\n",
    "plt.xlabel(\"Year Sold\")\n",
    "\n",
    "plt.ylabel(\"LotArea\")\n",
    "\n",
    "plt.title(\"Year Sold V/S LotArea\")\n",
    "\n",
    "plt.show()"
   ]
  },
  {
   "cell_type": "code",
   "execution_count": null,
   "id": "57fdf3cf",
   "metadata": {},
   "outputs": [],
   "source": []
  },
  {
   "cell_type": "code",
   "execution_count": 17,
   "id": "a74c9dd8",
   "metadata": {},
   "outputs": [],
   "source": [
    "data1=data1[(data1[\"SalePrice\"]<400000)&(data1[\"LotArea\"]<20000)]"
   ]
  },
  {
   "cell_type": "code",
   "execution_count": null,
   "id": "36816d8f",
   "metadata": {},
   "outputs": [],
   "source": []
  },
  {
   "cell_type": "code",
   "execution_count": 18,
   "id": "04c63653",
   "metadata": {},
   "outputs": [
    {
     "data": {
      "image/png": "[encoded data removed]",
      "text/plain": [
       "<Figure size 432x288 with 1 Axes>"
      ]
     },
     "metadata": {
      "needs_background": "light"
     },
     "output_type": "display_data"
    }
   ],
   "source": [
    "sns.boxplot(x=data1[\"YrSold\"],y=data1[\"LotArea\"])\n",
    "\n",
    "plt.xlabel(\"Year Sold\")\n",
    "\n",
    "plt.ylabel(\"LotArea\")\n",
    "\n",
    "plt.title(\"Year Sold V/S LotArea(Treated)\")\n",
    "\n",
    "plt.show()"
   ]
  },
  {
   "cell_type": "code",
   "execution_count": null,
   "id": "58c1b48a",
   "metadata": {},
   "outputs": [],
   "source": []
  },
  {
   "cell_type": "code",
   "execution_count": 19,
   "id": "926ad400",
   "metadata": {},
   "outputs": [
    {
     "data": {
      "text/plain": [
       "(1386, 81)"
      ]
     },
     "execution_count": 19,
     "metadata": {},
     "output_type": "execute_result"
    }
   ],
   "source": [
    "data1.shape"
   ]
  },
  {
   "cell_type": "code",
   "execution_count": null,
   "id": "46e3f1f0",
   "metadata": {},
   "outputs": [],
   "source": []
  },
  {
   "cell_type": "code",
   "execution_count": 20,
   "id": "e0bed58a",
   "metadata": {},
   "outputs": [
    {
     "data": {
      "image/png": "[encoded data removed]",
      "text/plain": [
       "<Figure size 432x288 with 1 Axes>"
      ]
     },
     "metadata": {
      "needs_background": "light"
     },
     "output_type": "display_data"
    }
   ],
   "source": [
    "sns.boxplot(x=data1[\"YrSold\"],y=data1[\"LotFrontage\"])\n",
    "\n",
    "plt.xlabel(\"Year Sold\")\n",
    "\n",
    "plt.ylabel(\"LotFrontage\")\n",
    "\n",
    "plt.title(\"Year Sold V/S LotFrontage\")\n",
    "\n",
    "plt.show()"
   ]
  },
  {
   "cell_type": "code",
   "execution_count": null,
   "id": "d79d80a8",
   "metadata": {},
   "outputs": [],
   "source": []
  },
  {
   "cell_type": "code",
   "execution_count": 21,
   "id": "62a86445",
   "metadata": {},
   "outputs": [],
   "source": [
    "data1=data1[(data1[\"SalePrice\"]<400000)&(data1[\"LotArea\"]<25000)&(data1[\"LotFrontage\"]<140)]"
   ]
  },
  {
   "cell_type": "code",
   "execution_count": null,
   "id": "c5ce1ad4",
   "metadata": {},
   "outputs": [],
   "source": []
  },
  {
   "cell_type": "code",
   "execution_count": 22,
   "id": "c5d5bd49",
   "metadata": {},
   "outputs": [
    {
     "data": {
      "image/png": "[encoded data removed]",
      "text/plain": [
       "<Figure size 432x288 with 1 Axes>"
      ]
     },
     "metadata": {
      "needs_background": "light"
     },
     "output_type": "display_data"
    }
   ],
   "source": [
    "sns.boxplot(x=data1[\"YrSold\"],y=data1[\"LotFrontage\"])\n",
    "\n",
    "plt.xlabel(\"Year Sold\")\n",
    "\n",
    "plt.ylabel(\"LotFrontage\")\n",
    "\n",
    "plt.title(\"Year Sold V/S LotFrontage(Treated)\")\n",
    "\n",
    "plt.show()"
   ]
  },
  {
   "cell_type": "code",
   "execution_count": null,
   "id": "2582e11a",
   "metadata": {},
   "outputs": [],
   "source": []
  },
  {
   "cell_type": "code",
   "execution_count": 23,
   "id": "688e3b09",
   "metadata": {},
   "outputs": [
    {
     "data": {
      "text/plain": [
       "(1144, 81)"
      ]
     },
     "execution_count": 23,
     "metadata": {},
     "output_type": "execute_result"
    }
   ],
   "source": [
    "data1.shape"
   ]
  },
  {
   "cell_type": "code",
   "execution_count": 24,
   "id": "5d3c390b",
   "metadata": {},
   "outputs": [
    {
     "data": {
      "text/plain": [
       "0.7835616438356164"
      ]
     },
     "execution_count": 24,
     "metadata": {},
     "output_type": "execute_result"
    }
   ],
   "source": [
    "1144/1460"
   ]
  },
  {
   "cell_type": "code",
   "execution_count": null,
   "id": "f2c0f340",
   "metadata": {},
   "outputs": [],
   "source": []
  },
  {
   "cell_type": "code",
   "execution_count": 25,
   "id": "46ce4176",
   "metadata": {},
   "outputs": [],
   "source": [
    "data1[\"LotFrontage\"].fillna(0.0,inplace=True)"
   ]
  },
  {
   "cell_type": "code",
   "execution_count": null,
   "id": "f913db3d",
   "metadata": {},
   "outputs": [],
   "source": []
  },
  {
   "cell_type": "code",
   "execution_count": 26,
   "id": "471b87a0",
   "metadata": {},
   "outputs": [
    {
     "data": {
      "text/plain": [
       "0"
      ]
     },
     "execution_count": 26,
     "metadata": {},
     "output_type": "execute_result"
    }
   ],
   "source": [
    "data1[\"LotFrontage\"].isna().sum()"
   ]
  },
  {
   "cell_type": "code",
   "execution_count": null,
   "id": "f02d5ec9",
   "metadata": {},
   "outputs": [],
   "source": []
  },
  {
   "cell_type": "raw",
   "id": "ff3edfcc",
   "metadata": {},
   "source": [
    "Salesprice of houses highly depends upon Overall quality of the house, The Car capacity \n",
    "and area of the garage,Total Basement and living  area.And moderately depends upon\n",
    "the year the house was built ,\n",
    "remodification date and the masonary used."
   ]
  },
  {
   "cell_type": "code",
   "execution_count": null,
   "id": "17ce9e14",
   "metadata": {},
   "outputs": [],
   "source": []
  },
  {
   "cell_type": "code",
   "execution_count": 27,
   "id": "69627db5",
   "metadata": {},
   "outputs": [
    {
     "data": {
      "text/html": [
       "<div>\n",
       "<style scoped>\n",
       "    .dataframe tbody tr th:only-of-type {\n",
       "        vertical-align: middle;\n",
       "    }\n",
       "\n",
       "    .dataframe tbody tr th {\n",
       "        vertical-align: top;\n",
       "    }\n",
       "\n",
       "    .dataframe thead th {\n",
       "        text-align: right;\n",
       "    }\n",
       "</style>\n",
       "<table border=\"1\" class=\"dataframe\">\n",
       "  <thead>\n",
       "    <tr style=\"text-align: right;\">\n",
       "      <th></th>\n",
       "      <th>Id</th>\n",
       "      <th>MSSubClass</th>\n",
       "      <th>MSZoning</th>\n",
       "      <th>LotFrontage</th>\n",
       "      <th>LotArea</th>\n",
       "      <th>Street</th>\n",
       "      <th>Alley</th>\n",
       "      <th>LotShape</th>\n",
       "      <th>LandContour</th>\n",
       "      <th>Utilities</th>\n",
       "      <th>...</th>\n",
       "      <th>PoolArea</th>\n",
       "      <th>PoolQC</th>\n",
       "      <th>Fence</th>\n",
       "      <th>MiscFeature</th>\n",
       "      <th>MiscVal</th>\n",
       "      <th>MoSold</th>\n",
       "      <th>YrSold</th>\n",
       "      <th>SaleType</th>\n",
       "      <th>SaleCondition</th>\n",
       "      <th>SalePrice</th>\n",
       "    </tr>\n",
       "  </thead>\n",
       "  <tbody>\n",
       "    <tr>\n",
       "      <th>0</th>\n",
       "      <td>1</td>\n",
       "      <td>60</td>\n",
       "      <td>RL</td>\n",
       "      <td>65.0</td>\n",
       "      <td>8450</td>\n",
       "      <td>Pave</td>\n",
       "      <td>NaN</td>\n",
       "      <td>Reg</td>\n",
       "      <td>Lvl</td>\n",
       "      <td>AllPub</td>\n",
       "      <td>...</td>\n",
       "      <td>0</td>\n",
       "      <td>NaN</td>\n",
       "      <td>NaN</td>\n",
       "      <td>NaN</td>\n",
       "      <td>0</td>\n",
       "      <td>2</td>\n",
       "      <td>2008</td>\n",
       "      <td>WD</td>\n",
       "      <td>Normal</td>\n",
       "      <td>208500</td>\n",
       "    </tr>\n",
       "    <tr>\n",
       "      <th>1</th>\n",
       "      <td>2</td>\n",
       "      <td>20</td>\n",
       "      <td>RL</td>\n",
       "      <td>80.0</td>\n",
       "      <td>9600</td>\n",
       "      <td>Pave</td>\n",
       "      <td>NaN</td>\n",
       "      <td>Reg</td>\n",
       "      <td>Lvl</td>\n",
       "      <td>AllPub</td>\n",
       "      <td>...</td>\n",
       "      <td>0</td>\n",
       "      <td>NaN</td>\n",
       "      <td>NaN</td>\n",
       "      <td>NaN</td>\n",
       "      <td>0</td>\n",
       "      <td>5</td>\n",
       "      <td>2007</td>\n",
       "      <td>WD</td>\n",
       "      <td>Normal</td>\n",
       "      <td>181500</td>\n",
       "    </tr>\n",
       "    <tr>\n",
       "      <th>2</th>\n",
       "      <td>3</td>\n",
       "      <td>60</td>\n",
       "      <td>RL</td>\n",
       "      <td>68.0</td>\n",
       "      <td>11250</td>\n",
       "      <td>Pave</td>\n",
       "      <td>NaN</td>\n",
       "      <td>IR1</td>\n",
       "      <td>Lvl</td>\n",
       "      <td>AllPub</td>\n",
       "      <td>...</td>\n",
       "      <td>0</td>\n",
       "      <td>NaN</td>\n",
       "      <td>NaN</td>\n",
       "      <td>NaN</td>\n",
       "      <td>0</td>\n",
       "      <td>9</td>\n",
       "      <td>2008</td>\n",
       "      <td>WD</td>\n",
       "      <td>Normal</td>\n",
       "      <td>223500</td>\n",
       "    </tr>\n",
       "    <tr>\n",
       "      <th>3</th>\n",
       "      <td>4</td>\n",
       "      <td>70</td>\n",
       "      <td>RL</td>\n",
       "      <td>60.0</td>\n",
       "      <td>9550</td>\n",
       "      <td>Pave</td>\n",
       "      <td>NaN</td>\n",
       "      <td>IR1</td>\n",
       "      <td>Lvl</td>\n",
       "      <td>AllPub</td>\n",
       "      <td>...</td>\n",
       "      <td>0</td>\n",
       "      <td>NaN</td>\n",
       "      <td>NaN</td>\n",
       "      <td>NaN</td>\n",
       "      <td>0</td>\n",
       "      <td>2</td>\n",
       "      <td>2006</td>\n",
       "      <td>WD</td>\n",
       "      <td>Abnorml</td>\n",
       "      <td>140000</td>\n",
       "    </tr>\n",
       "    <tr>\n",
       "      <th>4</th>\n",
       "      <td>5</td>\n",
       "      <td>60</td>\n",
       "      <td>RL</td>\n",
       "      <td>84.0</td>\n",
       "      <td>14260</td>\n",
       "      <td>Pave</td>\n",
       "      <td>NaN</td>\n",
       "      <td>IR1</td>\n",
       "      <td>Lvl</td>\n",
       "      <td>AllPub</td>\n",
       "      <td>...</td>\n",
       "      <td>0</td>\n",
       "      <td>NaN</td>\n",
       "      <td>NaN</td>\n",
       "      <td>NaN</td>\n",
       "      <td>0</td>\n",
       "      <td>12</td>\n",
       "      <td>2008</td>\n",
       "      <td>WD</td>\n",
       "      <td>Normal</td>\n",
       "      <td>250000</td>\n",
       "    </tr>\n",
       "    <tr>\n",
       "      <th>...</th>\n",
       "      <td>...</td>\n",
       "      <td>...</td>\n",
       "      <td>...</td>\n",
       "      <td>...</td>\n",
       "      <td>...</td>\n",
       "      <td>...</td>\n",
       "      <td>...</td>\n",
       "      <td>...</td>\n",
       "      <td>...</td>\n",
       "      <td>...</td>\n",
       "      <td>...</td>\n",
       "      <td>...</td>\n",
       "      <td>...</td>\n",
       "      <td>...</td>\n",
       "      <td>...</td>\n",
       "      <td>...</td>\n",
       "      <td>...</td>\n",
       "      <td>...</td>\n",
       "      <td>...</td>\n",
       "      <td>...</td>\n",
       "      <td>...</td>\n",
       "    </tr>\n",
       "    <tr>\n",
       "      <th>1455</th>\n",
       "      <td>1456</td>\n",
       "      <td>60</td>\n",
       "      <td>RL</td>\n",
       "      <td>62.0</td>\n",
       "      <td>7917</td>\n",
       "      <td>Pave</td>\n",
       "      <td>NaN</td>\n",
       "      <td>Reg</td>\n",
       "      <td>Lvl</td>\n",
       "      <td>AllPub</td>\n",
       "      <td>...</td>\n",
       "      <td>0</td>\n",
       "      <td>NaN</td>\n",
       "      <td>NaN</td>\n",
       "      <td>NaN</td>\n",
       "      <td>0</td>\n",
       "      <td>8</td>\n",
       "      <td>2007</td>\n",
       "      <td>WD</td>\n",
       "      <td>Normal</td>\n",
       "      <td>175000</td>\n",
       "    </tr>\n",
       "    <tr>\n",
       "      <th>1456</th>\n",
       "      <td>1457</td>\n",
       "      <td>20</td>\n",
       "      <td>RL</td>\n",
       "      <td>85.0</td>\n",
       "      <td>13175</td>\n",
       "      <td>Pave</td>\n",
       "      <td>NaN</td>\n",
       "      <td>Reg</td>\n",
       "      <td>Lvl</td>\n",
       "      <td>AllPub</td>\n",
       "      <td>...</td>\n",
       "      <td>0</td>\n",
       "      <td>NaN</td>\n",
       "      <td>MnPrv</td>\n",
       "      <td>NaN</td>\n",
       "      <td>0</td>\n",
       "      <td>2</td>\n",
       "      <td>2010</td>\n",
       "      <td>WD</td>\n",
       "      <td>Normal</td>\n",
       "      <td>210000</td>\n",
       "    </tr>\n",
       "    <tr>\n",
       "      <th>1457</th>\n",
       "      <td>1458</td>\n",
       "      <td>70</td>\n",
       "      <td>RL</td>\n",
       "      <td>66.0</td>\n",
       "      <td>9042</td>\n",
       "      <td>Pave</td>\n",
       "      <td>NaN</td>\n",
       "      <td>Reg</td>\n",
       "      <td>Lvl</td>\n",
       "      <td>AllPub</td>\n",
       "      <td>...</td>\n",
       "      <td>0</td>\n",
       "      <td>NaN</td>\n",
       "      <td>GdPrv</td>\n",
       "      <td>Shed</td>\n",
       "      <td>2500</td>\n",
       "      <td>5</td>\n",
       "      <td>2010</td>\n",
       "      <td>WD</td>\n",
       "      <td>Normal</td>\n",
       "      <td>266500</td>\n",
       "    </tr>\n",
       "    <tr>\n",
       "      <th>1458</th>\n",
       "      <td>1459</td>\n",
       "      <td>20</td>\n",
       "      <td>RL</td>\n",
       "      <td>68.0</td>\n",
       "      <td>9717</td>\n",
       "      <td>Pave</td>\n",
       "      <td>NaN</td>\n",
       "      <td>Reg</td>\n",
       "      <td>Lvl</td>\n",
       "      <td>AllPub</td>\n",
       "      <td>...</td>\n",
       "      <td>0</td>\n",
       "      <td>NaN</td>\n",
       "      <td>NaN</td>\n",
       "      <td>NaN</td>\n",
       "      <td>0</td>\n",
       "      <td>4</td>\n",
       "      <td>2010</td>\n",
       "      <td>WD</td>\n",
       "      <td>Normal</td>\n",
       "      <td>142125</td>\n",
       "    </tr>\n",
       "    <tr>\n",
       "      <th>1459</th>\n",
       "      <td>1460</td>\n",
       "      <td>20</td>\n",
       "      <td>RL</td>\n",
       "      <td>75.0</td>\n",
       "      <td>9937</td>\n",
       "      <td>Pave</td>\n",
       "      <td>NaN</td>\n",
       "      <td>Reg</td>\n",
       "      <td>Lvl</td>\n",
       "      <td>AllPub</td>\n",
       "      <td>...</td>\n",
       "      <td>0</td>\n",
       "      <td>NaN</td>\n",
       "      <td>NaN</td>\n",
       "      <td>NaN</td>\n",
       "      <td>0</td>\n",
       "      <td>6</td>\n",
       "      <td>2008</td>\n",
       "      <td>WD</td>\n",
       "      <td>Normal</td>\n",
       "      <td>147500</td>\n",
       "    </tr>\n",
       "  </tbody>\n",
       "</table>\n",
       "<p>1144 rows × 81 columns</p>\n",
       "</div>"
      ],
      "text/plain": [
       "        Id  MSSubClass MSZoning  LotFrontage  LotArea Street Alley LotShape  \\\n",
       "0        1          60       RL         65.0     8450   Pave   NaN      Reg   \n",
       "1        2          20       RL         80.0     9600   Pave   NaN      Reg   \n",
       "2        3          60       RL         68.0    11250   Pave   NaN      IR1   \n",
       "3        4          70       RL         60.0     9550   Pave   NaN      IR1   \n",
       "4        5          60       RL         84.0    14260   Pave   NaN      IR1   \n",
       "...    ...         ...      ...          ...      ...    ...   ...      ...   \n",
       "1455  1456          60       RL         62.0     7917   Pave   NaN      Reg   \n",
       "1456  1457          20       RL         85.0    13175   Pave   NaN      Reg   \n",
       "1457  1458          70       RL         66.0     9042   Pave   NaN      Reg   \n",
       "1458  1459          20       RL         68.0     9717   Pave   NaN      Reg   \n",
       "1459  1460          20       RL         75.0     9937   Pave   NaN      Reg   \n",
       "\n",
       "     LandContour Utilities  ... PoolArea PoolQC  Fence MiscFeature MiscVal  \\\n",
       "0            Lvl    AllPub  ...        0    NaN    NaN         NaN       0   \n",
       "1            Lvl    AllPub  ...        0    NaN    NaN         NaN       0   \n",
       "2            Lvl    AllPub  ...        0    NaN    NaN         NaN       0   \n",
       "3            Lvl    AllPub  ...        0    NaN    NaN         NaN       0   \n",
       "4            Lvl    AllPub  ...        0    NaN    NaN         NaN       0   \n",
       "...          ...       ...  ...      ...    ...    ...         ...     ...   \n",
       "1455         Lvl    AllPub  ...        0    NaN    NaN         NaN       0   \n",
       "1456         Lvl    AllPub  ...        0    NaN  MnPrv         NaN       0   \n",
       "1457         Lvl    AllPub  ...        0    NaN  GdPrv        Shed    2500   \n",
       "1458         Lvl    AllPub  ...        0    NaN    NaN         NaN       0   \n",
       "1459         Lvl    AllPub  ...        0    NaN    NaN         NaN       0   \n",
       "\n",
       "     MoSold YrSold  SaleType  SaleCondition  SalePrice  \n",
       "0         2   2008        WD         Normal     208500  \n",
       "1         5   2007        WD         Normal     181500  \n",
       "2         9   2008        WD         Normal     223500  \n",
       "3         2   2006        WD        Abnorml     140000  \n",
       "4        12   2008        WD         Normal     250000  \n",
       "...     ...    ...       ...            ...        ...  \n",
       "1455      8   2007        WD         Normal     175000  \n",
       "1456      2   2010        WD         Normal     210000  \n",
       "1457      5   2010        WD         Normal     266500  \n",
       "1458      4   2010        WD         Normal     142125  \n",
       "1459      6   2008        WD         Normal     147500  \n",
       "\n",
       "[1144 rows x 81 columns]"
      ]
     },
     "execution_count": 27,
     "metadata": {},
     "output_type": "execute_result"
    }
   ],
   "source": [
    "data1"
   ]
  },
  {
   "cell_type": "code",
   "execution_count": null,
   "id": "63edfc57",
   "metadata": {},
   "outputs": [],
   "source": []
  },
  {
   "cell_type": "code",
   "execution_count": 28,
   "id": "101def9b",
   "metadata": {},
   "outputs": [
    {
     "data": {
      "text/plain": [
       "Index(['Id', 'MSSubClass', 'MSZoning', 'LotFrontage', 'LotArea', 'Street',\n",
       "       'Alley', 'LotShape', 'LandContour', 'Utilities', 'LotConfig',\n",
       "       'LandSlope', 'Neighborhood', 'Condition1', 'Condition2', 'BldgType',\n",
       "       'HouseStyle', 'OverallQual', 'OverallCond', 'YearBuilt', 'YearRemodAdd',\n",
       "       'RoofStyle', 'RoofMatl', 'Exterior1st', 'Exterior2nd', 'MasVnrType',\n",
       "       'MasVnrArea', 'ExterQual', 'ExterCond', 'Foundation', 'BsmtQual',\n",
       "       'BsmtCond', 'BsmtExposure', 'BsmtFinType1', 'BsmtFinSF1',\n",
       "       'BsmtFinType2', 'BsmtFinSF2', 'BsmtUnfSF', 'TotalBsmtSF', 'Heating',\n",
       "       'HeatingQC', 'CentralAir', 'Electrical', '1stFlrSF', '2ndFlrSF',\n",
       "       'LowQualFinSF', 'GrLivArea', 'BsmtFullBath', 'BsmtHalfBath', 'FullBath',\n",
       "       'HalfBath', 'BedroomAbvGr', 'KitchenAbvGr', 'KitchenQual',\n",
       "       'TotRmsAbvGrd', 'Functional', 'Fireplaces', 'FireplaceQu', 'GarageType',\n",
       "       'GarageYrBlt', 'GarageFinish', 'GarageCars', 'GarageArea', 'GarageQual',\n",
       "       'GarageCond', 'PavedDrive', 'WoodDeckSF', 'OpenPorchSF',\n",
       "       'EnclosedPorch', '3SsnPorch', 'ScreenPorch', 'PoolArea', 'PoolQC',\n",
       "       'Fence', 'MiscFeature', 'MiscVal', 'MoSold', 'YrSold', 'SaleType',\n",
       "       'SaleCondition', 'SalePrice'],\n",
       "      dtype='object')"
      ]
     },
     "execution_count": 28,
     "metadata": {},
     "output_type": "execute_result"
    }
   ],
   "source": [
    "data1.columns"
   ]
  },
  {
   "cell_type": "code",
   "execution_count": null,
   "id": "a655be51",
   "metadata": {},
   "outputs": [],
   "source": []
  },
  {
   "cell_type": "markdown",
   "id": "e0beb4c3",
   "metadata": {},
   "source": [
    "# Considering only the strongly and moderately correlated Features(Refer point 12 in EDA results)"
   ]
  },
  {
   "cell_type": "code",
   "execution_count": null,
   "id": "b9ee6014",
   "metadata": {},
   "outputs": [],
   "source": []
  },
  {
   "cell_type": "code",
   "execution_count": 29,
   "id": "c7aa8fa6",
   "metadata": {},
   "outputs": [
    {
     "data": {
      "text/html": [
       "<div>\n",
       "<style scoped>\n",
       "    .dataframe tbody tr th:only-of-type {\n",
       "        vertical-align: middle;\n",
       "    }\n",
       "\n",
       "    .dataframe tbody tr th {\n",
       "        vertical-align: top;\n",
       "    }\n",
       "\n",
       "    .dataframe thead th {\n",
       "        text-align: right;\n",
       "    }\n",
       "</style>\n",
       "<table border=\"1\" class=\"dataframe\">\n",
       "  <thead>\n",
       "    <tr style=\"text-align: right;\">\n",
       "      <th></th>\n",
       "      <th>OverallQual</th>\n",
       "      <th>GarageCars</th>\n",
       "      <th>GarageArea</th>\n",
       "      <th>YearBuilt</th>\n",
       "      <th>GrLivArea</th>\n",
       "      <th>TotalBsmtSF</th>\n",
       "      <th>MasVnrType</th>\n",
       "      <th>YearRemodAdd</th>\n",
       "      <th>SalePrice</th>\n",
       "    </tr>\n",
       "  </thead>\n",
       "  <tbody>\n",
       "    <tr>\n",
       "      <th>0</th>\n",
       "      <td>7</td>\n",
       "      <td>2</td>\n",
       "      <td>548</td>\n",
       "      <td>2003</td>\n",
       "      <td>1710</td>\n",
       "      <td>856</td>\n",
       "      <td>BrkFace</td>\n",
       "      <td>2003</td>\n",
       "      <td>208500</td>\n",
       "    </tr>\n",
       "    <tr>\n",
       "      <th>1</th>\n",
       "      <td>6</td>\n",
       "      <td>2</td>\n",
       "      <td>460</td>\n",
       "      <td>1976</td>\n",
       "      <td>1262</td>\n",
       "      <td>1262</td>\n",
       "      <td>None</td>\n",
       "      <td>1976</td>\n",
       "      <td>181500</td>\n",
       "    </tr>\n",
       "    <tr>\n",
       "      <th>2</th>\n",
       "      <td>7</td>\n",
       "      <td>2</td>\n",
       "      <td>608</td>\n",
       "      <td>2001</td>\n",
       "      <td>1786</td>\n",
       "      <td>920</td>\n",
       "      <td>BrkFace</td>\n",
       "      <td>2002</td>\n",
       "      <td>223500</td>\n",
       "    </tr>\n",
       "    <tr>\n",
       "      <th>3</th>\n",
       "      <td>7</td>\n",
       "      <td>3</td>\n",
       "      <td>642</td>\n",
       "      <td>1915</td>\n",
       "      <td>1717</td>\n",
       "      <td>756</td>\n",
       "      <td>None</td>\n",
       "      <td>1970</td>\n",
       "      <td>140000</td>\n",
       "    </tr>\n",
       "    <tr>\n",
       "      <th>4</th>\n",
       "      <td>8</td>\n",
       "      <td>3</td>\n",
       "      <td>836</td>\n",
       "      <td>2000</td>\n",
       "      <td>2198</td>\n",
       "      <td>1145</td>\n",
       "      <td>BrkFace</td>\n",
       "      <td>2000</td>\n",
       "      <td>250000</td>\n",
       "    </tr>\n",
       "    <tr>\n",
       "      <th>...</th>\n",
       "      <td>...</td>\n",
       "      <td>...</td>\n",
       "      <td>...</td>\n",
       "      <td>...</td>\n",
       "      <td>...</td>\n",
       "      <td>...</td>\n",
       "      <td>...</td>\n",
       "      <td>...</td>\n",
       "      <td>...</td>\n",
       "    </tr>\n",
       "    <tr>\n",
       "      <th>1455</th>\n",
       "      <td>6</td>\n",
       "      <td>2</td>\n",
       "      <td>460</td>\n",
       "      <td>1999</td>\n",
       "      <td>1647</td>\n",
       "      <td>953</td>\n",
       "      <td>None</td>\n",
       "      <td>2000</td>\n",
       "      <td>175000</td>\n",
       "    </tr>\n",
       "    <tr>\n",
       "      <th>1456</th>\n",
       "      <td>6</td>\n",
       "      <td>2</td>\n",
       "      <td>500</td>\n",
       "      <td>1978</td>\n",
       "      <td>2073</td>\n",
       "      <td>1542</td>\n",
       "      <td>Stone</td>\n",
       "      <td>1988</td>\n",
       "      <td>210000</td>\n",
       "    </tr>\n",
       "    <tr>\n",
       "      <th>1457</th>\n",
       "      <td>7</td>\n",
       "      <td>1</td>\n",
       "      <td>252</td>\n",
       "      <td>1941</td>\n",
       "      <td>2340</td>\n",
       "      <td>1152</td>\n",
       "      <td>None</td>\n",
       "      <td>2006</td>\n",
       "      <td>266500</td>\n",
       "    </tr>\n",
       "    <tr>\n",
       "      <th>1458</th>\n",
       "      <td>5</td>\n",
       "      <td>1</td>\n",
       "      <td>240</td>\n",
       "      <td>1950</td>\n",
       "      <td>1078</td>\n",
       "      <td>1078</td>\n",
       "      <td>None</td>\n",
       "      <td>1996</td>\n",
       "      <td>142125</td>\n",
       "    </tr>\n",
       "    <tr>\n",
       "      <th>1459</th>\n",
       "      <td>5</td>\n",
       "      <td>1</td>\n",
       "      <td>276</td>\n",
       "      <td>1965</td>\n",
       "      <td>1256</td>\n",
       "      <td>1256</td>\n",
       "      <td>None</td>\n",
       "      <td>1965</td>\n",
       "      <td>147500</td>\n",
       "    </tr>\n",
       "  </tbody>\n",
       "</table>\n",
       "<p>1144 rows × 9 columns</p>\n",
       "</div>"
      ],
      "text/plain": [
       "      OverallQual  GarageCars  GarageArea  YearBuilt  GrLivArea  TotalBsmtSF  \\\n",
       "0               7           2         548       2003       1710          856   \n",
       "1               6           2         460       1976       1262         1262   \n",
       "2               7           2         608       2001       1786          920   \n",
       "3               7           3         642       1915       1717          756   \n",
       "4               8           3         836       2000       2198         1145   \n",
       "...           ...         ...         ...        ...        ...          ...   \n",
       "1455            6           2         460       1999       1647          953   \n",
       "1456            6           2         500       1978       2073         1542   \n",
       "1457            7           1         252       1941       2340         1152   \n",
       "1458            5           1         240       1950       1078         1078   \n",
       "1459            5           1         276       1965       1256         1256   \n",
       "\n",
       "     MasVnrType  YearRemodAdd  SalePrice  \n",
       "0       BrkFace          2003     208500  \n",
       "1          None          1976     181500  \n",
       "2       BrkFace          2002     223500  \n",
       "3          None          1970     140000  \n",
       "4       BrkFace          2000     250000  \n",
       "...         ...           ...        ...  \n",
       "1455       None          2000     175000  \n",
       "1456      Stone          1988     210000  \n",
       "1457       None          2006     266500  \n",
       "1458       None          1996     142125  \n",
       "1459       None          1965     147500  \n",
       "\n",
       "[1144 rows x 9 columns]"
      ]
     },
     "execution_count": 29,
     "metadata": {},
     "output_type": "execute_result"
    }
   ],
   "source": [
    "data2=data1[['OverallQual','GarageCars','GarageArea','YearBuilt','GrLivArea','TotalBsmtSF','MasVnrType','YearRemodAdd','SalePrice']]\n",
    "           \n",
    "\n",
    "data2"
   ]
  },
  {
   "cell_type": "code",
   "execution_count": null,
   "id": "e387bc04",
   "metadata": {},
   "outputs": [],
   "source": []
  },
  {
   "cell_type": "code",
   "execution_count": 30,
   "id": "6a946970",
   "metadata": {},
   "outputs": [
    {
     "data": {
      "text/plain": [
       "OverallQual      int64\n",
       "GarageCars       int64\n",
       "GarageArea       int64\n",
       "YearBuilt        int64\n",
       "GrLivArea        int64\n",
       "TotalBsmtSF      int64\n",
       "MasVnrType      object\n",
       "YearRemodAdd     int64\n",
       "SalePrice        int64\n",
       "dtype: object"
      ]
     },
     "execution_count": 30,
     "metadata": {},
     "output_type": "execute_result"
    }
   ],
   "source": [
    "data2.dtypes"
   ]
  },
  {
   "cell_type": "code",
   "execution_count": null,
   "id": "34746fff",
   "metadata": {},
   "outputs": [],
   "source": []
  },
  {
   "cell_type": "code",
   "execution_count": 31,
   "id": "082771f5",
   "metadata": {},
   "outputs": [
    {
     "data": {
      "text/html": [
       "<div>\n",
       "<style scoped>\n",
       "    .dataframe tbody tr th:only-of-type {\n",
       "        vertical-align: middle;\n",
       "    }\n",
       "\n",
       "    .dataframe tbody tr th {\n",
       "        vertical-align: top;\n",
       "    }\n",
       "\n",
       "    .dataframe thead th {\n",
       "        text-align: right;\n",
       "    }\n",
       "</style>\n",
       "<table border=\"1\" class=\"dataframe\">\n",
       "  <thead>\n",
       "    <tr style=\"text-align: right;\">\n",
       "      <th></th>\n",
       "      <th>count</th>\n",
       "      <th>mean</th>\n",
       "      <th>std</th>\n",
       "      <th>min</th>\n",
       "      <th>25%</th>\n",
       "      <th>50%</th>\n",
       "      <th>75%</th>\n",
       "      <th>max</th>\n",
       "    </tr>\n",
       "  </thead>\n",
       "  <tbody>\n",
       "    <tr>\n",
       "      <th>OverallQual</th>\n",
       "      <td>1144.0</td>\n",
       "      <td>6.049825</td>\n",
       "      <td>1.350338</td>\n",
       "      <td>1.0</td>\n",
       "      <td>5.00</td>\n",
       "      <td>6.0</td>\n",
       "      <td>7.0</td>\n",
       "      <td>10.0</td>\n",
       "    </tr>\n",
       "    <tr>\n",
       "      <th>GarageCars</th>\n",
       "      <td>1144.0</td>\n",
       "      <td>1.729021</td>\n",
       "      <td>0.766762</td>\n",
       "      <td>0.0</td>\n",
       "      <td>1.00</td>\n",
       "      <td>2.0</td>\n",
       "      <td>2.0</td>\n",
       "      <td>4.0</td>\n",
       "    </tr>\n",
       "    <tr>\n",
       "      <th>GarageArea</th>\n",
       "      <td>1144.0</td>\n",
       "      <td>461.786713</td>\n",
       "      <td>214.254381</td>\n",
       "      <td>0.0</td>\n",
       "      <td>308.00</td>\n",
       "      <td>474.0</td>\n",
       "      <td>576.0</td>\n",
       "      <td>1390.0</td>\n",
       "    </tr>\n",
       "    <tr>\n",
       "      <th>YearBuilt</th>\n",
       "      <td>1144.0</td>\n",
       "      <td>1970.050699</td>\n",
       "      <td>31.697458</td>\n",
       "      <td>1872.0</td>\n",
       "      <td>1950.00</td>\n",
       "      <td>1972.0</td>\n",
       "      <td>2002.0</td>\n",
       "      <td>2010.0</td>\n",
       "    </tr>\n",
       "    <tr>\n",
       "      <th>GrLivArea</th>\n",
       "      <td>1144.0</td>\n",
       "      <td>1471.372378</td>\n",
       "      <td>463.750805</td>\n",
       "      <td>334.0</td>\n",
       "      <td>1125.75</td>\n",
       "      <td>1432.0</td>\n",
       "      <td>1728.0</td>\n",
       "      <td>3493.0</td>\n",
       "    </tr>\n",
       "    <tr>\n",
       "      <th>TotalBsmtSF</th>\n",
       "      <td>1144.0</td>\n",
       "      <td>1033.085664</td>\n",
       "      <td>399.438133</td>\n",
       "      <td>0.0</td>\n",
       "      <td>780.00</td>\n",
       "      <td>975.0</td>\n",
       "      <td>1262.5</td>\n",
       "      <td>3206.0</td>\n",
       "    </tr>\n",
       "    <tr>\n",
       "      <th>YearRemodAdd</th>\n",
       "      <td>1144.0</td>\n",
       "      <td>1984.815559</td>\n",
       "      <td>21.184522</td>\n",
       "      <td>1950.0</td>\n",
       "      <td>1965.00</td>\n",
       "      <td>1994.5</td>\n",
       "      <td>2004.0</td>\n",
       "      <td>2010.0</td>\n",
       "    </tr>\n",
       "    <tr>\n",
       "      <th>SalePrice</th>\n",
       "      <td>1144.0</td>\n",
       "      <td>173054.720280</td>\n",
       "      <td>68062.397971</td>\n",
       "      <td>34900.0</td>\n",
       "      <td>127000.00</td>\n",
       "      <td>156000.0</td>\n",
       "      <td>206925.0</td>\n",
       "      <td>395192.0</td>\n",
       "    </tr>\n",
       "  </tbody>\n",
       "</table>\n",
       "</div>"
      ],
      "text/plain": [
       "               count           mean           std      min        25%  \\\n",
       "OverallQual   1144.0       6.049825      1.350338      1.0       5.00   \n",
       "GarageCars    1144.0       1.729021      0.766762      0.0       1.00   \n",
       "GarageArea    1144.0     461.786713    214.254381      0.0     308.00   \n",
       "YearBuilt     1144.0    1970.050699     31.697458   1872.0    1950.00   \n",
       "GrLivArea     1144.0    1471.372378    463.750805    334.0    1125.75   \n",
       "TotalBsmtSF   1144.0    1033.085664    399.438133      0.0     780.00   \n",
       "YearRemodAdd  1144.0    1984.815559     21.184522   1950.0    1965.00   \n",
       "SalePrice     1144.0  173054.720280  68062.397971  34900.0  127000.00   \n",
       "\n",
       "                   50%       75%       max  \n",
       "OverallQual        6.0       7.0      10.0  \n",
       "GarageCars         2.0       2.0       4.0  \n",
       "GarageArea       474.0     576.0    1390.0  \n",
       "YearBuilt       1972.0    2002.0    2010.0  \n",
       "GrLivArea       1432.0    1728.0    3493.0  \n",
       "TotalBsmtSF      975.0    1262.5    3206.0  \n",
       "YearRemodAdd    1994.5    2004.0    2010.0  \n",
       "SalePrice     156000.0  206925.0  395192.0  "
      ]
     },
     "execution_count": 31,
     "metadata": {},
     "output_type": "execute_result"
    }
   ],
   "source": [
    "data2.describe().T"
   ]
  },
  {
   "cell_type": "code",
   "execution_count": null,
   "id": "624419d8",
   "metadata": {},
   "outputs": [],
   "source": []
  },
  {
   "cell_type": "code",
   "execution_count": 32,
   "id": "fe5cc859",
   "metadata": {},
   "outputs": [
    {
     "data": {
      "text/plain": [
       "None       701\n",
       "BrkFace    323\n",
       "Stone      106\n",
       "BrkCmn       9\n",
       "Name: MasVnrType, dtype: int64"
      ]
     },
     "execution_count": 32,
     "metadata": {},
     "output_type": "execute_result"
    }
   ],
   "source": [
    "data2[\"MasVnrType\"].value_counts()"
   ]
  },
  {
   "cell_type": "code",
   "execution_count": null,
   "id": "b8677339",
   "metadata": {},
   "outputs": [],
   "source": []
  },
  {
   "cell_type": "markdown",
   "id": "de98e101",
   "metadata": {},
   "source": [
    "# Data Cleaning"
   ]
  },
  {
   "cell_type": "code",
   "execution_count": null,
   "id": "a63644e3",
   "metadata": {},
   "outputs": [],
   "source": []
  },
  {
   "cell_type": "code",
   "execution_count": 33,
   "id": "f3fd3186",
   "metadata": {},
   "outputs": [
    {
     "data": {
      "image/png": "[encoded data removed]",
      "text/plain": [
       "<Figure size 432x288 with 1 Axes>"
      ]
     },
     "metadata": {
      "needs_background": "light"
     },
     "output_type": "display_data"
    }
   ],
   "source": [
    "sns.boxplot(x=data2[\"MasVnrType\"],y=data2[\"OverallQual\"])\n",
    "\n",
    "plt.xlabel(\"MasVnrType\")\n",
    "\n",
    "plt.ylabel(\"OverallQual\")\n",
    "\n",
    "plt.title(\"MasVnrType V/S OverallQual\")\n",
    "\n",
    "plt.show()"
   ]
  },
  {
   "cell_type": "code",
   "execution_count": null,
   "id": "a45f9b54",
   "metadata": {},
   "outputs": [],
   "source": []
  },
  {
   "cell_type": "code",
   "execution_count": 34,
   "id": "679fedcb",
   "metadata": {},
   "outputs": [
    {
     "data": {
      "text/html": [
       "<div>\n",
       "<style scoped>\n",
       "    .dataframe tbody tr th:only-of-type {\n",
       "        vertical-align: middle;\n",
       "    }\n",
       "\n",
       "    .dataframe tbody tr th {\n",
       "        vertical-align: top;\n",
       "    }\n",
       "\n",
       "    .dataframe thead th {\n",
       "        text-align: right;\n",
       "    }\n",
       "</style>\n",
       "<table border=\"1\" class=\"dataframe\">\n",
       "  <thead>\n",
       "    <tr style=\"text-align: right;\">\n",
       "      <th></th>\n",
       "      <th>OverallQual</th>\n",
       "      <th>GarageCars</th>\n",
       "      <th>GarageArea</th>\n",
       "      <th>YearBuilt</th>\n",
       "      <th>GrLivArea</th>\n",
       "      <th>TotalBsmtSF</th>\n",
       "      <th>MasVnrType</th>\n",
       "      <th>YearRemodAdd</th>\n",
       "      <th>SalePrice</th>\n",
       "    </tr>\n",
       "  </thead>\n",
       "  <tbody>\n",
       "    <tr>\n",
       "      <th>0</th>\n",
       "      <td>7</td>\n",
       "      <td>2</td>\n",
       "      <td>548</td>\n",
       "      <td>2003</td>\n",
       "      <td>1710</td>\n",
       "      <td>856</td>\n",
       "      <td>BrkFace</td>\n",
       "      <td>2003</td>\n",
       "      <td>208500</td>\n",
       "    </tr>\n",
       "    <tr>\n",
       "      <th>1</th>\n",
       "      <td>6</td>\n",
       "      <td>2</td>\n",
       "      <td>460</td>\n",
       "      <td>1976</td>\n",
       "      <td>1262</td>\n",
       "      <td>1262</td>\n",
       "      <td>None</td>\n",
       "      <td>1976</td>\n",
       "      <td>181500</td>\n",
       "    </tr>\n",
       "    <tr>\n",
       "      <th>2</th>\n",
       "      <td>7</td>\n",
       "      <td>2</td>\n",
       "      <td>608</td>\n",
       "      <td>2001</td>\n",
       "      <td>1786</td>\n",
       "      <td>920</td>\n",
       "      <td>BrkFace</td>\n",
       "      <td>2002</td>\n",
       "      <td>223500</td>\n",
       "    </tr>\n",
       "    <tr>\n",
       "      <th>3</th>\n",
       "      <td>7</td>\n",
       "      <td>3</td>\n",
       "      <td>642</td>\n",
       "      <td>1915</td>\n",
       "      <td>1717</td>\n",
       "      <td>756</td>\n",
       "      <td>None</td>\n",
       "      <td>1970</td>\n",
       "      <td>140000</td>\n",
       "    </tr>\n",
       "    <tr>\n",
       "      <th>4</th>\n",
       "      <td>8</td>\n",
       "      <td>3</td>\n",
       "      <td>836</td>\n",
       "      <td>2000</td>\n",
       "      <td>2198</td>\n",
       "      <td>1145</td>\n",
       "      <td>BrkFace</td>\n",
       "      <td>2000</td>\n",
       "      <td>250000</td>\n",
       "    </tr>\n",
       "    <tr>\n",
       "      <th>...</th>\n",
       "      <td>...</td>\n",
       "      <td>...</td>\n",
       "      <td>...</td>\n",
       "      <td>...</td>\n",
       "      <td>...</td>\n",
       "      <td>...</td>\n",
       "      <td>...</td>\n",
       "      <td>...</td>\n",
       "      <td>...</td>\n",
       "    </tr>\n",
       "    <tr>\n",
       "      <th>1455</th>\n",
       "      <td>6</td>\n",
       "      <td>2</td>\n",
       "      <td>460</td>\n",
       "      <td>1999</td>\n",
       "      <td>1647</td>\n",
       "      <td>953</td>\n",
       "      <td>None</td>\n",
       "      <td>2000</td>\n",
       "      <td>175000</td>\n",
       "    </tr>\n",
       "    <tr>\n",
       "      <th>1456</th>\n",
       "      <td>6</td>\n",
       "      <td>2</td>\n",
       "      <td>500</td>\n",
       "      <td>1978</td>\n",
       "      <td>2073</td>\n",
       "      <td>1542</td>\n",
       "      <td>Stone</td>\n",
       "      <td>1988</td>\n",
       "      <td>210000</td>\n",
       "    </tr>\n",
       "    <tr>\n",
       "      <th>1457</th>\n",
       "      <td>7</td>\n",
       "      <td>1</td>\n",
       "      <td>252</td>\n",
       "      <td>1941</td>\n",
       "      <td>2340</td>\n",
       "      <td>1152</td>\n",
       "      <td>None</td>\n",
       "      <td>2006</td>\n",
       "      <td>266500</td>\n",
       "    </tr>\n",
       "    <tr>\n",
       "      <th>1458</th>\n",
       "      <td>5</td>\n",
       "      <td>1</td>\n",
       "      <td>240</td>\n",
       "      <td>1950</td>\n",
       "      <td>1078</td>\n",
       "      <td>1078</td>\n",
       "      <td>None</td>\n",
       "      <td>1996</td>\n",
       "      <td>142125</td>\n",
       "    </tr>\n",
       "    <tr>\n",
       "      <th>1459</th>\n",
       "      <td>5</td>\n",
       "      <td>1</td>\n",
       "      <td>276</td>\n",
       "      <td>1965</td>\n",
       "      <td>1256</td>\n",
       "      <td>1256</td>\n",
       "      <td>None</td>\n",
       "      <td>1965</td>\n",
       "      <td>147500</td>\n",
       "    </tr>\n",
       "  </tbody>\n",
       "</table>\n",
       "<p>1135 rows × 9 columns</p>\n",
       "</div>"
      ],
      "text/plain": [
       "      OverallQual  GarageCars  GarageArea  YearBuilt  GrLivArea  TotalBsmtSF  \\\n",
       "0               7           2         548       2003       1710          856   \n",
       "1               6           2         460       1976       1262         1262   \n",
       "2               7           2         608       2001       1786          920   \n",
       "3               7           3         642       1915       1717          756   \n",
       "4               8           3         836       2000       2198         1145   \n",
       "...           ...         ...         ...        ...        ...          ...   \n",
       "1455            6           2         460       1999       1647          953   \n",
       "1456            6           2         500       1978       2073         1542   \n",
       "1457            7           1         252       1941       2340         1152   \n",
       "1458            5           1         240       1950       1078         1078   \n",
       "1459            5           1         276       1965       1256         1256   \n",
       "\n",
       "     MasVnrType  YearRemodAdd  SalePrice  \n",
       "0       BrkFace          2003     208500  \n",
       "1          None          1976     181500  \n",
       "2       BrkFace          2002     223500  \n",
       "3          None          1970     140000  \n",
       "4       BrkFace          2000     250000  \n",
       "...         ...           ...        ...  \n",
       "1455       None          2000     175000  \n",
       "1456      Stone          1988     210000  \n",
       "1457       None          2006     266500  \n",
       "1458       None          1996     142125  \n",
       "1459       None          1965     147500  \n",
       "\n",
       "[1135 rows x 9 columns]"
      ]
     },
     "execution_count": 34,
     "metadata": {},
     "output_type": "execute_result"
    }
   ],
   "source": [
    "data2=data2[(data2[\"OverallQual\"]>=3)&(data2[\"OverallQual\"]<=9)]\n",
    "\n",
    "data2"
   ]
  },
  {
   "cell_type": "code",
   "execution_count": null,
   "id": "fd7718c3",
   "metadata": {},
   "outputs": [],
   "source": []
  },
  {
   "cell_type": "code",
   "execution_count": 35,
   "id": "280645cd",
   "metadata": {},
   "outputs": [
    {
     "data": {
      "image/png": "[encoded data removed]",
      "text/plain": [
       "<Figure size 432x288 with 1 Axes>"
      ]
     },
     "metadata": {
      "needs_background": "light"
     },
     "output_type": "display_data"
    }
   ],
   "source": [
    "sns.boxplot(x=data2[\"MasVnrType\"],y=data2[\"OverallQual\"])\n",
    "\n",
    "plt.xlabel(\"MasVnrType\")\n",
    "\n",
    "plt.ylabel(\"OverallQual\")\n",
    "\n",
    "plt.title(\"MasVnrType V/S OverallQual(Treated)\")\n",
    "\n",
    "plt.show()"
   ]
  },
  {
   "cell_type": "code",
   "execution_count": null,
   "id": "0ec2da32",
   "metadata": {},
   "outputs": [],
   "source": []
  },
  {
   "cell_type": "code",
   "execution_count": 36,
   "id": "e55edec6",
   "metadata": {},
   "outputs": [
    {
     "data": {
      "image/png": "[encoded data removed]",
      "text/plain": [
       "<Figure size 432x288 with 1 Axes>"
      ]
     },
     "metadata": {
      "needs_background": "light"
     },
     "output_type": "display_data"
    }
   ],
   "source": [
    "sns.boxplot(x=data2[\"MasVnrType\"],y=data2[\"GarageCars\"])\n",
    "\n",
    "plt.xlabel(\"MasVnrType\")\n",
    "\n",
    "plt.ylabel(\"GarageCars\")\n",
    "\n",
    "plt.title(\"MasVnrType V/S GarageCars\")\n",
    "\n",
    "plt.show()"
   ]
  },
  {
   "cell_type": "code",
   "execution_count": null,
   "id": "a783ff82",
   "metadata": {},
   "outputs": [],
   "source": []
  },
  {
   "cell_type": "code",
   "execution_count": 37,
   "id": "016180a6",
   "metadata": {},
   "outputs": [
    {
     "data": {
      "text/html": [
       "<div>\n",
       "<style scoped>\n",
       "    .dataframe tbody tr th:only-of-type {\n",
       "        vertical-align: middle;\n",
       "    }\n",
       "\n",
       "    .dataframe tbody tr th {\n",
       "        vertical-align: top;\n",
       "    }\n",
       "\n",
       "    .dataframe thead th {\n",
       "        text-align: right;\n",
       "    }\n",
       "</style>\n",
       "<table border=\"1\" class=\"dataframe\">\n",
       "  <thead>\n",
       "    <tr style=\"text-align: right;\">\n",
       "      <th></th>\n",
       "      <th>OverallQual</th>\n",
       "      <th>GarageCars</th>\n",
       "      <th>GarageArea</th>\n",
       "      <th>YearBuilt</th>\n",
       "      <th>GrLivArea</th>\n",
       "      <th>TotalBsmtSF</th>\n",
       "      <th>MasVnrType</th>\n",
       "      <th>YearRemodAdd</th>\n",
       "      <th>SalePrice</th>\n",
       "    </tr>\n",
       "  </thead>\n",
       "  <tbody>\n",
       "    <tr>\n",
       "      <th>0</th>\n",
       "      <td>7</td>\n",
       "      <td>2</td>\n",
       "      <td>548</td>\n",
       "      <td>2003</td>\n",
       "      <td>1710</td>\n",
       "      <td>856</td>\n",
       "      <td>BrkFace</td>\n",
       "      <td>2003</td>\n",
       "      <td>208500</td>\n",
       "    </tr>\n",
       "    <tr>\n",
       "      <th>1</th>\n",
       "      <td>6</td>\n",
       "      <td>2</td>\n",
       "      <td>460</td>\n",
       "      <td>1976</td>\n",
       "      <td>1262</td>\n",
       "      <td>1262</td>\n",
       "      <td>None</td>\n",
       "      <td>1976</td>\n",
       "      <td>181500</td>\n",
       "    </tr>\n",
       "    <tr>\n",
       "      <th>2</th>\n",
       "      <td>7</td>\n",
       "      <td>2</td>\n",
       "      <td>608</td>\n",
       "      <td>2001</td>\n",
       "      <td>1786</td>\n",
       "      <td>920</td>\n",
       "      <td>BrkFace</td>\n",
       "      <td>2002</td>\n",
       "      <td>223500</td>\n",
       "    </tr>\n",
       "    <tr>\n",
       "      <th>3</th>\n",
       "      <td>7</td>\n",
       "      <td>3</td>\n",
       "      <td>642</td>\n",
       "      <td>1915</td>\n",
       "      <td>1717</td>\n",
       "      <td>756</td>\n",
       "      <td>None</td>\n",
       "      <td>1970</td>\n",
       "      <td>140000</td>\n",
       "    </tr>\n",
       "    <tr>\n",
       "      <th>4</th>\n",
       "      <td>8</td>\n",
       "      <td>3</td>\n",
       "      <td>836</td>\n",
       "      <td>2000</td>\n",
       "      <td>2198</td>\n",
       "      <td>1145</td>\n",
       "      <td>BrkFace</td>\n",
       "      <td>2000</td>\n",
       "      <td>250000</td>\n",
       "    </tr>\n",
       "    <tr>\n",
       "      <th>...</th>\n",
       "      <td>...</td>\n",
       "      <td>...</td>\n",
       "      <td>...</td>\n",
       "      <td>...</td>\n",
       "      <td>...</td>\n",
       "      <td>...</td>\n",
       "      <td>...</td>\n",
       "      <td>...</td>\n",
       "      <td>...</td>\n",
       "    </tr>\n",
       "    <tr>\n",
       "      <th>1455</th>\n",
       "      <td>6</td>\n",
       "      <td>2</td>\n",
       "      <td>460</td>\n",
       "      <td>1999</td>\n",
       "      <td>1647</td>\n",
       "      <td>953</td>\n",
       "      <td>None</td>\n",
       "      <td>2000</td>\n",
       "      <td>175000</td>\n",
       "    </tr>\n",
       "    <tr>\n",
       "      <th>1456</th>\n",
       "      <td>6</td>\n",
       "      <td>2</td>\n",
       "      <td>500</td>\n",
       "      <td>1978</td>\n",
       "      <td>2073</td>\n",
       "      <td>1542</td>\n",
       "      <td>Stone</td>\n",
       "      <td>1988</td>\n",
       "      <td>210000</td>\n",
       "    </tr>\n",
       "    <tr>\n",
       "      <th>1457</th>\n",
       "      <td>7</td>\n",
       "      <td>1</td>\n",
       "      <td>252</td>\n",
       "      <td>1941</td>\n",
       "      <td>2340</td>\n",
       "      <td>1152</td>\n",
       "      <td>None</td>\n",
       "      <td>2006</td>\n",
       "      <td>266500</td>\n",
       "    </tr>\n",
       "    <tr>\n",
       "      <th>1458</th>\n",
       "      <td>5</td>\n",
       "      <td>1</td>\n",
       "      <td>240</td>\n",
       "      <td>1950</td>\n",
       "      <td>1078</td>\n",
       "      <td>1078</td>\n",
       "      <td>None</td>\n",
       "      <td>1996</td>\n",
       "      <td>142125</td>\n",
       "    </tr>\n",
       "    <tr>\n",
       "      <th>1459</th>\n",
       "      <td>5</td>\n",
       "      <td>1</td>\n",
       "      <td>276</td>\n",
       "      <td>1965</td>\n",
       "      <td>1256</td>\n",
       "      <td>1256</td>\n",
       "      <td>None</td>\n",
       "      <td>1965</td>\n",
       "      <td>147500</td>\n",
       "    </tr>\n",
       "  </tbody>\n",
       "</table>\n",
       "<p>1131 rows × 9 columns</p>\n",
       "</div>"
      ],
      "text/plain": [
       "      OverallQual  GarageCars  GarageArea  YearBuilt  GrLivArea  TotalBsmtSF  \\\n",
       "0               7           2         548       2003       1710          856   \n",
       "1               6           2         460       1976       1262         1262   \n",
       "2               7           2         608       2001       1786          920   \n",
       "3               7           3         642       1915       1717          756   \n",
       "4               8           3         836       2000       2198         1145   \n",
       "...           ...         ...         ...        ...        ...          ...   \n",
       "1455            6           2         460       1999       1647          953   \n",
       "1456            6           2         500       1978       2073         1542   \n",
       "1457            7           1         252       1941       2340         1152   \n",
       "1458            5           1         240       1950       1078         1078   \n",
       "1459            5           1         276       1965       1256         1256   \n",
       "\n",
       "     MasVnrType  YearRemodAdd  SalePrice  \n",
       "0       BrkFace          2003     208500  \n",
       "1          None          1976     181500  \n",
       "2       BrkFace          2002     223500  \n",
       "3          None          1970     140000  \n",
       "4       BrkFace          2000     250000  \n",
       "...         ...           ...        ...  \n",
       "1455       None          2000     175000  \n",
       "1456      Stone          1988     210000  \n",
       "1457       None          2006     266500  \n",
       "1458       None          1996     142125  \n",
       "1459       None          1965     147500  \n",
       "\n",
       "[1131 rows x 9 columns]"
      ]
     },
     "execution_count": 37,
     "metadata": {},
     "output_type": "execute_result"
    }
   ],
   "source": [
    "data2=data2[(data2[\"OverallQual\"]>=3)&(data2[\"OverallQual\"]<=9)&(data2[\"GarageCars\"]<=3)]\n",
    "\n",
    "data2"
   ]
  },
  {
   "cell_type": "code",
   "execution_count": null,
   "id": "c161cb22",
   "metadata": {},
   "outputs": [],
   "source": []
  },
  {
   "cell_type": "code",
   "execution_count": 38,
   "id": "620e05dc",
   "metadata": {},
   "outputs": [
    {
     "data": {
      "image/png": "[encoded data removed]",
      "text/plain": [
       "<Figure size 432x288 with 1 Axes>"
      ]
     },
     "metadata": {
      "needs_background": "light"
     },
     "output_type": "display_data"
    }
   ],
   "source": [
    "sns.boxplot(x=data2[\"MasVnrType\"],y=data2[\"GarageCars\"])\n",
    "\n",
    "plt.xlabel(\"MasVnrType\")\n",
    "\n",
    "plt.ylabel(\"GarageCars\")\n",
    "\n",
    "plt.title(\"MasVnrType V/S GarageCars\")\n",
    "\n",
    "plt.show()"
   ]
  },
  {
   "cell_type": "code",
   "execution_count": null,
   "id": "cb053a68",
   "metadata": {},
   "outputs": [],
   "source": []
  },
  {
   "cell_type": "code",
   "execution_count": 39,
   "id": "512e4566",
   "metadata": {},
   "outputs": [
    {
     "data": {
      "image/png": "[encoded data removed]",
      "text/plain": [
       "<Figure size 432x288 with 1 Axes>"
      ]
     },
     "metadata": {
      "needs_background": "light"
     },
     "output_type": "display_data"
    }
   ],
   "source": [
    "sns.boxplot(x=data2[\"MasVnrType\"],y=data2[\"GarageArea\"])\n",
    "\n",
    "plt.xlabel(\"MasVnrType\")\n",
    "\n",
    "plt.ylabel(\"GarageArea\")\n",
    "\n",
    "plt.title(\"MasVnrType V/S GarageArea\")\n",
    "\n",
    "plt.show()"
   ]
  },
  {
   "cell_type": "code",
   "execution_count": null,
   "id": "44a3c699",
   "metadata": {},
   "outputs": [],
   "source": []
  },
  {
   "cell_type": "code",
   "execution_count": 40,
   "id": "662c86a4",
   "metadata": {},
   "outputs": [
    {
     "data": {
      "text/html": [
       "<div>\n",
       "<style scoped>\n",
       "    .dataframe tbody tr th:only-of-type {\n",
       "        vertical-align: middle;\n",
       "    }\n",
       "\n",
       "    .dataframe tbody tr th {\n",
       "        vertical-align: top;\n",
       "    }\n",
       "\n",
       "    .dataframe thead th {\n",
       "        text-align: right;\n",
       "    }\n",
       "</style>\n",
       "<table border=\"1\" class=\"dataframe\">\n",
       "  <thead>\n",
       "    <tr style=\"text-align: right;\">\n",
       "      <th></th>\n",
       "      <th>OverallQual</th>\n",
       "      <th>GarageCars</th>\n",
       "      <th>GarageArea</th>\n",
       "      <th>YearBuilt</th>\n",
       "      <th>GrLivArea</th>\n",
       "      <th>TotalBsmtSF</th>\n",
       "      <th>MasVnrType</th>\n",
       "      <th>YearRemodAdd</th>\n",
       "      <th>SalePrice</th>\n",
       "    </tr>\n",
       "  </thead>\n",
       "  <tbody>\n",
       "    <tr>\n",
       "      <th>0</th>\n",
       "      <td>7</td>\n",
       "      <td>2</td>\n",
       "      <td>548</td>\n",
       "      <td>2003</td>\n",
       "      <td>1710</td>\n",
       "      <td>856</td>\n",
       "      <td>BrkFace</td>\n",
       "      <td>2003</td>\n",
       "      <td>208500</td>\n",
       "    </tr>\n",
       "    <tr>\n",
       "      <th>1</th>\n",
       "      <td>6</td>\n",
       "      <td>2</td>\n",
       "      <td>460</td>\n",
       "      <td>1976</td>\n",
       "      <td>1262</td>\n",
       "      <td>1262</td>\n",
       "      <td>None</td>\n",
       "      <td>1976</td>\n",
       "      <td>181500</td>\n",
       "    </tr>\n",
       "    <tr>\n",
       "      <th>2</th>\n",
       "      <td>7</td>\n",
       "      <td>2</td>\n",
       "      <td>608</td>\n",
       "      <td>2001</td>\n",
       "      <td>1786</td>\n",
       "      <td>920</td>\n",
       "      <td>BrkFace</td>\n",
       "      <td>2002</td>\n",
       "      <td>223500</td>\n",
       "    </tr>\n",
       "    <tr>\n",
       "      <th>3</th>\n",
       "      <td>7</td>\n",
       "      <td>3</td>\n",
       "      <td>642</td>\n",
       "      <td>1915</td>\n",
       "      <td>1717</td>\n",
       "      <td>756</td>\n",
       "      <td>None</td>\n",
       "      <td>1970</td>\n",
       "      <td>140000</td>\n",
       "    </tr>\n",
       "    <tr>\n",
       "      <th>4</th>\n",
       "      <td>8</td>\n",
       "      <td>3</td>\n",
       "      <td>836</td>\n",
       "      <td>2000</td>\n",
       "      <td>2198</td>\n",
       "      <td>1145</td>\n",
       "      <td>BrkFace</td>\n",
       "      <td>2000</td>\n",
       "      <td>250000</td>\n",
       "    </tr>\n",
       "    <tr>\n",
       "      <th>...</th>\n",
       "      <td>...</td>\n",
       "      <td>...</td>\n",
       "      <td>...</td>\n",
       "      <td>...</td>\n",
       "      <td>...</td>\n",
       "      <td>...</td>\n",
       "      <td>...</td>\n",
       "      <td>...</td>\n",
       "      <td>...</td>\n",
       "    </tr>\n",
       "    <tr>\n",
       "      <th>1455</th>\n",
       "      <td>6</td>\n",
       "      <td>2</td>\n",
       "      <td>460</td>\n",
       "      <td>1999</td>\n",
       "      <td>1647</td>\n",
       "      <td>953</td>\n",
       "      <td>None</td>\n",
       "      <td>2000</td>\n",
       "      <td>175000</td>\n",
       "    </tr>\n",
       "    <tr>\n",
       "      <th>1456</th>\n",
       "      <td>6</td>\n",
       "      <td>2</td>\n",
       "      <td>500</td>\n",
       "      <td>1978</td>\n",
       "      <td>2073</td>\n",
       "      <td>1542</td>\n",
       "      <td>Stone</td>\n",
       "      <td>1988</td>\n",
       "      <td>210000</td>\n",
       "    </tr>\n",
       "    <tr>\n",
       "      <th>1457</th>\n",
       "      <td>7</td>\n",
       "      <td>1</td>\n",
       "      <td>252</td>\n",
       "      <td>1941</td>\n",
       "      <td>2340</td>\n",
       "      <td>1152</td>\n",
       "      <td>None</td>\n",
       "      <td>2006</td>\n",
       "      <td>266500</td>\n",
       "    </tr>\n",
       "    <tr>\n",
       "      <th>1458</th>\n",
       "      <td>5</td>\n",
       "      <td>1</td>\n",
       "      <td>240</td>\n",
       "      <td>1950</td>\n",
       "      <td>1078</td>\n",
       "      <td>1078</td>\n",
       "      <td>None</td>\n",
       "      <td>1996</td>\n",
       "      <td>142125</td>\n",
       "    </tr>\n",
       "    <tr>\n",
       "      <th>1459</th>\n",
       "      <td>5</td>\n",
       "      <td>1</td>\n",
       "      <td>276</td>\n",
       "      <td>1965</td>\n",
       "      <td>1256</td>\n",
       "      <td>1256</td>\n",
       "      <td>None</td>\n",
       "      <td>1965</td>\n",
       "      <td>147500</td>\n",
       "    </tr>\n",
       "  </tbody>\n",
       "</table>\n",
       "<p>1129 rows × 9 columns</p>\n",
       "</div>"
      ],
      "text/plain": [
       "      OverallQual  GarageCars  GarageArea  YearBuilt  GrLivArea  TotalBsmtSF  \\\n",
       "0               7           2         548       2003       1710          856   \n",
       "1               6           2         460       1976       1262         1262   \n",
       "2               7           2         608       2001       1786          920   \n",
       "3               7           3         642       1915       1717          756   \n",
       "4               8           3         836       2000       2198         1145   \n",
       "...           ...         ...         ...        ...        ...          ...   \n",
       "1455            6           2         460       1999       1647          953   \n",
       "1456            6           2         500       1978       2073         1542   \n",
       "1457            7           1         252       1941       2340         1152   \n",
       "1458            5           1         240       1950       1078         1078   \n",
       "1459            5           1         276       1965       1256         1256   \n",
       "\n",
       "     MasVnrType  YearRemodAdd  SalePrice  \n",
       "0       BrkFace          2003     208500  \n",
       "1          None          1976     181500  \n",
       "2       BrkFace          2002     223500  \n",
       "3          None          1970     140000  \n",
       "4       BrkFace          2000     250000  \n",
       "...         ...           ...        ...  \n",
       "1455       None          2000     175000  \n",
       "1456      Stone          1988     210000  \n",
       "1457       None          2006     266500  \n",
       "1458       None          1996     142125  \n",
       "1459       None          1965     147500  \n",
       "\n",
       "[1129 rows x 9 columns]"
      ]
     },
     "execution_count": 40,
     "metadata": {},
     "output_type": "execute_result"
    }
   ],
   "source": [
    "data2=data2[(data2[\"OverallQual\"]>=3)&(data2[\"OverallQual\"]<=9)&(data2[\"GarageCars\"]<=3)&\n",
    "            (data2[\"GarageArea\"]<1200)]\n",
    "\n",
    "data2"
   ]
  },
  {
   "cell_type": "code",
   "execution_count": null,
   "id": "96fbbd02",
   "metadata": {},
   "outputs": [],
   "source": []
  },
  {
   "cell_type": "code",
   "execution_count": 41,
   "id": "584de330",
   "metadata": {},
   "outputs": [
    {
     "data": {
      "image/png": "[encoded data removed]",
      "text/plain": [
       "<Figure size 432x288 with 1 Axes>"
      ]
     },
     "metadata": {
      "needs_background": "light"
     },
     "output_type": "display_data"
    }
   ],
   "source": [
    "sns.boxplot(x=data2[\"MasVnrType\"],y=data2[\"GarageArea\"])\n",
    "\n",
    "plt.xlabel(\"MasVnrType\")\n",
    "\n",
    "plt.ylabel(\"GarageArea\")\n",
    "\n",
    "plt.title(\"MasVnrType V/S GarageArea(Treated)\")\n",
    "\n",
    "plt.show()"
   ]
  },
  {
   "cell_type": "code",
   "execution_count": null,
   "id": "658e8bdf",
   "metadata": {},
   "outputs": [],
   "source": []
  },
  {
   "cell_type": "code",
   "execution_count": 42,
   "id": "8738719f",
   "metadata": {},
   "outputs": [
    {
     "data": {
      "image/png": "[encoded data removed]",
      "text/plain": [
       "<Figure size 432x288 with 1 Axes>"
      ]
     },
     "metadata": {
      "needs_background": "light"
     },
     "output_type": "display_data"
    }
   ],
   "source": [
    "sns.boxplot(x=data2[\"MasVnrType\"],y=data2[\"YearBuilt\"])\n",
    "\n",
    "plt.xlabel(\"MasVnrType\")\n",
    "\n",
    "plt.ylabel(\"YearBuilt\")\n",
    "\n",
    "plt.title(\"MasVnrType V/S YearBuilt\")\n",
    "\n",
    "plt.show()"
   ]
  },
  {
   "cell_type": "code",
   "execution_count": null,
   "id": "24091a09",
   "metadata": {},
   "outputs": [],
   "source": []
  },
  {
   "cell_type": "code",
   "execution_count": 43,
   "id": "dfe38403",
   "metadata": {},
   "outputs": [
    {
     "data": {
      "image/png": "[encoded data removed]",
      "text/plain": [
       "<Figure size 432x288 with 1 Axes>"
      ]
     },
     "metadata": {
      "needs_background": "light"
     },
     "output_type": "display_data"
    }
   ],
   "source": [
    "sns.boxplot(x=data2[\"MasVnrType\"],y=data2[\"GrLivArea\"])\n",
    "\n",
    "plt.xlabel(\"MasVnrType\")\n",
    "\n",
    "plt.ylabel(\"GrLivArea\")\n",
    "\n",
    "plt.title(\"MasVnrType V/S GrLivArea\")\n",
    "\n",
    "plt.show()"
   ]
  },
  {
   "cell_type": "code",
   "execution_count": null,
   "id": "2263e1fc",
   "metadata": {},
   "outputs": [],
   "source": []
  },
  {
   "cell_type": "code",
   "execution_count": 44,
   "id": "93025c01",
   "metadata": {},
   "outputs": [
    {
     "data": {
      "text/html": [
       "<div>\n",
       "<style scoped>\n",
       "    .dataframe tbody tr th:only-of-type {\n",
       "        vertical-align: middle;\n",
       "    }\n",
       "\n",
       "    .dataframe tbody tr th {\n",
       "        vertical-align: top;\n",
       "    }\n",
       "\n",
       "    .dataframe thead th {\n",
       "        text-align: right;\n",
       "    }\n",
       "</style>\n",
       "<table border=\"1\" class=\"dataframe\">\n",
       "  <thead>\n",
       "    <tr style=\"text-align: right;\">\n",
       "      <th></th>\n",
       "      <th>OverallQual</th>\n",
       "      <th>GarageCars</th>\n",
       "      <th>GarageArea</th>\n",
       "      <th>YearBuilt</th>\n",
       "      <th>GrLivArea</th>\n",
       "      <th>TotalBsmtSF</th>\n",
       "      <th>MasVnrType</th>\n",
       "      <th>YearRemodAdd</th>\n",
       "      <th>SalePrice</th>\n",
       "    </tr>\n",
       "  </thead>\n",
       "  <tbody>\n",
       "    <tr>\n",
       "      <th>0</th>\n",
       "      <td>7</td>\n",
       "      <td>2</td>\n",
       "      <td>548</td>\n",
       "      <td>2003</td>\n",
       "      <td>1710</td>\n",
       "      <td>856</td>\n",
       "      <td>BrkFace</td>\n",
       "      <td>2003</td>\n",
       "      <td>208500</td>\n",
       "    </tr>\n",
       "    <tr>\n",
       "      <th>1</th>\n",
       "      <td>6</td>\n",
       "      <td>2</td>\n",
       "      <td>460</td>\n",
       "      <td>1976</td>\n",
       "      <td>1262</td>\n",
       "      <td>1262</td>\n",
       "      <td>None</td>\n",
       "      <td>1976</td>\n",
       "      <td>181500</td>\n",
       "    </tr>\n",
       "    <tr>\n",
       "      <th>2</th>\n",
       "      <td>7</td>\n",
       "      <td>2</td>\n",
       "      <td>608</td>\n",
       "      <td>2001</td>\n",
       "      <td>1786</td>\n",
       "      <td>920</td>\n",
       "      <td>BrkFace</td>\n",
       "      <td>2002</td>\n",
       "      <td>223500</td>\n",
       "    </tr>\n",
       "    <tr>\n",
       "      <th>3</th>\n",
       "      <td>7</td>\n",
       "      <td>3</td>\n",
       "      <td>642</td>\n",
       "      <td>1915</td>\n",
       "      <td>1717</td>\n",
       "      <td>756</td>\n",
       "      <td>None</td>\n",
       "      <td>1970</td>\n",
       "      <td>140000</td>\n",
       "    </tr>\n",
       "    <tr>\n",
       "      <th>4</th>\n",
       "      <td>8</td>\n",
       "      <td>3</td>\n",
       "      <td>836</td>\n",
       "      <td>2000</td>\n",
       "      <td>2198</td>\n",
       "      <td>1145</td>\n",
       "      <td>BrkFace</td>\n",
       "      <td>2000</td>\n",
       "      <td>250000</td>\n",
       "    </tr>\n",
       "    <tr>\n",
       "      <th>...</th>\n",
       "      <td>...</td>\n",
       "      <td>...</td>\n",
       "      <td>...</td>\n",
       "      <td>...</td>\n",
       "      <td>...</td>\n",
       "      <td>...</td>\n",
       "      <td>...</td>\n",
       "      <td>...</td>\n",
       "      <td>...</td>\n",
       "    </tr>\n",
       "    <tr>\n",
       "      <th>1455</th>\n",
       "      <td>6</td>\n",
       "      <td>2</td>\n",
       "      <td>460</td>\n",
       "      <td>1999</td>\n",
       "      <td>1647</td>\n",
       "      <td>953</td>\n",
       "      <td>None</td>\n",
       "      <td>2000</td>\n",
       "      <td>175000</td>\n",
       "    </tr>\n",
       "    <tr>\n",
       "      <th>1456</th>\n",
       "      <td>6</td>\n",
       "      <td>2</td>\n",
       "      <td>500</td>\n",
       "      <td>1978</td>\n",
       "      <td>2073</td>\n",
       "      <td>1542</td>\n",
       "      <td>Stone</td>\n",
       "      <td>1988</td>\n",
       "      <td>210000</td>\n",
       "    </tr>\n",
       "    <tr>\n",
       "      <th>1457</th>\n",
       "      <td>7</td>\n",
       "      <td>1</td>\n",
       "      <td>252</td>\n",
       "      <td>1941</td>\n",
       "      <td>2340</td>\n",
       "      <td>1152</td>\n",
       "      <td>None</td>\n",
       "      <td>2006</td>\n",
       "      <td>266500</td>\n",
       "    </tr>\n",
       "    <tr>\n",
       "      <th>1458</th>\n",
       "      <td>5</td>\n",
       "      <td>1</td>\n",
       "      <td>240</td>\n",
       "      <td>1950</td>\n",
       "      <td>1078</td>\n",
       "      <td>1078</td>\n",
       "      <td>None</td>\n",
       "      <td>1996</td>\n",
       "      <td>142125</td>\n",
       "    </tr>\n",
       "    <tr>\n",
       "      <th>1459</th>\n",
       "      <td>5</td>\n",
       "      <td>1</td>\n",
       "      <td>276</td>\n",
       "      <td>1965</td>\n",
       "      <td>1256</td>\n",
       "      <td>1256</td>\n",
       "      <td>None</td>\n",
       "      <td>1965</td>\n",
       "      <td>147500</td>\n",
       "    </tr>\n",
       "  </tbody>\n",
       "</table>\n",
       "<p>1123 rows × 9 columns</p>\n",
       "</div>"
      ],
      "text/plain": [
       "      OverallQual  GarageCars  GarageArea  YearBuilt  GrLivArea  TotalBsmtSF  \\\n",
       "0               7           2         548       2003       1710          856   \n",
       "1               6           2         460       1976       1262         1262   \n",
       "2               7           2         608       2001       1786          920   \n",
       "3               7           3         642       1915       1717          756   \n",
       "4               8           3         836       2000       2198         1145   \n",
       "...           ...         ...         ...        ...        ...          ...   \n",
       "1455            6           2         460       1999       1647          953   \n",
       "1456            6           2         500       1978       2073         1542   \n",
       "1457            7           1         252       1941       2340         1152   \n",
       "1458            5           1         240       1950       1078         1078   \n",
       "1459            5           1         276       1965       1256         1256   \n",
       "\n",
       "     MasVnrType  YearRemodAdd  SalePrice  \n",
       "0       BrkFace          2003     208500  \n",
       "1          None          1976     181500  \n",
       "2       BrkFace          2002     223500  \n",
       "3          None          1970     140000  \n",
       "4       BrkFace          2000     250000  \n",
       "...         ...           ...        ...  \n",
       "1455       None          2000     175000  \n",
       "1456      Stone          1988     210000  \n",
       "1457       None          2006     266500  \n",
       "1458       None          1996     142125  \n",
       "1459       None          1965     147500  \n",
       "\n",
       "[1123 rows x 9 columns]"
      ]
     },
     "execution_count": 44,
     "metadata": {},
     "output_type": "execute_result"
    }
   ],
   "source": [
    "data2=data2[(data2[\"OverallQual\"]>=3)&(data2[\"OverallQual\"]<=9)&(data2[\"GarageCars\"]<=3)&\n",
    "            (data2[\"GarageArea\"]<1200)&(data2[\"GrLivArea\"]<3000)]\n",
    "\n",
    "data2"
   ]
  },
  {
   "cell_type": "code",
   "execution_count": null,
   "id": "69a60cee",
   "metadata": {},
   "outputs": [],
   "source": []
  },
  {
   "cell_type": "code",
   "execution_count": 45,
   "id": "fbecb572",
   "metadata": {},
   "outputs": [
    {
     "data": {
      "image/png": "[encoded data removed]",
      "text/plain": [
       "<Figure size 432x288 with 1 Axes>"
      ]
     },
     "metadata": {
      "needs_background": "light"
     },
     "output_type": "display_data"
    }
   ],
   "source": [
    "sns.boxplot(x=data2[\"MasVnrType\"],y=data2[\"GrLivArea\"])\n",
    "\n",
    "plt.xlabel(\"MasVnrType\")\n",
    "\n",
    "plt.ylabel(\"GrLivArea\")\n",
    "\n",
    "plt.title(\"MasVnrType V/S GrLivArea(Treated)\")\n",
    "\n",
    "plt.show()"
   ]
  },
  {
   "cell_type": "code",
   "execution_count": null,
   "id": "3edb06db",
   "metadata": {},
   "outputs": [],
   "source": []
  },
  {
   "cell_type": "code",
   "execution_count": 46,
   "id": "805c58f9",
   "metadata": {},
   "outputs": [
    {
     "data": {
      "image/png": "[encoded data removed]",
      "text/plain": [
       "<Figure size 432x288 with 1 Axes>"
      ]
     },
     "metadata": {
      "needs_background": "light"
     },
     "output_type": "display_data"
    }
   ],
   "source": [
    "sns.boxplot(x=data2[\"MasVnrType\"],y=data2[\"TotalBsmtSF\"])\n",
    "\n",
    "plt.xlabel(\"MasVnrType\")\n",
    "\n",
    "plt.ylabel(\"TotalBsmtSF\")\n",
    "\n",
    "plt.title(\"MasVnrType V/S TotalBsmtSF\")\n",
    "\n",
    "plt.show()"
   ]
  },
  {
   "cell_type": "code",
   "execution_count": null,
   "id": "acfb00cc",
   "metadata": {},
   "outputs": [],
   "source": []
  },
  {
   "cell_type": "code",
   "execution_count": 47,
   "id": "b244bc50",
   "metadata": {},
   "outputs": [
    {
     "data": {
      "text/html": [
       "<div>\n",
       "<style scoped>\n",
       "    .dataframe tbody tr th:only-of-type {\n",
       "        vertical-align: middle;\n",
       "    }\n",
       "\n",
       "    .dataframe tbody tr th {\n",
       "        vertical-align: top;\n",
       "    }\n",
       "\n",
       "    .dataframe thead th {\n",
       "        text-align: right;\n",
       "    }\n",
       "</style>\n",
       "<table border=\"1\" class=\"dataframe\">\n",
       "  <thead>\n",
       "    <tr style=\"text-align: right;\">\n",
       "      <th></th>\n",
       "      <th>OverallQual</th>\n",
       "      <th>GarageCars</th>\n",
       "      <th>GarageArea</th>\n",
       "      <th>YearBuilt</th>\n",
       "      <th>GrLivArea</th>\n",
       "      <th>TotalBsmtSF</th>\n",
       "      <th>MasVnrType</th>\n",
       "      <th>YearRemodAdd</th>\n",
       "      <th>SalePrice</th>\n",
       "    </tr>\n",
       "  </thead>\n",
       "  <tbody>\n",
       "    <tr>\n",
       "      <th>0</th>\n",
       "      <td>7</td>\n",
       "      <td>2</td>\n",
       "      <td>548</td>\n",
       "      <td>2003</td>\n",
       "      <td>1710</td>\n",
       "      <td>856</td>\n",
       "      <td>BrkFace</td>\n",
       "      <td>2003</td>\n",
       "      <td>208500</td>\n",
       "    </tr>\n",
       "    <tr>\n",
       "      <th>1</th>\n",
       "      <td>6</td>\n",
       "      <td>2</td>\n",
       "      <td>460</td>\n",
       "      <td>1976</td>\n",
       "      <td>1262</td>\n",
       "      <td>1262</td>\n",
       "      <td>None</td>\n",
       "      <td>1976</td>\n",
       "      <td>181500</td>\n",
       "    </tr>\n",
       "    <tr>\n",
       "      <th>2</th>\n",
       "      <td>7</td>\n",
       "      <td>2</td>\n",
       "      <td>608</td>\n",
       "      <td>2001</td>\n",
       "      <td>1786</td>\n",
       "      <td>920</td>\n",
       "      <td>BrkFace</td>\n",
       "      <td>2002</td>\n",
       "      <td>223500</td>\n",
       "    </tr>\n",
       "    <tr>\n",
       "      <th>3</th>\n",
       "      <td>7</td>\n",
       "      <td>3</td>\n",
       "      <td>642</td>\n",
       "      <td>1915</td>\n",
       "      <td>1717</td>\n",
       "      <td>756</td>\n",
       "      <td>None</td>\n",
       "      <td>1970</td>\n",
       "      <td>140000</td>\n",
       "    </tr>\n",
       "    <tr>\n",
       "      <th>4</th>\n",
       "      <td>8</td>\n",
       "      <td>3</td>\n",
       "      <td>836</td>\n",
       "      <td>2000</td>\n",
       "      <td>2198</td>\n",
       "      <td>1145</td>\n",
       "      <td>BrkFace</td>\n",
       "      <td>2000</td>\n",
       "      <td>250000</td>\n",
       "    </tr>\n",
       "    <tr>\n",
       "      <th>...</th>\n",
       "      <td>...</td>\n",
       "      <td>...</td>\n",
       "      <td>...</td>\n",
       "      <td>...</td>\n",
       "      <td>...</td>\n",
       "      <td>...</td>\n",
       "      <td>...</td>\n",
       "      <td>...</td>\n",
       "      <td>...</td>\n",
       "    </tr>\n",
       "    <tr>\n",
       "      <th>1455</th>\n",
       "      <td>6</td>\n",
       "      <td>2</td>\n",
       "      <td>460</td>\n",
       "      <td>1999</td>\n",
       "      <td>1647</td>\n",
       "      <td>953</td>\n",
       "      <td>None</td>\n",
       "      <td>2000</td>\n",
       "      <td>175000</td>\n",
       "    </tr>\n",
       "    <tr>\n",
       "      <th>1456</th>\n",
       "      <td>6</td>\n",
       "      <td>2</td>\n",
       "      <td>500</td>\n",
       "      <td>1978</td>\n",
       "      <td>2073</td>\n",
       "      <td>1542</td>\n",
       "      <td>Stone</td>\n",
       "      <td>1988</td>\n",
       "      <td>210000</td>\n",
       "    </tr>\n",
       "    <tr>\n",
       "      <th>1457</th>\n",
       "      <td>7</td>\n",
       "      <td>1</td>\n",
       "      <td>252</td>\n",
       "      <td>1941</td>\n",
       "      <td>2340</td>\n",
       "      <td>1152</td>\n",
       "      <td>None</td>\n",
       "      <td>2006</td>\n",
       "      <td>266500</td>\n",
       "    </tr>\n",
       "    <tr>\n",
       "      <th>1458</th>\n",
       "      <td>5</td>\n",
       "      <td>1</td>\n",
       "      <td>240</td>\n",
       "      <td>1950</td>\n",
       "      <td>1078</td>\n",
       "      <td>1078</td>\n",
       "      <td>None</td>\n",
       "      <td>1996</td>\n",
       "      <td>142125</td>\n",
       "    </tr>\n",
       "    <tr>\n",
       "      <th>1459</th>\n",
       "      <td>5</td>\n",
       "      <td>1</td>\n",
       "      <td>276</td>\n",
       "      <td>1965</td>\n",
       "      <td>1256</td>\n",
       "      <td>1256</td>\n",
       "      <td>None</td>\n",
       "      <td>1965</td>\n",
       "      <td>147500</td>\n",
       "    </tr>\n",
       "  </tbody>\n",
       "</table>\n",
       "<p>1121 rows × 9 columns</p>\n",
       "</div>"
      ],
      "text/plain": [
       "      OverallQual  GarageCars  GarageArea  YearBuilt  GrLivArea  TotalBsmtSF  \\\n",
       "0               7           2         548       2003       1710          856   \n",
       "1               6           2         460       1976       1262         1262   \n",
       "2               7           2         608       2001       1786          920   \n",
       "3               7           3         642       1915       1717          756   \n",
       "4               8           3         836       2000       2198         1145   \n",
       "...           ...         ...         ...        ...        ...          ...   \n",
       "1455            6           2         460       1999       1647          953   \n",
       "1456            6           2         500       1978       2073         1542   \n",
       "1457            7           1         252       1941       2340         1152   \n",
       "1458            5           1         240       1950       1078         1078   \n",
       "1459            5           1         276       1965       1256         1256   \n",
       "\n",
       "     MasVnrType  YearRemodAdd  SalePrice  \n",
       "0       BrkFace          2003     208500  \n",
       "1          None          1976     181500  \n",
       "2       BrkFace          2002     223500  \n",
       "3          None          1970     140000  \n",
       "4       BrkFace          2000     250000  \n",
       "...         ...           ...        ...  \n",
       "1455       None          2000     175000  \n",
       "1456      Stone          1988     210000  \n",
       "1457       None          2006     266500  \n",
       "1458       None          1996     142125  \n",
       "1459       None          1965     147500  \n",
       "\n",
       "[1121 rows x 9 columns]"
      ]
     },
     "execution_count": 47,
     "metadata": {},
     "output_type": "execute_result"
    }
   ],
   "source": [
    "data2=data2[(data2[\"OverallQual\"]>=3)&(data2[\"OverallQual\"]<=9)&(data2[\"GarageCars\"]<=3)&\n",
    "            (data2[\"GarageArea\"]<1200)&(data2[\"GrLivArea\"]<3000)&(data2[\"TotalBsmtSF\"]<=2250)]\n",
    "\n",
    "\n",
    "data2"
   ]
  },
  {
   "cell_type": "code",
   "execution_count": null,
   "id": "0ddda556",
   "metadata": {},
   "outputs": [],
   "source": []
  },
  {
   "cell_type": "code",
   "execution_count": 48,
   "id": "db8ab422",
   "metadata": {},
   "outputs": [
    {
     "data": {
      "image/png": "[encoded data removed]",
      "text/plain": [
       "<Figure size 432x288 with 1 Axes>"
      ]
     },
     "metadata": {
      "needs_background": "light"
     },
     "output_type": "display_data"
    }
   ],
   "source": [
    "sns.boxplot(x=data2[\"MasVnrType\"],y=data2[\"TotalBsmtSF\"])\n",
    "\n",
    "plt.xlabel(\"MasVnrType\")\n",
    "\n",
    "plt.ylabel(\"TotalBsmtSF\")\n",
    "\n",
    "plt.title(\"MasVnrType V/S TotalBsmtSF(Treated)\")\n",
    "\n",
    "plt.show()"
   ]
  },
  {
   "cell_type": "code",
   "execution_count": null,
   "id": "bd7aafb8",
   "metadata": {},
   "outputs": [],
   "source": []
  },
  {
   "cell_type": "code",
   "execution_count": 49,
   "id": "01538c24",
   "metadata": {},
   "outputs": [
    {
     "data": {
      "image/png": "[encoded data removed]",
      "text/plain": [
       "<Figure size 432x288 with 1 Axes>"
      ]
     },
     "metadata": {
      "needs_background": "light"
     },
     "output_type": "display_data"
    }
   ],
   "source": [
    "sns.boxplot(x=data2[\"MasVnrType\"],y=data2[\"YearRemodAdd\"])\n",
    "\n",
    "plt.xlabel(\"MasVnrType\")\n",
    "\n",
    "plt.ylabel(\"YearRemodAdd\")\n",
    "\n",
    "plt.title(\"MasVnrType V/S YearRemodAdd\")\n",
    "\n",
    "plt.show()"
   ]
  },
  {
   "cell_type": "code",
   "execution_count": null,
   "id": "843d02d3",
   "metadata": {},
   "outputs": [],
   "source": []
  },
  {
   "cell_type": "code",
   "execution_count": 50,
   "id": "72c5a8ae",
   "metadata": {},
   "outputs": [
    {
     "data": {
      "image/png": "[encoded data removed]",
      "text/plain": [
       "<Figure size 432x288 with 1 Axes>"
      ]
     },
     "metadata": {
      "needs_background": "light"
     },
     "output_type": "display_data"
    }
   ],
   "source": [
    "sns.boxplot(x=data2[\"MasVnrType\"],y=data2[\"SalePrice\"])\n",
    "\n",
    "plt.xlabel(\"MasVnrType\")\n",
    "\n",
    "plt.ylabel(\"SalePrice\")\n",
    "\n",
    "plt.title(\"MasVnrType V/S SalePrice\")\n",
    "\n",
    "plt.show()"
   ]
  },
  {
   "cell_type": "code",
   "execution_count": null,
   "id": "c94e3e50",
   "metadata": {},
   "outputs": [],
   "source": []
  },
  {
   "cell_type": "code",
   "execution_count": 51,
   "id": "5092d1e2",
   "metadata": {},
   "outputs": [
    {
     "data": {
      "text/plain": [
       "OverallQual     0\n",
       "GarageCars      0\n",
       "GarageArea      0\n",
       "YearBuilt       0\n",
       "GrLivArea       0\n",
       "TotalBsmtSF     0\n",
       "MasVnrType      5\n",
       "YearRemodAdd    0\n",
       "SalePrice       0\n",
       "dtype: int64"
      ]
     },
     "execution_count": 51,
     "metadata": {},
     "output_type": "execute_result"
    }
   ],
   "source": [
    "data2.isna().sum()"
   ]
  },
  {
   "cell_type": "code",
   "execution_count": null,
   "id": "509960c6",
   "metadata": {},
   "outputs": [],
   "source": []
  },
  {
   "cell_type": "code",
   "execution_count": 52,
   "id": "87d35b4e",
   "metadata": {},
   "outputs": [
    {
     "name": "stderr",
     "output_type": "stream",
     "text": [
      "C:\\Users\\Arsh\\anaconda3\\lib\\site-packages\\pandas\\util\\_decorators.py:311: SettingWithCopyWarning: \n",
      "A value is trying to be set on a copy of a slice from a DataFrame\n",
      "\n",
      "See the caveats in the documentation: https://pandas.pydata.org/pandas-docs/stable/user_guide/indexing.html#returning-a-view-versus-a-copy\n",
      "  return func(*args, **kwargs)\n"
     ]
    }
   ],
   "source": [
    "data2_new=data2.dropna(inplace=True)"
   ]
  },
  {
   "cell_type": "code",
   "execution_count": null,
   "id": "3a3fe5fc",
   "metadata": {},
   "outputs": [],
   "source": []
  },
  {
   "cell_type": "code",
   "execution_count": 53,
   "id": "f0861cd9",
   "metadata": {},
   "outputs": [],
   "source": [
    "data2_new"
   ]
  },
  {
   "cell_type": "code",
   "execution_count": null,
   "id": "e91a3fa1",
   "metadata": {},
   "outputs": [],
   "source": []
  },
  {
   "cell_type": "code",
   "execution_count": 54,
   "id": "754cd881",
   "metadata": {},
   "outputs": [
    {
     "name": "stdout",
     "output_type": "stream",
     "text": [
      "Original size of Dataset:  1144\n",
      "After Data cleaning size of Dataset:  1116\n",
      "Loss of data:  28\n",
      "Loss% of data:  2.0 %\n"
     ]
    }
   ],
   "source": [
    "print(\"Original size of Dataset: \",len(data1))\n",
    "print(\"After Data cleaning size of Dataset: \",len(data2))\n",
    "print(\"Loss of data: \",len(data1)-len(data2))\n",
    "print(\"Loss% of data: \",round((len(data1)-len(data2))/len(data1),2)*100,\"%\")\n"
   ]
  },
  {
   "cell_type": "code",
   "execution_count": null,
   "id": "6153e212",
   "metadata": {},
   "outputs": [],
   "source": []
  },
  {
   "cell_type": "markdown",
   "id": "9d52ecf9",
   "metadata": {},
   "source": [
    "# Data Preprocessing"
   ]
  },
  {
   "cell_type": "code",
   "execution_count": null,
   "id": "2e93db5e",
   "metadata": {},
   "outputs": [],
   "source": []
  },
  {
   "cell_type": "code",
   "execution_count": 55,
   "id": "b6d28975",
   "metadata": {},
   "outputs": [
    {
     "data": {
      "text/plain": [
       "array(['BrkFace', 'None', 'Stone', 'BrkCmn'], dtype=object)"
      ]
     },
     "execution_count": 55,
     "metadata": {},
     "output_type": "execute_result"
    }
   ],
   "source": [
    "data2[\"MasVnrType\"].unique()"
   ]
  },
  {
   "cell_type": "code",
   "execution_count": null,
   "id": "8b3077e6",
   "metadata": {},
   "outputs": [],
   "source": []
  },
  {
   "cell_type": "code",
   "execution_count": 56,
   "id": "c2125570",
   "metadata": {},
   "outputs": [],
   "source": [
    "from sklearn.preprocessing import LabelEncoder\n",
    "from sklearn.preprocessing import StandardScaler "
   ]
  },
  {
   "cell_type": "code",
   "execution_count": null,
   "id": "2367c16f",
   "metadata": {},
   "outputs": [],
   "source": []
  },
  {
   "cell_type": "code",
   "execution_count": 57,
   "id": "958d6fd7",
   "metadata": {},
   "outputs": [],
   "source": [
    "le=LabelEncoder()\n",
    "sc=StandardScaler()"
   ]
  },
  {
   "cell_type": "code",
   "execution_count": null,
   "id": "c3da61ad",
   "metadata": {},
   "outputs": [],
   "source": []
  },
  {
   "cell_type": "code",
   "execution_count": 58,
   "id": "39741ca2",
   "metadata": {},
   "outputs": [
    {
     "name": "stderr",
     "output_type": "stream",
     "text": [
      "C:\\Users\\Arsh\\AppData\\Local\\Temp/ipykernel_3820/3567950521.py:1: SettingWithCopyWarning: \n",
      "A value is trying to be set on a copy of a slice from a DataFrame.\n",
      "Try using .loc[row_indexer,col_indexer] = value instead\n",
      "\n",
      "See the caveats in the documentation: https://pandas.pydata.org/pandas-docs/stable/user_guide/indexing.html#returning-a-view-versus-a-copy\n",
      "  data2[\"MasVnrType\"]=le.fit_transform(data2[\"MasVnrType\"])\n"
     ]
    }
   ],
   "source": [
    "data2[\"MasVnrType\"]=le.fit_transform(data2[\"MasVnrType\"])"
   ]
  },
  {
   "cell_type": "code",
   "execution_count": null,
   "id": "64e05941",
   "metadata": {},
   "outputs": [],
   "source": []
  },
  {
   "cell_type": "code",
   "execution_count": 59,
   "id": "28432aa2",
   "metadata": {},
   "outputs": [
    {
     "data": {
      "text/plain": [
       "array([1, 2, 3, 0])"
      ]
     },
     "execution_count": 59,
     "metadata": {},
     "output_type": "execute_result"
    }
   ],
   "source": [
    "data2[\"MasVnrType\"].unique()"
   ]
  },
  {
   "cell_type": "code",
   "execution_count": null,
   "id": "823311b1",
   "metadata": {},
   "outputs": [],
   "source": []
  },
  {
   "cell_type": "code",
   "execution_count": 60,
   "id": "d4a5f505",
   "metadata": {},
   "outputs": [
    {
     "data": {
      "text/plain": [
       "2    686\n",
       "1    317\n",
       "3    104\n",
       "0      9\n",
       "Name: MasVnrType, dtype: int64"
      ]
     },
     "execution_count": 60,
     "metadata": {},
     "output_type": "execute_result"
    }
   ],
   "source": [
    "data2[\"MasVnrType\"].value_counts()"
   ]
  },
  {
   "cell_type": "code",
   "execution_count": null,
   "id": "98433ca0",
   "metadata": {},
   "outputs": [],
   "source": []
  },
  {
   "cell_type": "code",
   "execution_count": 61,
   "id": "4ba90913",
   "metadata": {},
   "outputs": [
    {
     "data": {
      "text/html": [
       "<div>\n",
       "<style scoped>\n",
       "    .dataframe tbody tr th:only-of-type {\n",
       "        vertical-align: middle;\n",
       "    }\n",
       "\n",
       "    .dataframe tbody tr th {\n",
       "        vertical-align: top;\n",
       "    }\n",
       "\n",
       "    .dataframe thead th {\n",
       "        text-align: right;\n",
       "    }\n",
       "</style>\n",
       "<table border=\"1\" class=\"dataframe\">\n",
       "  <thead>\n",
       "    <tr style=\"text-align: right;\">\n",
       "      <th></th>\n",
       "      <th>OverallQual</th>\n",
       "      <th>GarageCars</th>\n",
       "      <th>GarageArea</th>\n",
       "      <th>YearBuilt</th>\n",
       "      <th>GrLivArea</th>\n",
       "      <th>TotalBsmtSF</th>\n",
       "      <th>MasVnrType</th>\n",
       "      <th>YearRemodAdd</th>\n",
       "    </tr>\n",
       "  </thead>\n",
       "  <tbody>\n",
       "    <tr>\n",
       "      <th>0</th>\n",
       "      <td>7</td>\n",
       "      <td>2</td>\n",
       "      <td>548</td>\n",
       "      <td>2003</td>\n",
       "      <td>1710</td>\n",
       "      <td>856</td>\n",
       "      <td>1</td>\n",
       "      <td>2003</td>\n",
       "    </tr>\n",
       "    <tr>\n",
       "      <th>1</th>\n",
       "      <td>6</td>\n",
       "      <td>2</td>\n",
       "      <td>460</td>\n",
       "      <td>1976</td>\n",
       "      <td>1262</td>\n",
       "      <td>1262</td>\n",
       "      <td>2</td>\n",
       "      <td>1976</td>\n",
       "    </tr>\n",
       "    <tr>\n",
       "      <th>2</th>\n",
       "      <td>7</td>\n",
       "      <td>2</td>\n",
       "      <td>608</td>\n",
       "      <td>2001</td>\n",
       "      <td>1786</td>\n",
       "      <td>920</td>\n",
       "      <td>1</td>\n",
       "      <td>2002</td>\n",
       "    </tr>\n",
       "    <tr>\n",
       "      <th>3</th>\n",
       "      <td>7</td>\n",
       "      <td>3</td>\n",
       "      <td>642</td>\n",
       "      <td>1915</td>\n",
       "      <td>1717</td>\n",
       "      <td>756</td>\n",
       "      <td>2</td>\n",
       "      <td>1970</td>\n",
       "    </tr>\n",
       "    <tr>\n",
       "      <th>4</th>\n",
       "      <td>8</td>\n",
       "      <td>3</td>\n",
       "      <td>836</td>\n",
       "      <td>2000</td>\n",
       "      <td>2198</td>\n",
       "      <td>1145</td>\n",
       "      <td>1</td>\n",
       "      <td>2000</td>\n",
       "    </tr>\n",
       "    <tr>\n",
       "      <th>...</th>\n",
       "      <td>...</td>\n",
       "      <td>...</td>\n",
       "      <td>...</td>\n",
       "      <td>...</td>\n",
       "      <td>...</td>\n",
       "      <td>...</td>\n",
       "      <td>...</td>\n",
       "      <td>...</td>\n",
       "    </tr>\n",
       "    <tr>\n",
       "      <th>1455</th>\n",
       "      <td>6</td>\n",
       "      <td>2</td>\n",
       "      <td>460</td>\n",
       "      <td>1999</td>\n",
       "      <td>1647</td>\n",
       "      <td>953</td>\n",
       "      <td>2</td>\n",
       "      <td>2000</td>\n",
       "    </tr>\n",
       "    <tr>\n",
       "      <th>1456</th>\n",
       "      <td>6</td>\n",
       "      <td>2</td>\n",
       "      <td>500</td>\n",
       "      <td>1978</td>\n",
       "      <td>2073</td>\n",
       "      <td>1542</td>\n",
       "      <td>3</td>\n",
       "      <td>1988</td>\n",
       "    </tr>\n",
       "    <tr>\n",
       "      <th>1457</th>\n",
       "      <td>7</td>\n",
       "      <td>1</td>\n",
       "      <td>252</td>\n",
       "      <td>1941</td>\n",
       "      <td>2340</td>\n",
       "      <td>1152</td>\n",
       "      <td>2</td>\n",
       "      <td>2006</td>\n",
       "    </tr>\n",
       "    <tr>\n",
       "      <th>1458</th>\n",
       "      <td>5</td>\n",
       "      <td>1</td>\n",
       "      <td>240</td>\n",
       "      <td>1950</td>\n",
       "      <td>1078</td>\n",
       "      <td>1078</td>\n",
       "      <td>2</td>\n",
       "      <td>1996</td>\n",
       "    </tr>\n",
       "    <tr>\n",
       "      <th>1459</th>\n",
       "      <td>5</td>\n",
       "      <td>1</td>\n",
       "      <td>276</td>\n",
       "      <td>1965</td>\n",
       "      <td>1256</td>\n",
       "      <td>1256</td>\n",
       "      <td>2</td>\n",
       "      <td>1965</td>\n",
       "    </tr>\n",
       "  </tbody>\n",
       "</table>\n",
       "<p>1116 rows × 8 columns</p>\n",
       "</div>"
      ],
      "text/plain": [
       "      OverallQual  GarageCars  GarageArea  YearBuilt  GrLivArea  TotalBsmtSF  \\\n",
       "0               7           2         548       2003       1710          856   \n",
       "1               6           2         460       1976       1262         1262   \n",
       "2               7           2         608       2001       1786          920   \n",
       "3               7           3         642       1915       1717          756   \n",
       "4               8           3         836       2000       2198         1145   \n",
       "...           ...         ...         ...        ...        ...          ...   \n",
       "1455            6           2         460       1999       1647          953   \n",
       "1456            6           2         500       1978       2073         1542   \n",
       "1457            7           1         252       1941       2340         1152   \n",
       "1458            5           1         240       1950       1078         1078   \n",
       "1459            5           1         276       1965       1256         1256   \n",
       "\n",
       "      MasVnrType  YearRemodAdd  \n",
       "0              1          2003  \n",
       "1              2          1976  \n",
       "2              1          2002  \n",
       "3              2          1970  \n",
       "4              1          2000  \n",
       "...          ...           ...  \n",
       "1455           2          2000  \n",
       "1456           3          1988  \n",
       "1457           2          2006  \n",
       "1458           2          1996  \n",
       "1459           2          1965  \n",
       "\n",
       "[1116 rows x 8 columns]"
      ]
     },
     "execution_count": 61,
     "metadata": {},
     "output_type": "execute_result"
    }
   ],
   "source": [
    "x=data2.drop(\"SalePrice\",axis=1)\n",
    "\n",
    "x"
   ]
  },
  {
   "cell_type": "code",
   "execution_count": null,
   "id": "e3374850",
   "metadata": {},
   "outputs": [],
   "source": []
  },
  {
   "cell_type": "code",
   "execution_count": 62,
   "id": "8a5d3993",
   "metadata": {},
   "outputs": [
    {
     "data": {
      "text/plain": [
       "0       208500\n",
       "1       181500\n",
       "2       223500\n",
       "3       140000\n",
       "4       250000\n",
       "         ...  \n",
       "1455    175000\n",
       "1456    210000\n",
       "1457    266500\n",
       "1458    142125\n",
       "1459    147500\n",
       "Name: SalePrice, Length: 1116, dtype: int64"
      ]
     },
     "execution_count": 62,
     "metadata": {},
     "output_type": "execute_result"
    }
   ],
   "source": [
    "y=data2[\"SalePrice\"]\n",
    "\n",
    "y"
   ]
  },
  {
   "cell_type": "code",
   "execution_count": null,
   "id": "a57e309c",
   "metadata": {},
   "outputs": [],
   "source": []
  },
  {
   "cell_type": "code",
   "execution_count": 63,
   "id": "cbc4f06d",
   "metadata": {},
   "outputs": [
    {
     "data": {
      "text/plain": [
       "array([[ 0.73981471,  0.38018804,  0.43680603, ..., -0.4403865 ,\n",
       "        -1.30963739,  0.86403167],\n",
       "       [-0.0289313 ,  0.38018804,  0.01173398, ...,  0.60989859,\n",
       "         0.34183755, -0.41181868],\n",
       "       [ 0.73981471,  0.38018804,  0.72662789, ..., -0.27482432,\n",
       "        -1.30963739,  0.81677796],\n",
       "       ...,\n",
       "       [ 0.73981471, -0.95826574, -0.9929818 , ...,  0.32533859,\n",
       "         0.34183755,  1.00579282],\n",
       "       [-0.79767731, -0.95826574, -1.05094617, ...,  0.13390732,\n",
       "         0.34183755,  0.53325566],\n",
       "       [-0.79767731, -0.95826574, -0.87705305, ...,  0.59437713,\n",
       "         0.34183755, -0.93160957]])"
      ]
     },
     "execution_count": 63,
     "metadata": {},
     "output_type": "execute_result"
    }
   ],
   "source": [
    "x_std=sc.fit_transform(x)\n",
    "\n",
    "x_std"
   ]
  },
  {
   "cell_type": "code",
   "execution_count": 64,
   "id": "f584d00e",
   "metadata": {},
   "outputs": [
    {
     "data": {
      "text/plain": [
       "(1116, 8)"
      ]
     },
     "execution_count": 64,
     "metadata": {},
     "output_type": "execute_result"
    }
   ],
   "source": [
    "x_std.shape"
   ]
  },
  {
   "cell_type": "code",
   "execution_count": null,
   "id": "d2d16e62",
   "metadata": {},
   "outputs": [],
   "source": []
  },
  {
   "cell_type": "code",
   "execution_count": 65,
   "id": "b6eaf025",
   "metadata": {},
   "outputs": [
    {
     "data": {
      "text/plain": [
       "(1116,)"
      ]
     },
     "execution_count": 65,
     "metadata": {},
     "output_type": "execute_result"
    }
   ],
   "source": [
    "y.shape"
   ]
  },
  {
   "cell_type": "code",
   "execution_count": null,
   "id": "73fbfae8",
   "metadata": {},
   "outputs": [],
   "source": []
  },
  {
   "cell_type": "code",
   "execution_count": 66,
   "id": "36fd500c",
   "metadata": {},
   "outputs": [
    {
     "data": {
      "text/plain": [
       "numpy.ndarray"
      ]
     },
     "execution_count": 66,
     "metadata": {},
     "output_type": "execute_result"
    }
   ],
   "source": [
    "y=y.to_numpy()\n",
    "\n",
    "type(y)"
   ]
  },
  {
   "cell_type": "code",
   "execution_count": null,
   "id": "a7af5988",
   "metadata": {},
   "outputs": [],
   "source": []
  },
  {
   "cell_type": "markdown",
   "id": "1f0592ae",
   "metadata": {},
   "source": [
    "# Model Training"
   ]
  },
  {
   "cell_type": "code",
   "execution_count": null,
   "id": "0628ffdf",
   "metadata": {},
   "outputs": [],
   "source": []
  },
  {
   "cell_type": "code",
   "execution_count": 67,
   "id": "5771988d",
   "metadata": {},
   "outputs": [],
   "source": [
    "from sklearn.model_selection import train_test_split"
   ]
  },
  {
   "cell_type": "code",
   "execution_count": null,
   "id": "4e9014cb",
   "metadata": {},
   "outputs": [],
   "source": []
  },
  {
   "cell_type": "code",
   "execution_count": 68,
   "id": "403f317e",
   "metadata": {},
   "outputs": [],
   "source": [
    "x_train,x_test,y_train,y_test=train_test_split(x_std,y,test_size=0.2,random_state=0)"
   ]
  },
  {
   "cell_type": "code",
   "execution_count": null,
   "id": "52b4655f",
   "metadata": {},
   "outputs": [],
   "source": []
  },
  {
   "cell_type": "code",
   "execution_count": 69,
   "id": "4b45dd7b",
   "metadata": {},
   "outputs": [
    {
     "data": {
      "text/plain": [
       "(892, 8)"
      ]
     },
     "execution_count": 69,
     "metadata": {},
     "output_type": "execute_result"
    }
   ],
   "source": [
    "x_train.shape"
   ]
  },
  {
   "cell_type": "code",
   "execution_count": null,
   "id": "d02e0250",
   "metadata": {},
   "outputs": [],
   "source": []
  },
  {
   "cell_type": "code",
   "execution_count": 70,
   "id": "56c17d03",
   "metadata": {},
   "outputs": [
    {
     "data": {
      "text/plain": [
       "(892,)"
      ]
     },
     "execution_count": 70,
     "metadata": {},
     "output_type": "execute_result"
    }
   ],
   "source": [
    "y_train.shape"
   ]
  },
  {
   "cell_type": "code",
   "execution_count": null,
   "id": "07d2372a",
   "metadata": {},
   "outputs": [],
   "source": []
  },
  {
   "cell_type": "code",
   "execution_count": 71,
   "id": "a72ca99a",
   "metadata": {},
   "outputs": [
    {
     "data": {
      "text/plain": [
       "(224, 8)"
      ]
     },
     "execution_count": 71,
     "metadata": {},
     "output_type": "execute_result"
    }
   ],
   "source": [
    "x_test.shape"
   ]
  },
  {
   "cell_type": "code",
   "execution_count": null,
   "id": "2c11b609",
   "metadata": {},
   "outputs": [],
   "source": []
  },
  {
   "cell_type": "code",
   "execution_count": 72,
   "id": "080612b1",
   "metadata": {},
   "outputs": [
    {
     "data": {
      "text/plain": [
       "(224,)"
      ]
     },
     "execution_count": 72,
     "metadata": {},
     "output_type": "execute_result"
    }
   ],
   "source": [
    "y_test.shape"
   ]
  },
  {
   "cell_type": "code",
   "execution_count": null,
   "id": "621e87e2",
   "metadata": {},
   "outputs": [],
   "source": []
  },
  {
   "cell_type": "code",
   "execution_count": 73,
   "id": "afed5ced",
   "metadata": {},
   "outputs": [],
   "source": [
    "from sklearn.preprocessing import MinMaxScaler"
   ]
  },
  {
   "cell_type": "code",
   "execution_count": null,
   "id": "61a01fa1",
   "metadata": {},
   "outputs": [],
   "source": []
  },
  {
   "cell_type": "code",
   "execution_count": 74,
   "id": "aec92505",
   "metadata": {},
   "outputs": [],
   "source": [
    "y_train=y_train.reshape(-1,1)\n",
    "y_test=y_test.reshape(-1,1)"
   ]
  },
  {
   "cell_type": "code",
   "execution_count": null,
   "id": "4c2ae23f",
   "metadata": {},
   "outputs": [],
   "source": []
  },
  {
   "cell_type": "code",
   "execution_count": 75,
   "id": "023b36d1",
   "metadata": {},
   "outputs": [
    {
     "data": {
      "text/plain": [
       "MinMaxScaler()"
      ]
     },
     "execution_count": 75,
     "metadata": {},
     "output_type": "execute_result"
    }
   ],
   "source": [
    "minmax=MinMaxScaler()\n",
    "\n",
    "minmax.fit(y_train)"
   ]
  },
  {
   "cell_type": "code",
   "execution_count": null,
   "id": "5b85da26",
   "metadata": {},
   "outputs": [],
   "source": []
  },
  {
   "cell_type": "code",
   "execution_count": 76,
   "id": "7ccca934",
   "metadata": {},
   "outputs": [],
   "source": [
    "y_train=minmax.transform(y_train)\n",
    "y_test=minmax.transform(y_test)"
   ]
  },
  {
   "cell_type": "code",
   "execution_count": null,
   "id": "99dfe2ba",
   "metadata": {},
   "outputs": [],
   "source": []
  },
  {
   "cell_type": "markdown",
   "id": "396d8f12",
   "metadata": {},
   "source": [
    "# Model Training"
   ]
  },
  {
   "cell_type": "code",
   "execution_count": null,
   "id": "76f98de9",
   "metadata": {},
   "outputs": [],
   "source": []
  },
  {
   "cell_type": "code",
   "execution_count": 77,
   "id": "2b34518b",
   "metadata": {},
   "outputs": [],
   "source": [
    "from sklearn.linear_model import LinearRegression\n",
    "from sklearn import metrics"
   ]
  },
  {
   "cell_type": "code",
   "execution_count": null,
   "id": "f8657f02",
   "metadata": {},
   "outputs": [],
   "source": []
  },
  {
   "cell_type": "code",
   "execution_count": 78,
   "id": "38e273e0",
   "metadata": {},
   "outputs": [],
   "source": [
    "lr=LinearRegression()\n",
    "\n",
    "lr.fit(x_train,y_train)\n",
    "\n",
    "ytrain_pred=lr.predict(x_train)\n",
    "\n",
    "#ytrain_pred=minmax.inverse_transform(ytrain_pred)\n",
    "\n",
    "ytest_pred=lr.predict(x_test)\n",
    "\n",
    "#ytest_pred=minmax.inverse_transform(ytest_pred)\n",
    "\n"
   ]
  },
  {
   "cell_type": "code",
   "execution_count": null,
   "id": "6032d299",
   "metadata": {},
   "outputs": [],
   "source": []
  },
  {
   "cell_type": "markdown",
   "id": "154f594a",
   "metadata": {},
   "source": [
    "# Evaluating performance "
   ]
  },
  {
   "cell_type": "code",
   "execution_count": null,
   "id": "022e630e",
   "metadata": {},
   "outputs": [],
   "source": []
  },
  {
   "cell_type": "code",
   "execution_count": 79,
   "id": "8ea74e67",
   "metadata": {},
   "outputs": [],
   "source": [
    "from sklearn.metrics import mean_squared_error"
   ]
  },
  {
   "cell_type": "code",
   "execution_count": null,
   "id": "50567ceb",
   "metadata": {},
   "outputs": [],
   "source": []
  },
  {
   "cell_type": "code",
   "execution_count": 80,
   "id": "f5c94201",
   "metadata": {},
   "outputs": [
    {
     "name": "stdout",
     "output_type": "stream",
     "text": [
      "0.005389362297269707\n"
     ]
    }
   ],
   "source": [
    "print(mean_squared_error(y_train,ytrain_pred))"
   ]
  },
  {
   "cell_type": "code",
   "execution_count": null,
   "id": "b43755ae",
   "metadata": {},
   "outputs": [],
   "source": []
  },
  {
   "cell_type": "code",
   "execution_count": 81,
   "id": "6c79115b",
   "metadata": {},
   "outputs": [
    {
     "name": "stdout",
     "output_type": "stream",
     "text": [
      "0.0068857640935003715\n"
     ]
    }
   ],
   "source": [
    "print(mean_squared_error(y_test,ytest_pred))"
   ]
  },
  {
   "cell_type": "code",
   "execution_count": null,
   "id": "cf008251",
   "metadata": {},
   "outputs": [],
   "source": []
  },
  {
   "cell_type": "code",
   "execution_count": 82,
   "id": "61cf6096",
   "metadata": {},
   "outputs": [
    {
     "name": "stdout",
     "output_type": "stream",
     "text": [
      "Train RMSE:  0.07341227620275581\n",
      "Test RMSE:  0.08298050429769857\n"
     ]
    }
   ],
   "source": [
    "print(\"Train RMSE: \",np.sqrt(metrics.mean_squared_error(y_train,ytrain_pred)))\n",
    "print(\"Test RMSE: \",np.sqrt(metrics.mean_squared_error(y_test,ytest_pred)))"
   ]
  },
  {
   "cell_type": "code",
   "execution_count": null,
   "id": "8d556ff2",
   "metadata": {},
   "outputs": [],
   "source": []
  },
  {
   "cell_type": "code",
   "execution_count": 83,
   "id": "1547efb6",
   "metadata": {},
   "outputs": [
    {
     "data": {
      "text/html": [
       "<div>\n",
       "<style scoped>\n",
       "    .dataframe tbody tr th:only-of-type {\n",
       "        vertical-align: middle;\n",
       "    }\n",
       "\n",
       "    .dataframe tbody tr th {\n",
       "        vertical-align: top;\n",
       "    }\n",
       "\n",
       "    .dataframe thead th {\n",
       "        text-align: right;\n",
       "    }\n",
       "</style>\n",
       "<table border=\"1\" class=\"dataframe\">\n",
       "  <thead>\n",
       "    <tr style=\"text-align: right;\">\n",
       "      <th></th>\n",
       "      <th>OverallQual</th>\n",
       "      <th>GarageCars</th>\n",
       "      <th>GarageArea</th>\n",
       "      <th>YearBuilt</th>\n",
       "      <th>GrLivArea</th>\n",
       "      <th>TotalBsmtSF</th>\n",
       "      <th>MasVnrType</th>\n",
       "      <th>YearRemodAdd</th>\n",
       "      <th>SalePrice</th>\n",
       "    </tr>\n",
       "  </thead>\n",
       "  <tbody>\n",
       "    <tr>\n",
       "      <th>0</th>\n",
       "      <td>7</td>\n",
       "      <td>2</td>\n",
       "      <td>548</td>\n",
       "      <td>2003</td>\n",
       "      <td>1710</td>\n",
       "      <td>856</td>\n",
       "      <td>1</td>\n",
       "      <td>2003</td>\n",
       "      <td>208500</td>\n",
       "    </tr>\n",
       "    <tr>\n",
       "      <th>1</th>\n",
       "      <td>6</td>\n",
       "      <td>2</td>\n",
       "      <td>460</td>\n",
       "      <td>1976</td>\n",
       "      <td>1262</td>\n",
       "      <td>1262</td>\n",
       "      <td>2</td>\n",
       "      <td>1976</td>\n",
       "      <td>181500</td>\n",
       "    </tr>\n",
       "    <tr>\n",
       "      <th>2</th>\n",
       "      <td>7</td>\n",
       "      <td>2</td>\n",
       "      <td>608</td>\n",
       "      <td>2001</td>\n",
       "      <td>1786</td>\n",
       "      <td>920</td>\n",
       "      <td>1</td>\n",
       "      <td>2002</td>\n",
       "      <td>223500</td>\n",
       "    </tr>\n",
       "    <tr>\n",
       "      <th>3</th>\n",
       "      <td>7</td>\n",
       "      <td>3</td>\n",
       "      <td>642</td>\n",
       "      <td>1915</td>\n",
       "      <td>1717</td>\n",
       "      <td>756</td>\n",
       "      <td>2</td>\n",
       "      <td>1970</td>\n",
       "      <td>140000</td>\n",
       "    </tr>\n",
       "    <tr>\n",
       "      <th>4</th>\n",
       "      <td>8</td>\n",
       "      <td>3</td>\n",
       "      <td>836</td>\n",
       "      <td>2000</td>\n",
       "      <td>2198</td>\n",
       "      <td>1145</td>\n",
       "      <td>1</td>\n",
       "      <td>2000</td>\n",
       "      <td>250000</td>\n",
       "    </tr>\n",
       "    <tr>\n",
       "      <th>...</th>\n",
       "      <td>...</td>\n",
       "      <td>...</td>\n",
       "      <td>...</td>\n",
       "      <td>...</td>\n",
       "      <td>...</td>\n",
       "      <td>...</td>\n",
       "      <td>...</td>\n",
       "      <td>...</td>\n",
       "      <td>...</td>\n",
       "    </tr>\n",
       "    <tr>\n",
       "      <th>1455</th>\n",
       "      <td>6</td>\n",
       "      <td>2</td>\n",
       "      <td>460</td>\n",
       "      <td>1999</td>\n",
       "      <td>1647</td>\n",
       "      <td>953</td>\n",
       "      <td>2</td>\n",
       "      <td>2000</td>\n",
       "      <td>175000</td>\n",
       "    </tr>\n",
       "    <tr>\n",
       "      <th>1456</th>\n",
       "      <td>6</td>\n",
       "      <td>2</td>\n",
       "      <td>500</td>\n",
       "      <td>1978</td>\n",
       "      <td>2073</td>\n",
       "      <td>1542</td>\n",
       "      <td>3</td>\n",
       "      <td>1988</td>\n",
       "      <td>210000</td>\n",
       "    </tr>\n",
       "    <tr>\n",
       "      <th>1457</th>\n",
       "      <td>7</td>\n",
       "      <td>1</td>\n",
       "      <td>252</td>\n",
       "      <td>1941</td>\n",
       "      <td>2340</td>\n",
       "      <td>1152</td>\n",
       "      <td>2</td>\n",
       "      <td>2006</td>\n",
       "      <td>266500</td>\n",
       "    </tr>\n",
       "    <tr>\n",
       "      <th>1458</th>\n",
       "      <td>5</td>\n",
       "      <td>1</td>\n",
       "      <td>240</td>\n",
       "      <td>1950</td>\n",
       "      <td>1078</td>\n",
       "      <td>1078</td>\n",
       "      <td>2</td>\n",
       "      <td>1996</td>\n",
       "      <td>142125</td>\n",
       "    </tr>\n",
       "    <tr>\n",
       "      <th>1459</th>\n",
       "      <td>5</td>\n",
       "      <td>1</td>\n",
       "      <td>276</td>\n",
       "      <td>1965</td>\n",
       "      <td>1256</td>\n",
       "      <td>1256</td>\n",
       "      <td>2</td>\n",
       "      <td>1965</td>\n",
       "      <td>147500</td>\n",
       "    </tr>\n",
       "  </tbody>\n",
       "</table>\n",
       "<p>1116 rows × 9 columns</p>\n",
       "</div>"
      ],
      "text/plain": [
       "      OverallQual  GarageCars  GarageArea  YearBuilt  GrLivArea  TotalBsmtSF  \\\n",
       "0               7           2         548       2003       1710          856   \n",
       "1               6           2         460       1976       1262         1262   \n",
       "2               7           2         608       2001       1786          920   \n",
       "3               7           3         642       1915       1717          756   \n",
       "4               8           3         836       2000       2198         1145   \n",
       "...           ...         ...         ...        ...        ...          ...   \n",
       "1455            6           2         460       1999       1647          953   \n",
       "1456            6           2         500       1978       2073         1542   \n",
       "1457            7           1         252       1941       2340         1152   \n",
       "1458            5           1         240       1950       1078         1078   \n",
       "1459            5           1         276       1965       1256         1256   \n",
       "\n",
       "      MasVnrType  YearRemodAdd  SalePrice  \n",
       "0              1          2003     208500  \n",
       "1              2          1976     181500  \n",
       "2              1          2002     223500  \n",
       "3              2          1970     140000  \n",
       "4              1          2000     250000  \n",
       "...          ...           ...        ...  \n",
       "1455           2          2000     175000  \n",
       "1456           3          1988     210000  \n",
       "1457           2          2006     266500  \n",
       "1458           2          1996     142125  \n",
       "1459           2          1965     147500  \n",
       "\n",
       "[1116 rows x 9 columns]"
      ]
     },
     "execution_count": 83,
     "metadata": {},
     "output_type": "execute_result"
    }
   ],
   "source": [
    "data2"
   ]
  },
  {
   "cell_type": "code",
   "execution_count": 84,
   "id": "3f012f79",
   "metadata": {},
   "outputs": [
    {
     "data": {
      "text/plain": [
       "array([[ 0.73981471,  0.38018804,  0.43680603, ..., -0.4403865 ,\n",
       "        -1.30963739,  0.86403167],\n",
       "       [-0.0289313 ,  0.38018804,  0.01173398, ...,  0.60989859,\n",
       "         0.34183755, -0.41181868],\n",
       "       [ 0.73981471,  0.38018804,  0.72662789, ..., -0.27482432,\n",
       "        -1.30963739,  0.81677796],\n",
       "       ...,\n",
       "       [ 0.73981471, -0.95826574, -0.9929818 , ...,  0.32533859,\n",
       "         0.34183755,  1.00579282],\n",
       "       [-0.79767731, -0.95826574, -1.05094617, ...,  0.13390732,\n",
       "         0.34183755,  0.53325566],\n",
       "       [-0.79767731, -0.95826574, -0.87705305, ...,  0.59437713,\n",
       "         0.34183755, -0.93160957]])"
      ]
     },
     "execution_count": 84,
     "metadata": {},
     "output_type": "execute_result"
    }
   ],
   "source": [
    "x_std"
   ]
  },
  {
   "cell_type": "code",
   "execution_count": 85,
   "id": "90d7f198",
   "metadata": {},
   "outputs": [],
   "source": [
    "ps_x=np.array([[7],[3],[645],[1918],[1720],[760],[2],[1973]])"
   ]
  },
  {
   "cell_type": "code",
   "execution_count": null,
   "id": "973800be",
   "metadata": {},
   "outputs": [],
   "source": []
  },
  {
   "cell_type": "code",
   "execution_count": 86,
   "id": "ecbeee39",
   "metadata": {},
   "outputs": [
    {
     "data": {
      "text/plain": [
       "array([[ 0.73981471,  1.71864181,  0.90535137, -1.66365694,  0.59499767,\n",
       "        -0.68872978,  0.34183755, -0.55357983]])"
      ]
     },
     "execution_count": 86,
     "metadata": {},
     "output_type": "execute_result"
    }
   ],
   "source": [
    "ps_x=ps_x.reshape(1,-1)\n",
    "\n",
    "ps_xstd=sc.transform(ps_x)\n",
    "\n",
    "ps_xstd"
   ]
  },
  {
   "cell_type": "code",
   "execution_count": null,
   "id": "f301f8d9",
   "metadata": {},
   "outputs": [],
   "source": []
  },
  {
   "cell_type": "code",
   "execution_count": 87,
   "id": "618bae25",
   "metadata": {},
   "outputs": [
    {
     "name": "stdout",
     "output_type": "stream",
     "text": [
      "[[175454.8896942]]\n"
     ]
    }
   ],
   "source": [
    "ps_ypred=lr.predict(ps_xstd)\n",
    "\n",
    "ps_ypred=minmax.inverse_transform(ps_ypred)\n",
    "\n",
    "print(ps_ypred)"
   ]
  },
  {
   "cell_type": "code",
   "execution_count": null,
   "id": "737dc6b0",
   "metadata": {},
   "outputs": [],
   "source": []
  },
  {
   "cell_type": "markdown",
   "id": "f4b79e19",
   "metadata": {},
   "source": [
    "# Saving the model/Scales"
   ]
  },
  {
   "cell_type": "code",
   "execution_count": null,
   "id": "16c083b1",
   "metadata": {},
   "outputs": [],
   "source": []
  },
  {
   "cell_type": "code",
   "execution_count": 96,
   "id": "ce39cb3b",
   "metadata": {},
   "outputs": [
    {
     "data": {
      "text/plain": [
       "['C:/Users/Arsh/Desktop/django Project/house_pricing/static/ml model/price.pkl']"
      ]
     },
     "execution_count": 96,
     "metadata": {},
     "output_type": "execute_result"
    }
   ],
   "source": [
    "import joblib\n",
    "\n",
    "joblib.dump(lr,\"C:/Users/Arsh/Desktop/django Project/house_pricing/static/ml model/price.pkl\")"
   ]
  },
  {
   "cell_type": "code",
   "execution_count": null,
   "id": "5b0ce1ba",
   "metadata": {},
   "outputs": [],
   "source": []
  },
  {
   "cell_type": "code",
   "execution_count": 97,
   "id": "8d15b8ae",
   "metadata": {},
   "outputs": [
    {
     "data": {
      "text/plain": [
       "['C:/Users/Arsh/Desktop/django Project/house_pricing/static/ml model/standardsc.pkl']"
      ]
     },
     "execution_count": 97,
     "metadata": {},
     "output_type": "execute_result"
    }
   ],
   "source": [
    "joblib.dump(sc,\"C:/Users/Arsh/Desktop/django Project/house_pricing/static/ml model/standardsc.pkl\")"
   ]
  },
  {
   "cell_type": "code",
   "execution_count": null,
   "id": "5f2f977e",
   "metadata": {},
   "outputs": [],
   "source": []
  },
  {
   "cell_type": "code",
   "execution_count": 98,
   "id": "e727c2aa",
   "metadata": {},
   "outputs": [
    {
     "data": {
      "text/plain": [
       "['C:/Users/Arsh/Desktop/django Project/house_pricing/static/ml model/minmaxsc.pkl']"
      ]
     },
     "execution_count": 98,
     "metadata": {},
     "output_type": "execute_result"
    }
   ],
   "source": [
    "joblib.dump(minmax,\"C:/Users/Arsh/Desktop/django Project/house_pricing/static/ml model/minmaxsc.pkl\")"
   ]
  },
  {
   "cell_type": "code",
   "execution_count": null,
   "id": "094ae68b",
   "metadata": {},
   "outputs": [],
   "source": []
  },
  {
   "cell_type": "code",
   "execution_count": 99,
   "id": "2d8418df",
   "metadata": {},
   "outputs": [
    {
     "data": {
      "text/plain": [
       "['C:/Users/Arsh/Desktop/django Project/house_pricing/static/ml model/labelenc.pkl']"
      ]
     },
     "execution_count": 99,
     "metadata": {},
     "output_type": "execute_result"
    }
   ],
   "source": [
    "joblib.dump(le,\"C:/Users/Arsh/Desktop/django Project/house_pricing/static/ml model/labelenc.pkl\")"
   ]
  },
  {
   "cell_type": "code",
   "execution_count": 92,
   "id": "b1c99ab6",
   "metadata": {},
   "outputs": [
    {
     "name": "stdout",
     "output_type": "stream",
     "text": [
      "0\n"
     ]
    }
   ],
   "source": [
    "mvt=[\"BrkCmn\"]\n",
    "\n",
    "cmvt=le.transform(mvt)[0]\n",
    "\n",
    "print(cmvt)"
   ]
  },
  {
   "cell_type": "markdown",
   "id": "6a3b26da",
   "metadata": {},
   "source": [
    "# ML code in django backend"
   ]
  },
  {
   "cell_type": "code",
   "execution_count": null,
   "id": "bbc69d97",
   "metadata": {},
   "outputs": [],
   "source": []
  },
  {
   "cell_type": "code",
   "execution_count": 93,
   "id": "1738f07b",
   "metadata": {},
   "outputs": [
    {
     "name": "stdout",
     "output_type": "stream",
     "text": [
      "175454.89\n"
     ]
    }
   ],
   "source": [
    "a=7\n",
    "b=3\n",
    "c=645\n",
    "d=1918\n",
    "e=1720\n",
    "f=760\n",
    "g=[\"None\"]\n",
    "h=1973\n",
    "\n",
    "conv_g=le.transform(g)[0]\n",
    "ps_x=np.array([[a],[b],[c],[d],[e],[f],[conv_g],[h]])\n",
    "\n",
    "ps_x=ps_x.reshape(1,-1)\n",
    "\n",
    "ps_xstd=sc.transform(ps_x)\n",
    "\n",
    "ps_ypred=lr.predict(ps_xstd)\n",
    "\n",
    "ps_ypred=minmax.inverse_transform(ps_ypred)\n",
    "\n",
    "ans=ps_ypred[0]\n",
    "\n",
    "print(round(ans[0],2))"
   ]
  },
  {
   "cell_type": "code",
   "execution_count": null,
   "id": "51bacd87",
   "metadata": {},
   "outputs": [],
   "source": []
  },
  {
   "cell_type": "markdown",
   "id": "e4595a44",
   "metadata": {},
   "source": [
    "# Saved model and scales testing"
   ]
  },
  {
   "cell_type": "code",
   "execution_count": null,
   "id": "1651742d",
   "metadata": {},
   "outputs": [],
   "source": []
  },
  {
   "cell_type": "code",
   "execution_count": 94,
   "id": "6cb04289",
   "metadata": {},
   "outputs": [
    {
     "name": "stdout",
     "output_type": "stream",
     "text": [
      "175454.89\n"
     ]
    }
   ],
   "source": [
    "sc1=joblib.load('C:/Users/Arsh/Desktop/django Project/house_pricing/static/ml model/standardsc.sav')\n",
    "minmax1=joblib.load('C:/Users/Arsh/Desktop/django Project/house_pricing/static/ml model/minmaxsc.sav')\n",
    "lr1=joblib.load('C:/Users/Arsh/Desktop/django Project/house_pricing/static/ml model/price.sav')\n",
    "le1=joblib.load('C:/Users/Arsh/Desktop/django Project/house_pricing/static/ml model/labelenc.sav')\n",
    "\n",
    "a=7\n",
    "b=3\n",
    "c=645\n",
    "d=1918\n",
    "e=1720\n",
    "f=760\n",
    "g=[\"None\"]\n",
    "h=1973\n",
    "\n",
    "conv_g=le.transform(g)[0]\n",
    "\n",
    "ps_x=np.array([[a],[b],[c],[d],[e],[f],[conv_g],[h]])\n",
    "\n",
    "ps_x=ps_x.reshape(1,-1)\n",
    "\n",
    "ps_xstd=sc1.transform(ps_x)\n",
    "\n",
    "ps_ypred=lr1.predict(ps_xstd)\n",
    "\n",
    "ps_ypred=minmax1.inverse_transform(ps_ypred)\n",
    "\n",
    "ans=ps_ypred[0]\n",
    "\n",
    "print(round(ans[0],2))"
   ]
  }
 ],
 "metadata": {
  "kernelspec": {
   "display_name": "Python 3 (ipykernel)",
   "language": "python",
   "name": "python3"
  },
  "language_info": {
   "codemirror_mode": {
    "name": "ipython",
    "version": 3
   },
   "file_extension": ".py",
   "mimetype": "text/x-python",
   "name": "python",
   "nbconvert_exporter": "python",
   "pygments_lexer": "ipython3",
   "version": "3.9.7"
  }
 },
 "nbformat": 4,
 "nbformat_minor": 5
}
